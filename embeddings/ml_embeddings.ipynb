{
 "cells": [
  {
   "cell_type": "markdown",
   "metadata": {
    "colab_type": "text",
    "id": "q9jUc9NwH4HT"
   },
   "source": [
    "### Setup"
   ]
  },
  {
   "cell_type": "code",
   "execution_count": 1,
   "metadata": {
    "ExecuteTime": {
     "end_time": "2018-04-23T06:04:32.507674Z",
     "start_time": "2018-04-23T06:04:05.679429Z"
    },
    "colab": {
     "autoexec": {
      "startup": false,
      "wait_interval": 0
     }
    },
    "colab_type": "code",
    "id": "AMzwoDSDH6Qs"
   },
   "outputs": [
    {
     "name": "stderr",
     "output_type": "stream",
     "text": [
      "/usr/local/lib64/python3.6/site-packages/h5py/__init__.py:36: FutureWarning: Conversion of the second argument of issubdtype from `float` to `np.floating` is deprecated. In future, it will be treated as `np.float64 == np.dtype(float).type`.\n",
      "  from ._conv import register_converters as _register_converters\n"
     ]
    }
   ],
   "source": [
    "import collections\n",
    "import math\n",
    "\n",
    "from IPython import display\n",
    "from matplotlib import style\n",
    "from matplotlib import pyplot as plt\n",
    "import numpy as np\n",
    "import pandas as pd\n",
    "import tensorflow as tf\n",
    "from sklearn import metrics\n",
    "\n",
    "tf.logging.set_verbosity(tf.logging.ERROR)\n",
    "style.use('ggplot')"
   ]
  },
  {
   "cell_type": "markdown",
   "metadata": {
    "colab_type": "text",
    "id": "UzRL8JNZImN1"
   },
   "source": [
    "### Load Dataset"
   ]
  },
  {
   "cell_type": "code",
   "execution_count": 2,
   "metadata": {
    "ExecuteTime": {
     "end_time": "2018-04-23T06:05:48.851419Z",
     "start_time": "2018-04-23T06:04:32.511359Z"
    },
    "colab": {
     "autoexec": {
      "startup": false,
      "wait_interval": 0
     }
    },
    "colab_type": "code",
    "id": "mGsmgvKbJN0g"
   },
   "outputs": [
    {
     "name": "stdout",
     "output_type": "stream",
     "text": [
      "Downloading data from https://storage.googleapis.com/mledu-datasets/sparse-data-embedding/train.tfrecord\n",
      "41631744/41625533 [==============================] - 38s 1us/step\n",
      "Downloading data from https://storage.googleapis.com/mledu-datasets/sparse-data-embedding/test.tfrecord\n",
      "40689664/40688441 [==============================] - 35s 1us/step\n"
     ]
    }
   ],
   "source": [
    "train_url = 'https://storage.googleapis.com/mledu-datasets/sparse-data-embedding/train.tfrecord'\n",
    "train_path = tf.keras.utils.get_file(train_url.split('/')[-1], train_url)\n",
    "test_url = 'https://storage.googleapis.com/mledu-datasets/sparse-data-embedding/test.tfrecord'\n",
    "test_path = tf.keras.utils.get_file(test_url.split('/')[-1], test_url)"
   ]
  },
  {
   "cell_type": "code",
   "execution_count": 3,
   "metadata": {
    "ExecuteTime": {
     "end_time": "2018-04-23T06:05:48.860947Z",
     "start_time": "2018-04-23T06:05:48.855418Z"
    },
    "colab": {
     "autoexec": {
      "startup": false,
      "wait_interval": 0
     },
     "base_uri": "https://localhost:8080/",
     "height": 51
    },
    "colab_type": "code",
    "executionInfo": {
     "elapsed": 865,
     "status": "ok",
     "timestamp": 1524410630838,
     "user": {
      "displayName": "Mohammed Saifuddin",
      "photoUrl": "//lh5.googleusercontent.com/-WA85hItRjEY/AAAAAAAAAAI/AAAAAAAAAbE/UJEAr4wXn1Y/s50-c-k-no/photo.jpg",
      "userId": "107128453463956036616"
     },
     "user_tz": -330
    },
    "id": "0Y8O4GMsJjIU",
    "outputId": "e4f7cd47-78f4-4c28-a807-8a687d7dae92"
   },
   "outputs": [
    {
     "name": "stdout",
     "output_type": "stream",
     "text": [
      "/home/ace/.keras/datasets/train.tfrecord\n",
      "/home/ace/.keras/datasets/test.tfrecord\n"
     ]
    }
   ],
   "source": [
    "print(train_path)\n",
    "print(test_path)"
   ]
  },
  {
   "cell_type": "markdown",
   "metadata": {
    "colab_type": "text",
    "id": "xBfXJf56KJs_"
   },
   "source": [
    "### Building a Sentiment Analysis Model"
   ]
  },
  {
   "cell_type": "markdown",
   "metadata": {
    "colab_type": "text",
    "id": "yHlI8S9_PWjw"
   },
   "source": [
    "Vocabulary: list of each term we expect to see in data. We will turn our string-values into features vectors by using vocabulary. Each term in vocabulary is mapped to a cooridinate of feature vector. To convert string-value terms for an example into this vector format, we encode.\n",
    "\n",
    "Encoding happens this way...\n",
    "\n",
    "* Each coordinate gets a value of `0` if, vocabulary terms not found in the given example. Elsewhere `1` if found.\n",
    "* If examples terms not in vocabulary, then `throw away` those example terms."
   ]
  },
  {
   "cell_type": "markdown",
   "metadata": {
    "colab_type": "text",
    "id": "2vZxjAp7RcBy"
   },
   "source": [
    "### Building the Input Pipeline"
   ]
  },
  {
   "cell_type": "code",
   "execution_count": 4,
   "metadata": {
    "ExecuteTime": {
     "end_time": "2018-04-23T06:05:48.981671Z",
     "start_time": "2018-04-23T06:05:48.864114Z"
    },
    "colab": {
     "autoexec": {
      "startup": false,
      "wait_interval": 0
     }
    },
    "colab_type": "code",
    "id": "8B54UNk9JxY2"
   },
   "outputs": [],
   "source": [
    "def _parse_function(record):\n",
    "    \"\"\"Extracts features and labels.\n",
    "    \n",
    "    Args:\n",
    "        record: File path to a TFRecord file    \n",
    "    Returns:\n",
    "        A `tuple` `(labels, features)`:\n",
    "            features: A dict of tensors representing the features\n",
    "            labels: A tensor with the corresponding labels.\n",
    "    \"\"\"\n",
    "    features = {\n",
    "        \"terms\": tf.VarLenFeature(dtype=tf.string), # terms are strings of varying lengths\n",
    "        \"labels\": tf.FixedLenFeature(shape=[1], dtype=tf.float32) # labels are 0 or 1\n",
    "    }\n",
    "    \n",
    "    parsed_features = tf.parse_single_example(record, features)\n",
    "    \n",
    "    terms = parsed_features['terms'].values\n",
    "    labels = parsed_features['labels']\n",
    "    \n",
    "    return {'terms': terms}, labels"
   ]
  },
  {
   "cell_type": "code",
   "execution_count": 5,
   "metadata": {
    "ExecuteTime": {
     "end_time": "2018-04-23T06:05:49.424483Z",
     "start_time": "2018-04-23T06:05:48.985923Z"
    },
    "colab": {
     "autoexec": {
      "startup": false,
      "wait_interval": 0
     },
     "base_uri": "https://localhost:8080/",
     "height": 34
    },
    "colab_type": "code",
    "executionInfo": {
     "elapsed": 850,
     "status": "ok",
     "timestamp": 1524410636462,
     "user": {
      "displayName": "Mohammed Saifuddin",
      "photoUrl": "//lh5.googleusercontent.com/-WA85hItRjEY/AAAAAAAAAAI/AAAAAAAAAbE/UJEAr4wXn1Y/s50-c-k-no/photo.jpg",
      "userId": "107128453463956036616"
     },
     "user_tz": -330
    },
    "id": "ifcimjQTTyT-",
    "outputId": "56ec8d68-c099-42cf-c776-4400225cc67f"
   },
   "outputs": [
    {
     "data": {
      "text/plain": [
       "<MapDataset shapes: ({terms: (?,)}, (1,)), types: ({terms: tf.string}, tf.float32)>"
      ]
     },
     "execution_count": 5,
     "metadata": {},
     "output_type": "execute_result"
    }
   ],
   "source": [
    "# Create the Dataset object\n",
    "ds = tf.data.TFRecordDataset(train_path)\n",
    "# Map the features and labels with parse function\n",
    "ds = ds.map(_parse_function)\n",
    "ds"
   ]
  },
  {
   "cell_type": "code",
   "execution_count": 6,
   "metadata": {
    "ExecuteTime": {
     "end_time": "2018-04-23T06:05:50.012514Z",
     "start_time": "2018-04-23T06:05:49.428266Z"
    },
    "colab": {
     "autoexec": {
      "startup": false,
      "wait_interval": 0
     },
     "base_uri": "https://localhost:8080/",
     "height": 578
    },
    "colab_type": "code",
    "executionInfo": {
     "elapsed": 1589,
     "status": "ok",
     "timestamp": 1524410638990,
     "user": {
      "displayName": "Mohammed Saifuddin",
      "photoUrl": "//lh5.googleusercontent.com/-WA85hItRjEY/AAAAAAAAAAI/AAAAAAAAAbE/UJEAr4wXn1Y/s50-c-k-no/photo.jpg",
      "userId": "107128453463956036616"
     },
     "user_tz": -330
    },
    "id": "idWOJac4UdVI",
    "outputId": "812893c2-e6b0-4cbb-9c05-3dc71a8afd83"
   },
   "outputs": [
    {
     "data": {
      "text/plain": [
       "({'terms': array([b'but', b'it', b'does', b'have', b'some', b'good', b'action',\n",
       "         b'and', b'a', b'plot', b'that', b'is', b'somewhat', b'interesting',\n",
       "         b'.', b'nevsky', b'acts', b'like', b'a', b'body', b'builder',\n",
       "         b'and', b'he', b'isn', b\"'\", b't', b'all', b'that', b'attractive',\n",
       "         b',', b'in', b'fact', b',', b'imo', b',', b'he', b'is', b'ugly',\n",
       "         b'.', b'(', b'his', b'acting', b'skills', b'lack', b'everything',\n",
       "         b'!', b')', b'sascha', b'is', b'played', b'very', b'well', b'by',\n",
       "         b'joanna', b'pacula', b',', b'but', b'she', b'needed', b'more',\n",
       "         b'lines', b'than', b'she', b'was', b'given', b',', b'her',\n",
       "         b'character', b'needed', b'to', b'be', b'developed', b'.',\n",
       "         b'there', b'are', b'way', b'too', b'many', b'men', b'in', b'this',\n",
       "         b'story', b',', b'there', b'is', b'zero', b'romance', b',', b'too',\n",
       "         b'much', b'action', b',', b'and', b'way', b'too', b'dumb', b'of',\n",
       "         b'an', b'ending', b'.', b'it', b'is', b'very', b'violent', b'.',\n",
       "         b'i', b'did', b'however', b'love', b'the', b'scenery', b',',\n",
       "         b'this', b'movie', b'takes', b'you', b'all', b'over', b'the',\n",
       "         b'world', b',', b'and', b'that', b'is', b'a', b'bonus', b'.', b'i',\n",
       "         b'also', b'liked', b'how', b'it', b'had', b'some', b'stuff',\n",
       "         b'about', b'the', b'mafia', b'in', b'it', b',', b'not', b'too',\n",
       "         b'much', b'or', b'too', b'little', b',', b'but', b'enough',\n",
       "         b'that', b'it', b'got', b'my', b'attention', b'.', b'the',\n",
       "         b'actors', b'needed', b'to', b'be', b'more', b'handsome', b'.',\n",
       "         b'.', b'.', b'the', b'biggest', b'problem', b'i', b'had', b'was',\n",
       "         b'that', b'nevsky', b'was', b'just', b'too', b'normal', b',',\n",
       "         b'not', b'sexy', b'enough', b'.', b'i', b'think', b'for', b'most',\n",
       "         b'guys', b',', b'sascha', b'will', b'be', b'hot', b'enough', b',',\n",
       "         b'but', b'for', b'us', b'ladies', b'that', b'are', b'fans', b'of',\n",
       "         b'action', b',', b'nevsky', b'just', b'doesn', b\"'\", b't', b'cut',\n",
       "         b'it', b'.', b'overall', b',', b'this', b'movie', b'was', b'fine',\n",
       "         b',', b'i', b'didn', b\"'\", b't', b'love', b'it', b'nor', b'did',\n",
       "         b'i', b'hate', b'it', b',', b'just', b'found', b'it', b'to', b'be',\n",
       "         b'another', b'normal', b'action', b'flick', b'.'], dtype=object)},\n",
       " array([0.], dtype=float32))"
      ]
     },
     "execution_count": 6,
     "metadata": {},
     "output_type": "execute_result"
    }
   ],
   "source": [
    "n = ds.make_one_shot_iterator().get_next() # retrieve the first example of training dataset.\n",
    "sess = tf.Session()\n",
    "sess.run(n)"
   ]
  },
  {
   "cell_type": "markdown",
   "metadata": {
    "colab_type": "text",
    "id": "LUNFXodNWFeL"
   },
   "source": [
    "### Input Function"
   ]
  },
  {
   "cell_type": "code",
   "execution_count": 7,
   "metadata": {
    "ExecuteTime": {
     "end_time": "2018-04-23T06:05:50.028548Z",
     "start_time": "2018-04-23T06:05:50.020121Z"
    },
    "colab": {
     "autoexec": {
      "startup": false,
      "wait_interval": 0
     }
    },
    "colab_type": "code",
    "id": "agqJDeiHV3da"
   },
   "outputs": [],
   "source": [
    "# Create an input_fn that parses the tf.Examples from the given files,\n",
    "# and split them into features and targets\n",
    "def _input_fn(input_filenames, num_epochs=None, shuffle=True):\n",
    "  \n",
    "    # Create a dataset and map features and labels\n",
    "    ds = tf.data.TFRecordDataset(input_filenames)\n",
    "    ds = ds.map(_parse_function)\n",
    "\n",
    "    if shuffle:\n",
    "        ds = ds.shuffle(10000)\n",
    "\n",
    "    # Our feature data is variable-length, so we pad and batch\n",
    "    # each field of the dataset structure to whatever size is necessary.\n",
    "    ds = ds.padded_batch(25, ds.output_shapes)\n",
    "\n",
    "    ds = ds.repeat(num_epochs)\n",
    "\n",
    "    # Return the next batch of data.\n",
    "    features, labels = ds.make_one_shot_iterator().get_next()\n",
    "    return features, labels"
   ]
  },
  {
   "cell_type": "markdown",
   "metadata": {
    "colab_type": "text",
    "id": "bJP2yHLdZMi2"
   },
   "source": [
    "### Linear Model with Sparse Inputs and Explicit Vocabulary"
   ]
  },
  {
   "cell_type": "code",
   "execution_count": 17,
   "metadata": {
    "ExecuteTime": {
     "end_time": "2018-04-23T06:09:11.729554Z",
     "start_time": "2018-04-23T06:09:11.716662Z"
    },
    "colab": {
     "autoexec": {
      "startup": false,
      "wait_interval": 0
     }
    },
    "colab_type": "code",
    "id": "eqgl8935XmHf"
   },
   "outputs": [],
   "source": [
    "# 50 informative terms that compose our model vocabulary \n",
    "informative_terms = (\"bad\", \"great\", \"best\", \"worst\", \"fun\", \"beautiful\",\n",
    "                     \"excellent\", \"poor\", \"boring\", \"awful\", \"terrible\",\n",
    "                     \"definitely\", \"perfect\", \"liked\", \"worse\", \"waste\",\n",
    "                     \"entertaining\", \"loved\", \"unfortunately\", \"amazing\",\n",
    "                     \"enjoyed\", \"favorite\", \"horrible\", \"brilliant\", \"highly\",\n",
    "                     \"simple\", \"annoying\", \"today\", \"hilarious\", \"enjoyable\",\n",
    "                     \"dull\", \"fantastic\", \"poorly\", \"fails\", \"disappointing\",\n",
    "                     \"disappointment\", \"not\", \"him\", \"her\", \"good\", \"time\",\n",
    "                     \"?\", \".\", \"!\", \"movie\", \"film\", \"action\", \"comedy\",\n",
    "                     \"drama\", \"family\")\n",
    "\n",
    "terms_feature_column = tf.feature_column.categorical_column_with_vocabulary_list(\n",
    "    key=\"terms\", vocabulary_list=informative_terms)"
   ]
  },
  {
   "cell_type": "code",
   "execution_count": 9,
   "metadata": {
    "ExecuteTime": {
     "end_time": "2018-04-23T06:06:38.844734Z",
     "start_time": "2018-04-23T06:05:50.160567Z"
    },
    "colab": {
     "autoexec": {
      "startup": false,
      "wait_interval": 0
     },
     "base_uri": "https://localhost:8080/",
     "height": 391
    },
    "colab_type": "code",
    "executionInfo": {
     "elapsed": 50834,
     "status": "ok",
     "timestamp": 1524410324720,
     "user": {
      "displayName": "Mohammed Saifuddin",
      "photoUrl": "//lh5.googleusercontent.com/-WA85hItRjEY/AAAAAAAAAAI/AAAAAAAAAbE/UJEAr4wXn1Y/s50-c-k-no/photo.jpg",
      "userId": "107128453463956036616"
     },
     "user_tz": -330
    },
    "id": "FGewn5hTZtQu",
    "outputId": "f4ca8ace-1c3b-4ab5-e6e1-45e3937d2f60"
   },
   "outputs": [
    {
     "name": "stdout",
     "output_type": "stream",
     "text": [
      "Training set metrics: \n",
      "accuracy 0.78808\n",
      "accuracy_baseline 0.5\n",
      "auc 0.8722376\n",
      "auc_precision_recall 0.8640298\n",
      "average_loss 0.4508523\n",
      "label/mean 0.5\n",
      "loss 11.271308\n",
      "prediction/mean 0.48792908\n",
      "global_step 1000\n",
      "---\n",
      "Testing set metrics: \n",
      "accuracy 0.78428\n",
      "accuracy_baseline 0.5\n",
      "auc 0.8699452\n",
      "auc_precision_recall 0.86134887\n",
      "average_loss 0.4527421\n",
      "label/mean 0.5\n",
      "loss 11.318553\n",
      "prediction/mean 0.48654813\n",
      "global_step 1000\n",
      "---\n"
     ]
    }
   ],
   "source": [
    "my_optimizer = tf.train.AdagradOptimizer(learning_rate=0.1)\n",
    "my_optimizer = tf.contrib.estimator.clip_gradients_by_norm(my_optimizer, 5.0)\n",
    "\n",
    "feature_columns = [ terms_feature_column ]\n",
    "\n",
    "classifier = tf.estimator.LinearClassifier(\n",
    "    feature_columns = feature_columns,\n",
    "    optimizer = my_optimizer\n",
    ")\n",
    "\n",
    "classifier.train(\n",
    "    input_fn = lambda: _input_fn([train_path]),\n",
    "    steps = 1000\n",
    ")\n",
    "\n",
    "evaluation_metrics = classifier.evaluate(\n",
    "    input_fn = lambda: _input_fn([train_path]),\n",
    "    steps = 1000\n",
    ")\n",
    "print(\"Training set metrics: \")\n",
    "for m in evaluation_metrics:\n",
    "    print(m, evaluation_metrics[m])\n",
    "print(\"---\")\n",
    "\n",
    "evaluation_metrics = classifier.evaluate(\n",
    "    input_fn = lambda: _input_fn([test_path]),\n",
    "    steps = 1000\n",
    ")\n",
    "print(\"Testing set metrics: \")\n",
    "for m in evaluation_metrics:\n",
    "    print(m, evaluation_metrics[m])\n",
    "print(\"---\")"
   ]
  },
  {
   "cell_type": "markdown",
   "metadata": {
    "colab_type": "text",
    "id": "mQjerLWDcm6p"
   },
   "source": [
    "### Deep Neural Network Model"
   ]
  },
  {
   "cell_type": "markdown",
   "metadata": {
    "colab_type": "text",
    "id": "jIk-Tr11joB_"
   },
   "source": [
    "`tf.feature_column.indicator_column(categorical_column)` as input and represents multi-hot representation of given `categorical_column`"
   ]
  },
  {
   "cell_type": "code",
   "execution_count": 37,
   "metadata": {
    "ExecuteTime": {
     "end_time": "2018-04-23T06:18:17.816126Z",
     "start_time": "2018-04-23T06:17:19.617056Z"
    },
    "colab": {
     "autoexec": {
      "startup": false,
      "wait_interval": 0
     },
     "base_uri": "https://localhost:8080/",
     "height": 391
    },
    "colab_type": "code",
    "executionInfo": {
     "elapsed": 30370,
     "status": "ok",
     "timestamp": 1524410355149,
     "user": {
      "displayName": "Mohammed Saifuddin",
      "photoUrl": "//lh5.googleusercontent.com/-WA85hItRjEY/AAAAAAAAAAI/AAAAAAAAAbE/UJEAr4wXn1Y/s50-c-k-no/photo.jpg",
      "userId": "107128453463956036616"
     },
     "user_tz": -330
    },
    "id": "zUksCJMlcVaf",
    "outputId": "ecde8475-d926-4c95-cb0c-cfd12060bb76"
   },
   "outputs": [
    {
     "name": "stdout",
     "output_type": "stream",
     "text": [
      "Training set metrics: \n",
      "accuracy 0.7858\n",
      "accuracy_baseline 0.5\n",
      "auc 0.87354094\n",
      "auc_precision_recall 0.8640051\n",
      "average_loss 0.44684327\n",
      "label/mean 0.5\n",
      "loss 11.1710825\n",
      "prediction/mean 0.5268504\n",
      "global_step 1000\n",
      "---\n",
      "Testing set metrics: \n",
      "accuracy 0.72\n",
      "accuracy_baseline 0.6\n",
      "auc 0.78\n",
      "auc_precision_recall 0.8570685\n",
      "average_loss 0.48006415\n",
      "label/mean 0.6\n",
      "loss 12.001604\n",
      "prediction/mean 0.6510167\n",
      "global_step 1000\n",
      "---\n"
     ]
    }
   ],
   "source": [
    "classifier = tf.estimator.DNNClassifier(\n",
    "    feature_columns = [tf.feature_column.indicator_column(terms_feature_column)],\n",
    "    hidden_units = [20, 20],\n",
    "    optimizer = my_optimizer\n",
    ")\n",
    "\n",
    "try:\n",
    "    classifier.train(\n",
    "        input_fn = lambda: _input_fn([train_path]),\n",
    "        steps = 1000\n",
    "    )\n",
    "\n",
    "    evaluation_metrics = classifier.evaluate(\n",
    "        input_fn = lambda: _input_fn([train_path]),\n",
    "        steps = 1000\n",
    "    )\n",
    "    print(\"Training set metrics: \")\n",
    "    for m in evaluation_metrics:\n",
    "        print(m, evaluation_metrics[m])\n",
    "    print(\"---\")\n",
    "    evaluation_metrics = classifier.evaluate(\n",
    "        input_fn = lambda: _input_fn([test_path]),\n",
    "        steps = 1\n",
    "    )\n",
    "    print(\"Testing set metrics: \")\n",
    "    for m in evaluation_metrics:\n",
    "        print(m, evaluation_metrics[m])\n",
    "    print(\"---\")\n",
    "except ValueError as err:\n",
    "    print(err)"
   ]
  },
  {
   "cell_type": "markdown",
   "metadata": {
    "colab_type": "text",
    "id": "AcNJz0OlioNj"
   },
   "source": [
    "### Use an Embedding with Deep Neural Network Model"
   ]
  },
  {
   "cell_type": "markdown",
   "metadata": {
    "colab_type": "text",
    "id": "l4YEOgwni1Hl"
   },
   "source": [
    "An `embedding_column` takes sparse data as input and returns a lower-dimensional dense vector as output."
   ]
  },
  {
   "cell_type": "code",
   "execution_count": 56,
   "metadata": {
    "ExecuteTime": {
     "end_time": "2018-04-23T06:28:18.768356Z",
     "start_time": "2018-04-23T06:27:44.459992Z"
    },
    "colab": {
     "autoexec": {
      "startup": false,
      "wait_interval": 0
     },
     "base_uri": "https://localhost:8080/",
     "height": 391
    },
    "colab_type": "code",
    "executionInfo": {
     "elapsed": 49242,
     "status": "ok",
     "timestamp": 1524410914960,
     "user": {
      "displayName": "Mohammed Saifuddin",
      "photoUrl": "//lh5.googleusercontent.com/-WA85hItRjEY/AAAAAAAAAAI/AAAAAAAAAbE/UJEAr4wXn1Y/s50-c-k-no/photo.jpg",
      "userId": "107128453463956036616"
     },
     "user_tz": -330
    },
    "id": "rSnesAtbesSe",
    "outputId": "8da28ed3-399c-4109-853c-a51b92e34253"
   },
   "outputs": [
    {
     "name": "stdout",
     "output_type": "stream",
     "text": [
      "Training set metrics: \n",
      "accuracy 0.78476\n",
      "accuracy_baseline 0.5\n",
      "auc 0.8691363\n",
      "auc_precision_recall 0.8580724\n",
      "average_loss 0.45799422\n",
      "label/mean 0.5\n",
      "loss 11.449856\n",
      "prediction/mean 0.46509075\n",
      "global_step 1000\n",
      "---\n",
      "Testing set metrics: \n",
      "accuracy 0.77888\n",
      "accuracy_baseline 0.5\n",
      "auc 0.86877763\n",
      "auc_precision_recall 0.8580553\n",
      "average_loss 0.45880792\n",
      "label/mean 0.5\n",
      "loss 11.470199\n",
      "prediction/mean 0.46506652\n",
      "global_step 1000\n",
      "---\n"
     ]
    }
   ],
   "source": [
    "terms_embedding_column = tf.feature_column.embedding_column(terms_feature_column, dimension=2)\n",
    "feature_columns = [ terms_embedding_column ]\n",
    "\n",
    "my_optimizer = tf.train.AdagradOptimizer(learning_rate=0.1)\n",
    "my_optimizer = tf.contrib.estimator.clip_gradients_by_norm(my_optimizer, 5.0)\n",
    "classifier = tf.estimator.DNNClassifier(\n",
    "    feature_columns = feature_columns,\n",
    "    hidden_units = [20, 20],\n",
    "    optimizer = my_optimizer\n",
    ")\n",
    "\n",
    "try:\n",
    "    classifier.train(\n",
    "        input_fn = lambda: _input_fn([train_path]),\n",
    "        steps = 1000\n",
    "    )\n",
    "\n",
    "    evaluation_metrics = classifier.evaluate(\n",
    "        input_fn = lambda: _input_fn([train_path]),\n",
    "        steps = 1000\n",
    "    )\n",
    "    print(\"Training set metrics: \")\n",
    "    for m in evaluation_metrics:\n",
    "        print(m, evaluation_metrics[m])\n",
    "    print(\"---\")\n",
    "\n",
    "    evaluation_metrics = classifier.evaluate(\n",
    "        input_fn = lambda: _input_fn([test_path]),\n",
    "        steps = 1000\n",
    "    )\n",
    "    print(\"Testing set metrics: \")\n",
    "    for m in evaluation_metrics:\n",
    "        print(m, evaluation_metrics[m])\n",
    "    print(\"---\")\n",
    "except ValueError as err:\n",
    "    print(err)"
   ]
  },
  {
   "cell_type": "markdown",
   "metadata": {
    "colab_type": "text",
    "id": "ZG4toTE1sA0Q"
   },
   "source": [
    "### Embedding inside"
   ]
  },
  {
   "cell_type": "code",
   "execution_count": 12,
   "metadata": {
    "ExecuteTime": {
     "end_time": "2018-04-23T06:08:12.598705Z",
     "start_time": "2018-04-23T06:08:12.577890Z"
    },
    "colab": {
     "autoexec": {
      "startup": false,
      "wait_interval": 0
     },
     "base_uri": "https://localhost:8080/",
     "height": 272
    },
    "colab_type": "code",
    "executionInfo": {
     "elapsed": 870,
     "status": "ok",
     "timestamp": 1524410785314,
     "user": {
      "displayName": "Mohammed Saifuddin",
      "photoUrl": "//lh5.googleusercontent.com/-WA85hItRjEY/AAAAAAAAAAI/AAAAAAAAAbE/UJEAr4wXn1Y/s50-c-k-no/photo.jpg",
      "userId": "107128453463956036616"
     },
     "user_tz": -330
    },
    "id": "LKJAezTTpbJN",
    "outputId": "9980f8c6-54cb-44b0-d9cc-5aff4308b72b"
   },
   "outputs": [
    {
     "data": {
      "text/plain": [
       "['dnn/hiddenlayer_0/bias',\n",
       " 'dnn/hiddenlayer_0/bias/t_0/Adagrad',\n",
       " 'dnn/hiddenlayer_0/kernel',\n",
       " 'dnn/hiddenlayer_0/kernel/t_0/Adagrad',\n",
       " 'dnn/hiddenlayer_1/bias',\n",
       " 'dnn/hiddenlayer_1/bias/t_0/Adagrad',\n",
       " 'dnn/hiddenlayer_1/kernel',\n",
       " 'dnn/hiddenlayer_1/kernel/t_0/Adagrad',\n",
       " 'dnn/input_from_feature_columns/input_layer/terms_embedding/embedding_weights',\n",
       " 'dnn/input_from_feature_columns/input_layer/terms_embedding/embedding_weights/t_0/Adagrad',\n",
       " 'dnn/logits/bias',\n",
       " 'dnn/logits/bias/t_0/Adagrad',\n",
       " 'dnn/logits/kernel',\n",
       " 'dnn/logits/kernel/t_0/Adagrad',\n",
       " 'global_step']"
      ]
     },
     "execution_count": 12,
     "metadata": {},
     "output_type": "execute_result"
    }
   ],
   "source": [
    "classifier.get_variable_names()"
   ]
  },
  {
   "cell_type": "code",
   "execution_count": 13,
   "metadata": {
    "ExecuteTime": {
     "end_time": "2018-04-23T06:08:12.693741Z",
     "start_time": "2018-04-23T06:08:12.603884Z"
    },
    "colab": {
     "autoexec": {
      "startup": false,
      "wait_interval": 0
     },
     "base_uri": "https://localhost:8080/",
     "height": 34
    },
    "colab_type": "code",
    "executionInfo": {
     "elapsed": 719,
     "status": "ok",
     "timestamp": 1524410786232,
     "user": {
      "displayName": "Mohammed Saifuddin",
      "photoUrl": "//lh5.googleusercontent.com/-WA85hItRjEY/AAAAAAAAAAI/AAAAAAAAAbE/UJEAr4wXn1Y/s50-c-k-no/photo.jpg",
      "userId": "107128453463956036616"
     },
     "user_tz": -330
    },
    "id": "Gil-7cKSwWuT",
    "outputId": "649f0159-0c11-4234-8c6d-8ecd2f2a4bed"
   },
   "outputs": [
    {
     "data": {
      "text/plain": [
       "(50, 2)"
      ]
     },
     "execution_count": 13,
     "metadata": {},
     "output_type": "execute_result"
    }
   ],
   "source": [
    "classifier.get_variable_value(\n",
    "    'dnn/input_from_feature_columns/input_layer/terms_embedding/embedding_weights').shape"
   ]
  },
  {
   "cell_type": "markdown",
   "metadata": {
    "colab_type": "text",
    "id": "znH2mwgAv4O-"
   },
   "source": [
    "### Examine the Embedding"
   ]
  },
  {
   "cell_type": "code",
   "execution_count": 57,
   "metadata": {
    "ExecuteTime": {
     "end_time": "2018-04-23T06:28:24.082488Z",
     "start_time": "2018-04-23T06:28:23.286592Z"
    },
    "colab": {
     "autoexec": {
      "startup": false,
      "wait_interval": 0
     },
     "base_uri": "https://localhost:8080/",
     "height": 892
    },
    "colab_type": "code",
    "executionInfo": {
     "elapsed": 1763,
     "status": "ok",
     "timestamp": 1524410916764,
     "user": {
      "displayName": "Mohammed Saifuddin",
      "photoUrl": "//lh5.googleusercontent.com/-WA85hItRjEY/AAAAAAAAAAI/AAAAAAAAAbE/UJEAr4wXn1Y/s50-c-k-no/photo.jpg",
      "userId": "107128453463956036616"
     },
     "user_tz": -330
    },
    "id": "f3xTWSOBsGR7",
    "outputId": "6d7e81cb-abf7-4cbb-9183-54abe3cf02da"
   },
   "outputs": [
    {
     "data": {
      "image/png": "[encoded data removed]",
      "text/plain": [
       "<Figure size 1080x1080 with 1 Axes>"
      ]
     },
     "metadata": {},
     "output_type": "display_data"
    }
   ],
   "source": [
    "embedding_matrix = classifier.get_variable_value(\n",
    "    'dnn/input_from_feature_columns/input_layer/terms_embedding/embedding_weights')\n",
    "\n",
    "for term_index in range(len(informative_terms)):\n",
    "    # Create a one-hot encoding for our term. It has 0s everywhere, except for\n",
    "    # a single 1 in the coordinate that corresponds to that term.\n",
    "    term_vector = np.zeros(len(informative_terms))\n",
    "    term_vector[term_index] = 1\n",
    "    embedding_xy = np.matmul(term_vector, embedding_matrix)\n",
    "    plt.text(embedding_xy[0], embedding_xy[1], informative_terms[term_index])\n",
    "\n",
    "plt.rcParams[\"figure.figsize\"] = (15, 15)\n",
    "plt.title(\"Setimental Analysis of Movie Reviews\")\n",
    "plt.xlim(1.2 * embedding_matrix.min(), 1.2 * embedding_matrix.max())\n",
    "plt.ylim(1.2 * embedding_matrix.min(), 1.2 * embedding_matrix.max())\n",
    "plt.show() "
   ]
  },
  {
   "cell_type": "markdown",
   "metadata": {
    "colab_type": "text",
    "id": "xBJV_Mxn2u4o"
   },
   "source": [
    "### Revampment in the Model"
   ]
  },
  {
   "cell_type": "code",
   "execution_count": 62,
   "metadata": {
    "ExecuteTime": {
     "end_time": "2018-04-23T06:31:03.335605Z",
     "start_time": "2018-04-23T06:31:02.086051Z"
    },
    "colab": {
     "autoexec": {
      "startup": false,
      "wait_interval": 0
     },
     "base_uri": "https://localhost:8080/",
     "height": 204
    },
    "colab_type": "code",
    "executionInfo": {
     "elapsed": 1819,
     "status": "ok",
     "timestamp": 1524410409674,
     "user": {
      "displayName": "Mohammed Saifuddin",
      "photoUrl": "//lh5.googleusercontent.com/-WA85hItRjEY/AAAAAAAAAAI/AAAAAAAAAbE/UJEAr4wXn1Y/s50-c-k-no/photo.jpg",
      "userId": "107128453463956036616"
     },
     "user_tz": -330
    },
    "id": "ASgbVbASyi8K",
    "outputId": "b45687b3-1767-4308-f583-44628d17ee78"
   },
   "outputs": [
    {
     "name": "stdout",
     "output_type": "stream",
     "text": [
      "--2018-04-23 12:01:02--  https://storage.googleapis.com/mledu-datasets/sparse-data-embedding/terms.txt\n",
      "Resolving storage.googleapis.com (storage.googleapis.com)... 216.58.197.48, 2404:6800:4007:802::2010\n",
      "Connecting to storage.googleapis.com (storage.googleapis.com)|216.58.197.48|:443... connected.\n",
      "HTTP request sent, awaiting response... 200 OK\n",
      "Length: 253538 (248K) [text/plain]\n",
      "Saving to: ‘./terms.txt’\n",
      "\n",
      "./terms.txt         100%[===================>] 247.60K  1.03MB/s    in 0.2s    \n",
      "\n",
      "2018-04-23 12:01:03 (1.03 MB/s) - ‘./terms.txt’ saved [253538/253538]\n",
      "\n"
     ]
    }
   ],
   "source": [
    "!wget https://storage.googleapis.com/mledu-datasets/sparse-data-embedding/terms.txt -O ./terms.txt"
   ]
  },
  {
   "cell_type": "code",
   "execution_count": 63,
   "metadata": {
    "ExecuteTime": {
     "end_time": "2018-04-23T06:32:24.860156Z",
     "start_time": "2018-04-23T06:31:41.495383Z"
    },
    "colab": {
     "autoexec": {
      "startup": false,
      "wait_interval": 0
     },
     "base_uri": "https://localhost:8080/",
     "height": 391
    },
    "colab_type": "code",
    "executionInfo": {
     "elapsed": 54644,
     "status": "ok",
     "timestamp": 1524410464350,
     "user": {
      "displayName": "Mohammed Saifuddin",
      "photoUrl": "//lh5.googleusercontent.com/-WA85hItRjEY/AAAAAAAAAAI/AAAAAAAAAbE/UJEAr4wXn1Y/s50-c-k-no/photo.jpg",
      "userId": "107128453463956036616"
     },
     "user_tz": -330
    },
    "id": "4ZJOOSDo289C",
    "outputId": "1cc0feaf-4286-4b29-9c65-8adcafcd229d"
   },
   "outputs": [
    {
     "name": "stdout",
     "output_type": "stream",
     "text": [
      "Training set metrics: \n",
      "accuracy 0.82296\n",
      "accuracy_baseline 0.5\n",
      "auc 0.9002983\n",
      "auc_precision_recall 0.8991982\n",
      "average_loss 0.40030915\n",
      "label/mean 0.5\n",
      "loss 10.007729\n",
      "prediction/mean 0.49980047\n",
      "global_step 1000\n",
      "---\n",
      "Testing set metrics: \n",
      "accuracy 0.80888\n",
      "accuracy_baseline 0.5\n",
      "auc 0.88733083\n",
      "auc_precision_recall 0.88354266\n",
      "average_loss 0.42424503\n",
      "label/mean 0.5\n",
      "loss 10.606126\n",
      "prediction/mean 0.49832115\n",
      "global_step 1000\n",
      "---\n"
     ]
    }
   ],
   "source": [
    "with open(\"terms.txt\", \"r\") as f:\n",
    "    informative_terms1 = list(set(f.read().split()))\n",
    "\n",
    "terms_feature_column = tf.feature_column.categorical_column_with_vocabulary_list(\n",
    "    key=\"terms\", vocabulary_list=informative_terms1)\n",
    "\n",
    "terms_embedding_column = tf.feature_column.embedding_column(terms_feature_column, dimension=2)\n",
    "feature_columns = [ terms_embedding_column ]\n",
    "\n",
    "my_optimizer = tf.train.AdagradOptimizer(learning_rate=0.1)\n",
    "my_optimizer = tf.contrib.estimator.clip_gradients_by_norm(my_optimizer, 5.0)\n",
    "\n",
    "classifier = tf.estimator.DNNClassifier(\n",
    "    feature_columns = feature_columns,\n",
    "    hidden_units = [10, 10],\n",
    "    optimizer = my_optimizer\n",
    ")\n",
    "\n",
    "try:\n",
    "    classifier.train(\n",
    "        input_fn = lambda: _input_fn([train_path]),\n",
    "        steps = 1000\n",
    "    )\n",
    "\n",
    "    evaluation_metrics = classifier.evaluate(\n",
    "        input_fn = lambda: _input_fn([train_path]),\n",
    "        steps = 1000\n",
    "    )\n",
    "    print(\"Training set metrics: \")\n",
    "    for m in evaluation_metrics:\n",
    "        print(m, evaluation_metrics[m])\n",
    "    print(\"---\")\n",
    "\n",
    "    evaluation_metrics = classifier.evaluate(\n",
    "        input_fn = lambda: _input_fn([test_path]),\n",
    "        steps = 1000\n",
    "    )\n",
    "    print(\"Testing set metrics: \")\n",
    "    for m in evaluation_metrics:\n",
    "        print(m, evaluation_metrics[m])\n",
    "    print(\"---\")\n",
    "except ValueError as err:\n",
    "    print(err)"
   ]
  },
  {
   "cell_type": "code",
   "execution_count": null,
   "metadata": {
    "colab": {
     "autoexec": {
      "startup": false,
      "wait_interval": 0
     }
    },
    "colab_type": "code",
    "id": "w52TSfQO5wXr"
   },
   "outputs": [],
   "source": []
  }
 ],
 "metadata": {
  "accelerator": "GPU",
  "colab": {
   "collapsed_sections": [],
   "default_view": {},
   "name": "ml_embeddings.ipynb",
   "provenance": [],
   "version": "0.3.2",
   "views": {}
  },
  "kernelspec": {
   "display_name": "Python 3",
   "language": "python",
   "name": "python3"
  },
  "language_info": {
   "codemirror_mode": {
    "name": "ipython",
    "version": 3
   },
   "file_extension": ".py",
   "mimetype": "text/x-python",
   "name": "python",
   "nbconvert_exporter": "python",
   "pygments_lexer": "ipython3",
   "version": "3.6.5"
  },
  "toc": {
   "nav_menu": {},
   "number_sections": true,
   "sideBar": true,
   "skip_h1_title": false,
   "title_cell": "Table of Contents",
   "title_sidebar": "Contents",
   "toc_cell": false,
   "toc_position": {},
   "toc_section_display": true,
   "toc_window_display": false
  }
 },
 "nbformat": 4,
 "nbformat_minor": 1
}
