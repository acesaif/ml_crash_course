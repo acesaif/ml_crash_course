{
 "cells": [
  {
   "cell_type": "markdown",
   "metadata": {
    "ExecuteTime": {
     "end_time": "2018-04-16T13:26:34.684259Z",
     "start_time": "2018-04-16T13:26:34.678164Z"
    }
   },
   "source": [
    "### Setup"
   ]
  },
  {
   "cell_type": "code",
   "execution_count": 1,
   "metadata": {
    "ExecuteTime": {
     "end_time": "2018-04-16T19:04:13.809720Z",
     "start_time": "2018-04-16T19:03:48.937950Z"
    }
   },
   "outputs": [
    {
     "name": "stderr",
     "output_type": "stream",
     "text": [
      "/usr/local/lib64/python3.6/site-packages/h5py/__init__.py:36: FutureWarning: Conversion of the second argument of issubdtype from `float` to `np.floating` is deprecated. In future, it will be treated as `np.float64 == np.dtype(float).type`.\n",
      "  from ._conv import register_converters as _register_converters\n"
     ]
    }
   ],
   "source": [
    "import math\n",
    "\n",
    "from IPython import display\n",
    "from matplotlib import cm\n",
    "from matplotlib import gridspec\n",
    "from matplotlib import style\n",
    "from matplotlib import pyplot as plt\n",
    "import numpy as np\n",
    "import pandas as pd\n",
    "from sklearn import metrics\n",
    "import tensorflow as tf\n",
    "from tensorflow.python.data import Dataset\n",
    "\n",
    "tf.logging.set_verbosity(tf.logging.ERROR)\n",
    "pd.options.display.max_rows = 10\n",
    "pd.options.display.float_format = \"{:.1f}\".format\n",
    "style.use(\"ggplot\")"
   ]
  },
  {
   "cell_type": "markdown",
   "metadata": {},
   "source": [
    "### Load Dataset and Radomization"
   ]
  },
  {
   "cell_type": "code",
   "execution_count": 2,
   "metadata": {
    "ExecuteTime": {
     "end_time": "2018-04-16T19:04:15.253969Z",
     "start_time": "2018-04-16T19:04:13.817277Z"
    }
   },
   "outputs": [
    {
     "data": {
      "text/html": [
       "<div>\n",
       "<style scoped>\n",
       "    .dataframe tbody tr th:only-of-type {\n",
       "        vertical-align: middle;\n",
       "    }\n",
       "\n",
       "    .dataframe tbody tr th {\n",
       "        vertical-align: top;\n",
       "    }\n",
       "\n",
       "    .dataframe thead th {\n",
       "        text-align: right;\n",
       "    }\n",
       "</style>\n",
       "<table border=\"1\" class=\"dataframe\">\n",
       "  <thead>\n",
       "    <tr style=\"text-align: right;\">\n",
       "      <th></th>\n",
       "      <th>longitude</th>\n",
       "      <th>latitude</th>\n",
       "      <th>housing_median_age</th>\n",
       "      <th>total_rooms</th>\n",
       "      <th>total_bedrooms</th>\n",
       "      <th>population</th>\n",
       "      <th>households</th>\n",
       "      <th>median_income</th>\n",
       "      <th>median_house_value</th>\n",
       "    </tr>\n",
       "  </thead>\n",
       "  <tbody>\n",
       "    <tr>\n",
       "      <th>count</th>\n",
       "      <td>17000.0</td>\n",
       "      <td>17000.0</td>\n",
       "      <td>17000.0</td>\n",
       "      <td>17000.0</td>\n",
       "      <td>17000.0</td>\n",
       "      <td>17000.0</td>\n",
       "      <td>17000.0</td>\n",
       "      <td>17000.0</td>\n",
       "      <td>17000.0</td>\n",
       "    </tr>\n",
       "    <tr>\n",
       "      <th>mean</th>\n",
       "      <td>-119.6</td>\n",
       "      <td>35.6</td>\n",
       "      <td>28.6</td>\n",
       "      <td>2643.7</td>\n",
       "      <td>539.4</td>\n",
       "      <td>1429.6</td>\n",
       "      <td>501.2</td>\n",
       "      <td>3.9</td>\n",
       "      <td>207300.9</td>\n",
       "    </tr>\n",
       "    <tr>\n",
       "      <th>std</th>\n",
       "      <td>2.0</td>\n",
       "      <td>2.1</td>\n",
       "      <td>12.6</td>\n",
       "      <td>2179.9</td>\n",
       "      <td>421.5</td>\n",
       "      <td>1147.9</td>\n",
       "      <td>384.5</td>\n",
       "      <td>1.9</td>\n",
       "      <td>115983.8</td>\n",
       "    </tr>\n",
       "    <tr>\n",
       "      <th>min</th>\n",
       "      <td>-124.3</td>\n",
       "      <td>32.5</td>\n",
       "      <td>1.0</td>\n",
       "      <td>2.0</td>\n",
       "      <td>1.0</td>\n",
       "      <td>3.0</td>\n",
       "      <td>1.0</td>\n",
       "      <td>0.5</td>\n",
       "      <td>14999.0</td>\n",
       "    </tr>\n",
       "    <tr>\n",
       "      <th>25%</th>\n",
       "      <td>-121.8</td>\n",
       "      <td>33.9</td>\n",
       "      <td>18.0</td>\n",
       "      <td>1462.0</td>\n",
       "      <td>297.0</td>\n",
       "      <td>790.0</td>\n",
       "      <td>282.0</td>\n",
       "      <td>2.6</td>\n",
       "      <td>119400.0</td>\n",
       "    </tr>\n",
       "    <tr>\n",
       "      <th>50%</th>\n",
       "      <td>-118.5</td>\n",
       "      <td>34.2</td>\n",
       "      <td>29.0</td>\n",
       "      <td>2127.0</td>\n",
       "      <td>434.0</td>\n",
       "      <td>1167.0</td>\n",
       "      <td>409.0</td>\n",
       "      <td>3.5</td>\n",
       "      <td>180400.0</td>\n",
       "    </tr>\n",
       "    <tr>\n",
       "      <th>75%</th>\n",
       "      <td>-118.0</td>\n",
       "      <td>37.7</td>\n",
       "      <td>37.0</td>\n",
       "      <td>3151.2</td>\n",
       "      <td>648.2</td>\n",
       "      <td>1721.0</td>\n",
       "      <td>605.2</td>\n",
       "      <td>4.8</td>\n",
       "      <td>265000.0</td>\n",
       "    </tr>\n",
       "    <tr>\n",
       "      <th>max</th>\n",
       "      <td>-114.3</td>\n",
       "      <td>42.0</td>\n",
       "      <td>52.0</td>\n",
       "      <td>37937.0</td>\n",
       "      <td>6445.0</td>\n",
       "      <td>35682.0</td>\n",
       "      <td>6082.0</td>\n",
       "      <td>15.0</td>\n",
       "      <td>500001.0</td>\n",
       "    </tr>\n",
       "  </tbody>\n",
       "</table>\n",
       "</div>"
      ],
      "text/plain": [
       "       longitude  latitude  housing_median_age  total_rooms  total_bedrooms  \\\n",
       "count    17000.0   17000.0             17000.0      17000.0         17000.0   \n",
       "mean      -119.6      35.6                28.6       2643.7           539.4   \n",
       "std          2.0       2.1                12.6       2179.9           421.5   \n",
       "min       -124.3      32.5                 1.0          2.0             1.0   \n",
       "25%       -121.8      33.9                18.0       1462.0           297.0   \n",
       "50%       -118.5      34.2                29.0       2127.0           434.0   \n",
       "75%       -118.0      37.7                37.0       3151.2           648.2   \n",
       "max       -114.3      42.0                52.0      37937.0          6445.0   \n",
       "\n",
       "       population  households  median_income  median_house_value  \n",
       "count     17000.0     17000.0        17000.0             17000.0  \n",
       "mean       1429.6       501.2            3.9            207300.9  \n",
       "std        1147.9       384.5            1.9            115983.8  \n",
       "min           3.0         1.0            0.5             14999.0  \n",
       "25%         790.0       282.0            2.6            119400.0  \n",
       "50%        1167.0       409.0            3.5            180400.0  \n",
       "75%        1721.0       605.2            4.8            265000.0  \n",
       "max       35682.0      6082.0           15.0            500001.0  "
      ]
     },
     "execution_count": 2,
     "metadata": {},
     "output_type": "execute_result"
    }
   ],
   "source": [
    "california_housing_dataframe = pd.read_csv(\"https://storage.googleapis.com/mledu-datasets/california_housing_train.csv\", sep=\",\")\n",
    "california_housing_dataframe = california_housing_dataframe.reindex(np.random.permutation(california_housing_dataframe.index))\n",
    "california_housing_dataframe.describe()"
   ]
  },
  {
   "cell_type": "markdown",
   "metadata": {},
   "source": [
    "### Preprocess the data"
   ]
  },
  {
   "cell_type": "code",
   "execution_count": 3,
   "metadata": {
    "ExecuteTime": {
     "end_time": "2018-04-16T19:04:15.264154Z",
     "start_time": "2018-04-16T19:04:15.257219Z"
    }
   },
   "outputs": [],
   "source": [
    "def preprocess_features(california_housing_dataframe):\n",
    "    selected_features = california_housing_dataframe[\n",
    "        [\"latitude\",\n",
    "         \"longitude\",\n",
    "         \"housing_median_age\",\n",
    "         \"total_rooms\",\n",
    "         \"total_bedrooms\",\n",
    "         \"population\",\n",
    "         \"households\",\n",
    "         \"median_income\"]\n",
    "    ]\n",
    "    preprocessed_features = selected_features.copy()\n",
    "    preprocessed_features[\"rooms_per_person\"] = (california_housing_dataframe[\"total_rooms\"] / \n",
    "                                                 california_housing_dataframe[\"population\"])\n",
    "    return preprocessed_features\n",
    "\n",
    "def preprocess_targets(california_housing_dataframe):\n",
    "    output_targets = pd.DataFrame()\n",
    "    output_targets[\"median_house_value\"] = california_housing_dataframe[\"median_house_value\"] / 1000.0\n",
    "    return output_targets"
   ]
  },
  {
   "cell_type": "markdown",
   "metadata": {},
   "source": [
    "### Training set and Validation set"
   ]
  },
  {
   "cell_type": "code",
   "execution_count": 4,
   "metadata": {
    "ExecuteTime": {
     "end_time": "2018-04-16T19:04:16.049902Z",
     "start_time": "2018-04-16T19:04:15.266967Z"
    }
   },
   "outputs": [
    {
     "name": "stdout",
     "output_type": "stream",
     "text": [
      "Training Examples Summary: \n"
     ]
    },
    {
     "data": {
      "text/html": [
       "<div>\n",
       "<style scoped>\n",
       "    .dataframe tbody tr th:only-of-type {\n",
       "        vertical-align: middle;\n",
       "    }\n",
       "\n",
       "    .dataframe tbody tr th {\n",
       "        vertical-align: top;\n",
       "    }\n",
       "\n",
       "    .dataframe thead th {\n",
       "        text-align: right;\n",
       "    }\n",
       "</style>\n",
       "<table border=\"1\" class=\"dataframe\">\n",
       "  <thead>\n",
       "    <tr style=\"text-align: right;\">\n",
       "      <th></th>\n",
       "      <th>latitude</th>\n",
       "      <th>longitude</th>\n",
       "      <th>housing_median_age</th>\n",
       "      <th>total_rooms</th>\n",
       "      <th>total_bedrooms</th>\n",
       "      <th>population</th>\n",
       "      <th>households</th>\n",
       "      <th>median_income</th>\n",
       "      <th>rooms_per_person</th>\n",
       "    </tr>\n",
       "  </thead>\n",
       "  <tbody>\n",
       "    <tr>\n",
       "      <th>count</th>\n",
       "      <td>12000.0</td>\n",
       "      <td>12000.0</td>\n",
       "      <td>12000.0</td>\n",
       "      <td>12000.0</td>\n",
       "      <td>12000.0</td>\n",
       "      <td>12000.0</td>\n",
       "      <td>12000.0</td>\n",
       "      <td>12000.0</td>\n",
       "      <td>12000.0</td>\n",
       "    </tr>\n",
       "    <tr>\n",
       "      <th>mean</th>\n",
       "      <td>35.6</td>\n",
       "      <td>-119.6</td>\n",
       "      <td>28.6</td>\n",
       "      <td>2630.5</td>\n",
       "      <td>537.9</td>\n",
       "      <td>1422.8</td>\n",
       "      <td>500.0</td>\n",
       "      <td>3.9</td>\n",
       "      <td>2.0</td>\n",
       "    </tr>\n",
       "    <tr>\n",
       "      <th>std</th>\n",
       "      <td>2.1</td>\n",
       "      <td>2.0</td>\n",
       "      <td>12.6</td>\n",
       "      <td>2132.4</td>\n",
       "      <td>414.1</td>\n",
       "      <td>1106.4</td>\n",
       "      <td>377.7</td>\n",
       "      <td>1.9</td>\n",
       "      <td>1.2</td>\n",
       "    </tr>\n",
       "    <tr>\n",
       "      <th>min</th>\n",
       "      <td>32.5</td>\n",
       "      <td>-124.3</td>\n",
       "      <td>1.0</td>\n",
       "      <td>2.0</td>\n",
       "      <td>1.0</td>\n",
       "      <td>3.0</td>\n",
       "      <td>1.0</td>\n",
       "      <td>0.5</td>\n",
       "      <td>0.0</td>\n",
       "    </tr>\n",
       "    <tr>\n",
       "      <th>25%</th>\n",
       "      <td>33.9</td>\n",
       "      <td>-121.8</td>\n",
       "      <td>18.0</td>\n",
       "      <td>1462.0</td>\n",
       "      <td>297.0</td>\n",
       "      <td>789.8</td>\n",
       "      <td>282.0</td>\n",
       "      <td>2.6</td>\n",
       "      <td>1.5</td>\n",
       "    </tr>\n",
       "    <tr>\n",
       "      <th>50%</th>\n",
       "      <td>34.2</td>\n",
       "      <td>-118.5</td>\n",
       "      <td>29.0</td>\n",
       "      <td>2129.5</td>\n",
       "      <td>435.0</td>\n",
       "      <td>1166.5</td>\n",
       "      <td>410.0</td>\n",
       "      <td>3.5</td>\n",
       "      <td>1.9</td>\n",
       "    </tr>\n",
       "    <tr>\n",
       "      <th>75%</th>\n",
       "      <td>37.7</td>\n",
       "      <td>-118.0</td>\n",
       "      <td>37.0</td>\n",
       "      <td>3142.2</td>\n",
       "      <td>651.0</td>\n",
       "      <td>1721.0</td>\n",
       "      <td>607.0</td>\n",
       "      <td>4.8</td>\n",
       "      <td>2.3</td>\n",
       "    </tr>\n",
       "    <tr>\n",
       "      <th>max</th>\n",
       "      <td>42.0</td>\n",
       "      <td>-114.3</td>\n",
       "      <td>52.0</td>\n",
       "      <td>37937.0</td>\n",
       "      <td>6445.0</td>\n",
       "      <td>28566.0</td>\n",
       "      <td>6082.0</td>\n",
       "      <td>15.0</td>\n",
       "      <td>52.0</td>\n",
       "    </tr>\n",
       "  </tbody>\n",
       "</table>\n",
       "</div>"
      ],
      "text/plain": [
       "       latitude  longitude  housing_median_age  total_rooms  total_bedrooms  \\\n",
       "count   12000.0    12000.0             12000.0      12000.0         12000.0   \n",
       "mean       35.6     -119.6                28.6       2630.5           537.9   \n",
       "std         2.1        2.0                12.6       2132.4           414.1   \n",
       "min        32.5     -124.3                 1.0          2.0             1.0   \n",
       "25%        33.9     -121.8                18.0       1462.0           297.0   \n",
       "50%        34.2     -118.5                29.0       2129.5           435.0   \n",
       "75%        37.7     -118.0                37.0       3142.2           651.0   \n",
       "max        42.0     -114.3                52.0      37937.0          6445.0   \n",
       "\n",
       "       population  households  median_income  rooms_per_person  \n",
       "count     12000.0     12000.0        12000.0           12000.0  \n",
       "mean       1422.8       500.0            3.9               2.0  \n",
       "std        1106.4       377.7            1.9               1.2  \n",
       "min           3.0         1.0            0.5               0.0  \n",
       "25%         789.8       282.0            2.6               1.5  \n",
       "50%        1166.5       410.0            3.5               1.9  \n",
       "75%        1721.0       607.0            4.8               2.3  \n",
       "max       28566.0      6082.0           15.0              52.0  "
      ]
     },
     "metadata": {},
     "output_type": "display_data"
    },
    {
     "name": "stdout",
     "output_type": "stream",
     "text": [
      "Validation Examples Summary: \n"
     ]
    },
    {
     "data": {
      "text/html": [
       "<div>\n",
       "<style scoped>\n",
       "    .dataframe tbody tr th:only-of-type {\n",
       "        vertical-align: middle;\n",
       "    }\n",
       "\n",
       "    .dataframe tbody tr th {\n",
       "        vertical-align: top;\n",
       "    }\n",
       "\n",
       "    .dataframe thead th {\n",
       "        text-align: right;\n",
       "    }\n",
       "</style>\n",
       "<table border=\"1\" class=\"dataframe\">\n",
       "  <thead>\n",
       "    <tr style=\"text-align: right;\">\n",
       "      <th></th>\n",
       "      <th>latitude</th>\n",
       "      <th>longitude</th>\n",
       "      <th>housing_median_age</th>\n",
       "      <th>total_rooms</th>\n",
       "      <th>total_bedrooms</th>\n",
       "      <th>population</th>\n",
       "      <th>households</th>\n",
       "      <th>median_income</th>\n",
       "      <th>rooms_per_person</th>\n",
       "    </tr>\n",
       "  </thead>\n",
       "  <tbody>\n",
       "    <tr>\n",
       "      <th>count</th>\n",
       "      <td>5000.0</td>\n",
       "      <td>5000.0</td>\n",
       "      <td>5000.0</td>\n",
       "      <td>5000.0</td>\n",
       "      <td>5000.0</td>\n",
       "      <td>5000.0</td>\n",
       "      <td>5000.0</td>\n",
       "      <td>5000.0</td>\n",
       "      <td>5000.0</td>\n",
       "    </tr>\n",
       "    <tr>\n",
       "      <th>mean</th>\n",
       "      <td>35.7</td>\n",
       "      <td>-119.6</td>\n",
       "      <td>28.5</td>\n",
       "      <td>2675.4</td>\n",
       "      <td>543.0</td>\n",
       "      <td>1445.8</td>\n",
       "      <td>504.2</td>\n",
       "      <td>3.9</td>\n",
       "      <td>2.0</td>\n",
       "    </tr>\n",
       "    <tr>\n",
       "      <th>std</th>\n",
       "      <td>2.1</td>\n",
       "      <td>2.0</td>\n",
       "      <td>12.7</td>\n",
       "      <td>2289.9</td>\n",
       "      <td>438.7</td>\n",
       "      <td>1241.7</td>\n",
       "      <td>400.4</td>\n",
       "      <td>1.8</td>\n",
       "      <td>1.2</td>\n",
       "    </tr>\n",
       "    <tr>\n",
       "      <th>min</th>\n",
       "      <td>32.5</td>\n",
       "      <td>-124.3</td>\n",
       "      <td>2.0</td>\n",
       "      <td>12.0</td>\n",
       "      <td>3.0</td>\n",
       "      <td>9.0</td>\n",
       "      <td>2.0</td>\n",
       "      <td>0.5</td>\n",
       "      <td>0.1</td>\n",
       "    </tr>\n",
       "    <tr>\n",
       "      <th>25%</th>\n",
       "      <td>33.9</td>\n",
       "      <td>-121.8</td>\n",
       "      <td>18.0</td>\n",
       "      <td>1461.0</td>\n",
       "      <td>295.0</td>\n",
       "      <td>790.0</td>\n",
       "      <td>281.0</td>\n",
       "      <td>2.6</td>\n",
       "      <td>1.5</td>\n",
       "    </tr>\n",
       "    <tr>\n",
       "      <th>50%</th>\n",
       "      <td>34.3</td>\n",
       "      <td>-118.5</td>\n",
       "      <td>29.0</td>\n",
       "      <td>2122.0</td>\n",
       "      <td>430.5</td>\n",
       "      <td>1168.0</td>\n",
       "      <td>406.0</td>\n",
       "      <td>3.6</td>\n",
       "      <td>1.9</td>\n",
       "    </tr>\n",
       "    <tr>\n",
       "      <th>75%</th>\n",
       "      <td>37.7</td>\n",
       "      <td>-118.0</td>\n",
       "      <td>37.0</td>\n",
       "      <td>3173.0</td>\n",
       "      <td>646.0</td>\n",
       "      <td>1720.0</td>\n",
       "      <td>603.0</td>\n",
       "      <td>4.8</td>\n",
       "      <td>2.3</td>\n",
       "    </tr>\n",
       "    <tr>\n",
       "      <th>max</th>\n",
       "      <td>41.9</td>\n",
       "      <td>-114.6</td>\n",
       "      <td>52.0</td>\n",
       "      <td>32054.0</td>\n",
       "      <td>5290.0</td>\n",
       "      <td>35682.0</td>\n",
       "      <td>5050.0</td>\n",
       "      <td>15.0</td>\n",
       "      <td>55.2</td>\n",
       "    </tr>\n",
       "  </tbody>\n",
       "</table>\n",
       "</div>"
      ],
      "text/plain": [
       "       latitude  longitude  housing_median_age  total_rooms  total_bedrooms  \\\n",
       "count    5000.0     5000.0              5000.0       5000.0          5000.0   \n",
       "mean       35.7     -119.6                28.5       2675.4           543.0   \n",
       "std         2.1        2.0                12.7       2289.9           438.7   \n",
       "min        32.5     -124.3                 2.0         12.0             3.0   \n",
       "25%        33.9     -121.8                18.0       1461.0           295.0   \n",
       "50%        34.3     -118.5                29.0       2122.0           430.5   \n",
       "75%        37.7     -118.0                37.0       3173.0           646.0   \n",
       "max        41.9     -114.6                52.0      32054.0          5290.0   \n",
       "\n",
       "       population  households  median_income  rooms_per_person  \n",
       "count      5000.0      5000.0         5000.0            5000.0  \n",
       "mean       1445.8       504.2            3.9               2.0  \n",
       "std        1241.7       400.4            1.8               1.2  \n",
       "min           9.0         2.0            0.5               0.1  \n",
       "25%         790.0       281.0            2.6               1.5  \n",
       "50%        1168.0       406.0            3.6               1.9  \n",
       "75%        1720.0       603.0            4.8               2.3  \n",
       "max       35682.0      5050.0           15.0              55.2  "
      ]
     },
     "metadata": {},
     "output_type": "display_data"
    },
    {
     "name": "stdout",
     "output_type": "stream",
     "text": [
      "Training Targets Summary: \n"
     ]
    },
    {
     "data": {
      "text/html": [
       "<div>\n",
       "<style scoped>\n",
       "    .dataframe tbody tr th:only-of-type {\n",
       "        vertical-align: middle;\n",
       "    }\n",
       "\n",
       "    .dataframe tbody tr th {\n",
       "        vertical-align: top;\n",
       "    }\n",
       "\n",
       "    .dataframe thead th {\n",
       "        text-align: right;\n",
       "    }\n",
       "</style>\n",
       "<table border=\"1\" class=\"dataframe\">\n",
       "  <thead>\n",
       "    <tr style=\"text-align: right;\">\n",
       "      <th></th>\n",
       "      <th>median_house_value</th>\n",
       "    </tr>\n",
       "  </thead>\n",
       "  <tbody>\n",
       "    <tr>\n",
       "      <th>count</th>\n",
       "      <td>12000.0</td>\n",
       "    </tr>\n",
       "    <tr>\n",
       "      <th>mean</th>\n",
       "      <td>208.2</td>\n",
       "    </tr>\n",
       "    <tr>\n",
       "      <th>std</th>\n",
       "      <td>116.6</td>\n",
       "    </tr>\n",
       "    <tr>\n",
       "      <th>min</th>\n",
       "      <td>15.0</td>\n",
       "    </tr>\n",
       "    <tr>\n",
       "      <th>25%</th>\n",
       "      <td>120.4</td>\n",
       "    </tr>\n",
       "    <tr>\n",
       "      <th>50%</th>\n",
       "      <td>181.0</td>\n",
       "    </tr>\n",
       "    <tr>\n",
       "      <th>75%</th>\n",
       "      <td>265.0</td>\n",
       "    </tr>\n",
       "    <tr>\n",
       "      <th>max</th>\n",
       "      <td>500.0</td>\n",
       "    </tr>\n",
       "  </tbody>\n",
       "</table>\n",
       "</div>"
      ],
      "text/plain": [
       "       median_house_value\n",
       "count             12000.0\n",
       "mean                208.2\n",
       "std                 116.6\n",
       "min                  15.0\n",
       "25%                 120.4\n",
       "50%                 181.0\n",
       "75%                 265.0\n",
       "max                 500.0"
      ]
     },
     "metadata": {},
     "output_type": "display_data"
    },
    {
     "name": "stdout",
     "output_type": "stream",
     "text": [
      "Validation Targets Summary: \n"
     ]
    },
    {
     "data": {
      "text/html": [
       "<div>\n",
       "<style scoped>\n",
       "    .dataframe tbody tr th:only-of-type {\n",
       "        vertical-align: middle;\n",
       "    }\n",
       "\n",
       "    .dataframe tbody tr th {\n",
       "        vertical-align: top;\n",
       "    }\n",
       "\n",
       "    .dataframe thead th {\n",
       "        text-align: right;\n",
       "    }\n",
       "</style>\n",
       "<table border=\"1\" class=\"dataframe\">\n",
       "  <thead>\n",
       "    <tr style=\"text-align: right;\">\n",
       "      <th></th>\n",
       "      <th>median_house_value</th>\n",
       "    </tr>\n",
       "  </thead>\n",
       "  <tbody>\n",
       "    <tr>\n",
       "      <th>count</th>\n",
       "      <td>5000.0</td>\n",
       "    </tr>\n",
       "    <tr>\n",
       "      <th>mean</th>\n",
       "      <td>205.2</td>\n",
       "    </tr>\n",
       "    <tr>\n",
       "      <th>std</th>\n",
       "      <td>114.4</td>\n",
       "    </tr>\n",
       "    <tr>\n",
       "      <th>min</th>\n",
       "      <td>22.5</td>\n",
       "    </tr>\n",
       "    <tr>\n",
       "      <th>25%</th>\n",
       "      <td>117.6</td>\n",
       "    </tr>\n",
       "    <tr>\n",
       "      <th>50%</th>\n",
       "      <td>178.9</td>\n",
       "    </tr>\n",
       "    <tr>\n",
       "      <th>75%</th>\n",
       "      <td>265.0</td>\n",
       "    </tr>\n",
       "    <tr>\n",
       "      <th>max</th>\n",
       "      <td>500.0</td>\n",
       "    </tr>\n",
       "  </tbody>\n",
       "</table>\n",
       "</div>"
      ],
      "text/plain": [
       "       median_house_value\n",
       "count              5000.0\n",
       "mean                205.2\n",
       "std                 114.4\n",
       "min                  22.5\n",
       "25%                 117.6\n",
       "50%                 178.9\n",
       "75%                 265.0\n",
       "max                 500.0"
      ]
     },
     "metadata": {},
     "output_type": "display_data"
    }
   ],
   "source": [
    "training_examples = preprocess_features(california_housing_dataframe.head(12000))\n",
    "training_targets = preprocess_targets(california_housing_dataframe.head(12000))\n",
    "\n",
    "validation_examples = preprocess_features(california_housing_dataframe.tail(5000))\n",
    "validation_targets = preprocess_targets(california_housing_dataframe.tail(5000))\n",
    "\n",
    "print(\"Training Examples Summary: \")\n",
    "display.display(training_examples.describe())\n",
    "print(\"Validation Examples Summary: \")\n",
    "display.display(validation_examples.describe())\n",
    "print(\"Training Targets Summary: \")\n",
    "display.display(training_targets.describe())\n",
    "print(\"Validation Targets Summary: \")\n",
    "display.display(validation_targets.describe())"
   ]
  },
  {
   "cell_type": "markdown",
   "metadata": {},
   "source": [
    "### Construct Feature Columns"
   ]
  },
  {
   "cell_type": "code",
   "execution_count": 5,
   "metadata": {
    "ExecuteTime": {
     "end_time": "2018-04-16T19:04:16.063055Z",
     "start_time": "2018-04-16T19:04:16.053792Z"
    }
   },
   "outputs": [],
   "source": [
    "def construct_feature_columns(input_features):\n",
    "    return set([tf.feature_column.numeric_column(my_features) for my_features in input_features])"
   ]
  },
  {
   "cell_type": "markdown",
   "metadata": {},
   "source": [
    "### Input Function"
   ]
  },
  {
   "cell_type": "code",
   "execution_count": 6,
   "metadata": {
    "ExecuteTime": {
     "end_time": "2018-04-16T19:04:16.161576Z",
     "start_time": "2018-04-16T19:04:16.066303Z"
    }
   },
   "outputs": [],
   "source": [
    "def my_input_fn(features, targets, batch_size=1, shuffle=True, num_epochs=None):\n",
    "    features = {key: np.array(value) for key, value in dict(features).items()}\n",
    "    ds = Dataset.from_tensor_slices((features, targets))\n",
    "    ds = ds.batch(batch_size).repeat(num_epochs)\n",
    "    if shuffle:\n",
    "        ds = ds.shuffle(buffer_size=10000)\n",
    "    features, labels = ds.make_one_shot_iterator().get_next()\n",
    "    return features, labels"
   ]
  },
  {
   "cell_type": "markdown",
   "metadata": {},
   "source": [
    "### FTRL Optimization Algorithm (Follow-the-Regularized-Leader)"
   ]
  },
  {
   "cell_type": "code",
   "execution_count": 7,
   "metadata": {
    "ExecuteTime": {
     "end_time": "2018-04-16T19:04:16.281531Z",
     "start_time": "2018-04-16T19:04:16.164725Z"
    }
   },
   "outputs": [],
   "source": [
    "def train_model(learning_rate,\n",
    "                steps,\n",
    "                batch_size,\n",
    "                feature_columns,\n",
    "                training_examples,\n",
    "                training_targets,\n",
    "                validation_examples,\n",
    "                validation_targets):\n",
    "    periods = 10\n",
    "    steps_per_period = steps / periods\n",
    "    \n",
    "    # Create linear_regressor and configure the same\n",
    "    my_optimizer = tf.train.FtrlOptimizer(learning_rate=learning_rate)\n",
    "    my_optimizer = tf.contrib.estimator.clip_gradients_by_norm(my_optimizer, 5.0)\n",
    "    linear_regressor = tf.estimator.LinearRegressor(\n",
    "        feature_columns = feature_columns,\n",
    "        optimizer = my_optimizer\n",
    "    )\n",
    "    \n",
    "    # Compute input functions\n",
    "    training_input_fn = lambda: my_input_fn(training_examples,\n",
    "                                            training_targets[\"median_house_value\"],\n",
    "                                            batch_size=batch_size)\n",
    "    predict_training_input_fn = lambda: my_input_fn(training_examples,\n",
    "                                                    training_targets[\"median_house_value\"],\n",
    "                                                    shuffle=False,\n",
    "                                                    num_epochs=1)\n",
    "    predict_validation_input_fn = lambda: my_input_fn(validation_examples,\n",
    "                                                      validation_targets[\"median_house_value\"],\n",
    "                                                      shuffle=False,\n",
    "                                                      num_epochs=1)\n",
    "    \n",
    "    # Train the model in a loop\n",
    "    print(\"Training model...\")\n",
    "    print(\"  RMSE (on training data): \")\n",
    "    training_rmse = []\n",
    "    validation_rmse = []\n",
    "    for period in range(0, periods):\n",
    "        linear_regressor.train(\n",
    "            input_fn = training_input_fn,\n",
    "            steps = steps_per_period\n",
    "        )\n",
    "        \n",
    "        training_predictions = linear_regressor.predict(input_fn=predict_training_input_fn)\n",
    "        training_predictions = np.array([item['predictions'][0] for item in training_predictions])\n",
    "        validation_predictions = linear_regressor.predict(input_fn=predict_validation_input_fn)\n",
    "        validation_predictions = np.array([item['predictions'][0] for item in validation_predictions])\n",
    "        \n",
    "        training_root_mean_squared_error = math.sqrt(metrics.mean_squared_error(training_predictions,\n",
    "                                                                                training_targets))\n",
    "        validation_root_mean_squared_error = math.sqrt(metrics.mean_squared_error(validation_predictions,\n",
    "                                                                                       validation_targets))\n",
    "                \n",
    "        print(\"    Period %02d : %0.2f\\t%0.2f\" % (period+1,\n",
    "                                                  training_root_mean_squared_error,\n",
    "                                                  validation_root_mean_squared_error))\n",
    "        training_rmse.append(training_root_mean_squared_error)\n",
    "        validation_rmse.append(validation_root_mean_squared_error)\n",
    "    print(\"Model training finished.\")\n",
    "        \n",
    "    plt.ylabel(\"RMSE\")\n",
    "    plt.xlabel(\"Periods\")\n",
    "    plt.title(\"RMSE vs. Periods\")\n",
    "    plt.tight_layout()\n",
    "    plt.plot(training_rmse, label=\"training\", color=\"magenta\")\n",
    "    plt.plot(validation_rmse, label=\"validation\", color=\"g\")\n",
    "    plt.legend()\n",
    "    return linear_regressor"
   ]
  },
  {
   "cell_type": "code",
   "execution_count": 8,
   "metadata": {
    "ExecuteTime": {
     "end_time": "2018-04-16T19:08:03.847766Z",
     "start_time": "2018-04-16T19:04:16.284087Z"
    }
   },
   "outputs": [
    {
     "name": "stdout",
     "output_type": "stream",
     "text": [
      "Training model...\n",
      "  RMSE (on training data): \n",
      "    Period 01 : 206.38\t214.14\n",
      "    Period 02 : 153.23\t155.34\n",
      "    Period 03 : 115.29\t114.80\n",
      "    Period 04 : 135.32\t138.36\n",
      "    Period 05 : 156.01\t159.18\n",
      "    Period 06 : 146.97\t149.60\n",
      "    Period 07 : 172.81\t176.66\n",
      "    Period 08 : 143.34\t145.36\n",
      "    Period 09 : 124.67\t125.38\n",
      "    Period 10 : 136.49\t137.99\n",
      "Model training finished.\n"
     ]
    },
    {
     "data": {
      "image/png": "[encoded data removed]",
      "text/plain": [
       "<Figure size 432x288 with 1 Axes>"
      ]
     },
     "metadata": {},
     "output_type": "display_data"
    }
   ],
   "source": [
    "_ = train_model(\n",
    "    learning_rate = 1.0,\n",
    "    steps = 500,\n",
    "    batch_size = 100,\n",
    "    feature_columns = construct_feature_columns(training_examples),\n",
    "    training_examples = training_examples,\n",
    "    training_targets = training_targets,\n",
    "    validation_examples = validation_examples,\n",
    "    validation_targets = validation_targets\n",
    ")"
   ]
  },
  {
   "cell_type": "markdown",
   "metadata": {},
   "source": [
    "### Bucketization based on Quantiles"
   ]
  },
  {
   "cell_type": "markdown",
   "metadata": {},
   "source": [
    "#### Few Examples"
   ]
  },
  {
   "cell_type": "code",
   "execution_count": 9,
   "metadata": {
    "ExecuteTime": {
     "end_time": "2018-04-16T19:08:03.878394Z",
     "start_time": "2018-04-16T19:08:03.852012Z"
    }
   },
   "outputs": [],
   "source": [
    "# This function calculates boundaries based on qunatiles,\n",
    "# so that each bucket contains an equal number of elements.\n",
    "def get_qunatile_based_boundaries(feature_values, num_buckets):\n",
    "    boundaries = np.arange(1.0, num_buckets) / num_buckets\n",
    "    quantiles = feature_values.quantile(boundaries)\n",
    "    return [quantiles[q] for q in quantiles.keys()]\n",
    "\n",
    "# examples\n",
    "households = tf.feature_column.numeric_column(\"households\")\n",
    "bucketized_households = tf.feature_column.bucketized_column(\n",
    "    households,boundaries=get_qunatile_based_boundaries(\n",
    "        california_housing_dataframe[\"households\"], 7))\n",
    "total_rooms = tf.feature_column.numeric_column(\"total_rooms\")\n",
    "bucketized_total_rooms = tf.feature_column.bucketized_column(\n",
    "    total_rooms,boundaries=get_qunatile_based_boundaries(\n",
    "        california_housing_dataframe[\"total_rooms\"], 10))"
   ]
  },
  {
   "cell_type": "markdown",
   "metadata": {},
   "source": [
    "### Construct Bucketized Feature Columns"
   ]
  },
  {
   "cell_type": "code",
   "execution_count": 10,
   "metadata": {
    "ExecuteTime": {
     "end_time": "2018-04-16T19:08:04.009512Z",
     "start_time": "2018-04-16T19:08:03.894269Z"
    }
   },
   "outputs": [],
   "source": [
    "def construct_bucketized_feature_columns():\n",
    "    latitude = tf.feature_column.numeric_column(\"latitude\")\n",
    "    longitude = tf.feature_column.numeric_column(\"longitude\")\n",
    "    households = tf.feature_column.numeric_column(\"households\")\n",
    "    housing_median_age = tf.feature_column.numeric_column(\"housing_median_age\")\n",
    "    median_income = tf.feature_column.numeric_column(\"median_income\")\n",
    "    rooms_per_person = tf.feature_column.numeric_column(\"rooms_per_person\")\n",
    "    \n",
    "    # Latitude in 10 buckets\n",
    "    bucketized_latitude = tf.feature_column.bucketized_column(\n",
    "        latitude, boundaries=get_qunatile_based_boundaries(\n",
    "            training_examples[\"latitude\"], 10))\n",
    "    \n",
    "    # Longitude in 10 buckets\n",
    "    bucketized_longitude = tf.feature_column.bucketized_column(\n",
    "        longitude, boundaries=get_qunatile_based_boundaries(\n",
    "            training_examples[\"longitude\"], 10))\n",
    "    \n",
    "    # Households in 7 buckets\n",
    "    bucketized_households = tf.feature_column.bucketized_column(\n",
    "        households, boundaries=get_qunatile_based_boundaries(\n",
    "            training_examples[\"households\"], 7))\n",
    "    \n",
    "    # Housing_median_age in 7 buckets\n",
    "    bucketized_housing_median_age = tf.feature_column.bucketized_column(\n",
    "        housing_median_age, boundaries=get_qunatile_based_boundaries(\n",
    "            training_examples[\"housing_median_age\"], 7))\n",
    "    \n",
    "    # Median_income in 7 buckets\n",
    "    bucketized_median_income = tf.feature_column.bucketized_column(\n",
    "        median_income, boundaries=get_qunatile_based_boundaries(\n",
    "            training_examples[\"median_income\"], 7))\n",
    "    \n",
    "    # Rooms_per_person in 7 buckets\n",
    "    bucketized_rooms_per_person = tf.feature_column.bucketized_column(\n",
    "        rooms_per_person, boundaries=get_qunatile_based_boundaries(\n",
    "            training_examples[\"rooms_per_person\"], 7))\n",
    "    \n",
    "    # features_columns -- bucketized\n",
    "    feature_columns = set([\n",
    "        bucketized_latitude,\n",
    "        bucketized_longitude,\n",
    "        bucketized_households,\n",
    "        bucketized_housing_median_age,\n",
    "        bucketized_median_income,\n",
    "        bucketized_rooms_per_person\n",
    "    ])\n",
    "    return feature_columns"
   ]
  },
  {
   "cell_type": "code",
   "execution_count": 11,
   "metadata": {
    "ExecuteTime": {
     "end_time": "2018-04-16T19:12:59.679109Z",
     "start_time": "2018-04-16T19:08:04.014745Z"
    }
   },
   "outputs": [
    {
     "name": "stdout",
     "output_type": "stream",
     "text": [
      "Training model...\n",
      "  RMSE (on training data): \n",
      "    Period 01 : 170.61\t166.96\n",
      "    Period 02 : 144.23\t140.72\n",
      "    Period 03 : 127.74\t124.41\n",
      "    Period 04 : 116.61\t113.47\n",
      "    Period 05 : 108.78\t105.80\n",
      "    Period 06 : 102.92\t100.07\n",
      "    Period 07 : 98.46\t95.68\n",
      "    Period 08 : 94.81\t92.05\n",
      "    Period 09 : 91.93\t89.23\n",
      "    Period 10 : 89.53\t86.86\n",
      "Model training finished.\n"
     ]
    },
    {
     "data": {
      "image/png": "[encoded data removed]",
      "text/plain": [
       "<Figure size 432x288 with 1 Axes>"
      ]
     },
     "metadata": {},
     "output_type": "display_data"
    }
   ],
   "source": [
    "_ = train_model(\n",
    "    learning_rate = 1.0,\n",
    "    steps = 500,\n",
    "    batch_size = 100,\n",
    "    feature_columns = construct_bucketized_feature_columns(),\n",
    "    training_examples = training_examples,\n",
    "    training_targets = training_targets,\n",
    "    validation_examples = validation_examples,\n",
    "    validation_targets = validation_targets\n",
    ")"
   ]
  },
  {
   "cell_type": "markdown",
   "metadata": {},
   "source": [
    "### Train the model by Feature Cross"
   ]
  },
  {
   "cell_type": "markdown",
   "metadata": {},
   "source": [
    "#### Crossing Latitude and Longitude"
   ]
  },
  {
   "cell_type": "code",
   "execution_count": 12,
   "metadata": {
    "ExecuteTime": {
     "end_time": "2018-04-16T19:12:59.712230Z",
     "start_time": "2018-04-16T19:12:59.683014Z"
    }
   },
   "outputs": [],
   "source": [
    "def feature_cross_bucketized_feature_columns():\n",
    "    latitude = tf.feature_column.numeric_column(\"latitude\")\n",
    "    longitude = tf.feature_column.numeric_column(\"longitude\")\n",
    "    households = tf.feature_column.numeric_column(\"households\")\n",
    "    housing_median_age = tf.feature_column.numeric_column(\"housing_median_age\")\n",
    "    median_income = tf.feature_column.numeric_column(\"median_income\")\n",
    "    rooms_per_person = tf.feature_column.numeric_column(\"rooms_per_person\")\n",
    "    \n",
    "    bucketized_latitude = tf.feature_column.bucketized_column(\n",
    "        latitude, boundaries=get_qunatile_based_boundaries(\n",
    "            training_examples[\"latitude\"], 10))\n",
    "    \n",
    "    bucketized_longitude = tf.feature_column.bucketized_column(\n",
    "        longitude, boundaries=get_qunatile_based_boundaries(\n",
    "            training_examples[\"longitude\"], 10))\n",
    "    \n",
    "    bucketized_households = tf.feature_column.bucketized_column(\n",
    "        households, boundaries=get_qunatile_based_boundaries(\n",
    "            training_examples[\"households\"], 7))\n",
    "    \n",
    "    bucketized_housing_median_age = tf.feature_column.bucketized_column(\n",
    "        housing_median_age, boundaries=get_qunatile_based_boundaries(\n",
    "            training_examples[\"housing_median_age\"], 7))\n",
    "    \n",
    "    bucketized_median_income = tf.feature_column.bucketized_column(\n",
    "        median_income, boundaries=get_qunatile_based_boundaries(\n",
    "            training_examples[\"median_income\"], 7))\n",
    "    \n",
    "    bucketized_rooms_per_person = tf.feature_column.bucketized_column(\n",
    "        rooms_per_person, boundaries=get_qunatile_based_boundaries(\n",
    "            training_examples[\"rooms_per_person\"], 7))\n",
    "    \n",
    "    # Define a feature cross by longitude and latitude\n",
    "    long_x_lat = tf.feature_column.crossed_column(\n",
    "        set([bucketized_longitude, bucketized_latitude]), hash_bucket_size=1000)\n",
    "    \n",
    "    # Define feature_columns\n",
    "    feature_columns = set([\n",
    "        bucketized_latitude,\n",
    "        bucketized_longitude,\n",
    "        bucketized_households,\n",
    "        bucketized_housing_median_age,\n",
    "        bucketized_median_income,\n",
    "        bucketized_rooms_per_person,\n",
    "        long_x_lat\n",
    "    ])\n",
    "    return feature_columns"
   ]
  },
  {
   "cell_type": "code",
   "execution_count": 13,
   "metadata": {
    "ExecuteTime": {
     "end_time": "2018-04-16T19:18:18.821517Z",
     "start_time": "2018-04-16T19:12:59.718696Z"
    }
   },
   "outputs": [
    {
     "name": "stdout",
     "output_type": "stream",
     "text": [
      "Training model...\n",
      "  RMSE (on training data): \n",
      "    Period 01 : 164.60\t160.99\n",
      "    Period 02 : 136.34\t132.88\n",
      "    Period 03 : 119.18\t115.93\n",
      "    Period 04 : 107.96\t104.86\n",
      "    Period 05 : 99.94\t96.88\n",
      "    Period 06 : 94.09\t91.14\n",
      "    Period 07 : 89.58\t86.65\n",
      "    Period 08 : 85.91\t83.07\n",
      "    Period 09 : 83.02\t80.18\n",
      "    Period 10 : 80.60\t77.84\n",
      "Model training finished.\n"
     ]
    },
    {
     "data": {
      "image/png": "[encoded data removed]",
      "text/plain": [
       "<Figure size 432x288 with 1 Axes>"
      ]
     },
     "metadata": {},
     "output_type": "display_data"
    }
   ],
   "source": [
    "_ = train_model(\n",
    "    learning_rate = 1.0,\n",
    "    steps = 500,\n",
    "    batch_size = 100,\n",
    "    feature_columns = feature_cross_bucketized_feature_columns(),\n",
    "    training_examples = training_examples,\n",
    "    training_targets = training_targets,\n",
    "    validation_examples = validation_examples,\n",
    "    validation_targets = validation_targets\n",
    ")"
   ]
  },
  {
   "cell_type": "code",
   "execution_count": null,
   "metadata": {},
   "outputs": [],
   "source": []
  }
 ],
 "metadata": {
  "kernelspec": {
   "display_name": "Python 3",
   "language": "python",
   "name": "python3"
  },
  "language_info": {
   "codemirror_mode": {
    "name": "ipython",
    "version": 3
   },
   "file_extension": ".py",
   "mimetype": "text/x-python",
   "name": "python",
   "nbconvert_exporter": "python",
   "pygments_lexer": "ipython3",
   "version": "3.6.5"
  },
  "toc": {
   "nav_menu": {},
   "number_sections": true,
   "sideBar": true,
   "skip_h1_title": false,
   "title_cell": "Table of Contents",
   "title_sidebar": "Contents",
   "toc_cell": false,
   "toc_position": {},
   "toc_section_display": true,
   "toc_window_display": false
  }
 },
 "nbformat": 4,
 "nbformat_minor": 2
}
