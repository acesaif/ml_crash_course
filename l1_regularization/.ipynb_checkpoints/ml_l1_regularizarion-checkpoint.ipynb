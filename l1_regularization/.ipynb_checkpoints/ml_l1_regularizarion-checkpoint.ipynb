{
 "cells": [
  {
   "cell_type": "markdown",
   "metadata": {},
   "source": [
    "### Setup"
   ]
  },
  {
   "cell_type": "code",
   "execution_count": 1,
   "metadata": {
    "ExecuteTime": {
     "end_time": "2018-04-19T06:23:17.788466Z",
     "start_time": "2018-04-19T06:23:13.613025Z"
    }
   },
   "outputs": [
    {
     "name": "stderr",
     "output_type": "stream",
     "text": [
      "/usr/local/lib64/python3.6/site-packages/h5py/__init__.py:36: FutureWarning: Conversion of the second argument of issubdtype from `float` to `np.floating` is deprecated. In future, it will be treated as `np.float64 == np.dtype(float).type`.\n",
      "  from ._conv import register_converters as _register_converters\n"
     ]
    }
   ],
   "source": [
    "import math\n",
    "\n",
    "from IPython import display\n",
    "from matplotlib import cm\n",
    "from matplotlib import gridspec\n",
    "from matplotlib import style\n",
    "from matplotlib import pyplot as plt\n",
    "import numpy as np\n",
    "import pandas as pd\n",
    "from sklearn import metrics\n",
    "import tensorflow as tf\n",
    "from tensorflow.python.data import Dataset\n",
    "\n",
    "tf.logging.set_verbosity(tf.logging.ERROR)\n",
    "pd.options.display.max_rows = 10\n",
    "pd.options.display.float_format = \"{:.1f}\".format\n",
    "style.use('ggplot')"
   ]
  },
  {
   "cell_type": "markdown",
   "metadata": {},
   "source": [
    "### Load Dataset and Randomization"
   ]
  },
  {
   "cell_type": "code",
   "execution_count": 2,
   "metadata": {
    "ExecuteTime": {
     "end_time": "2018-04-19T06:23:19.347814Z",
     "start_time": "2018-04-19T06:23:17.791134Z"
    }
   },
   "outputs": [
    {
     "data": {
      "text/html": [
       "<div>\n",
       "<style scoped>\n",
       "    .dataframe tbody tr th:only-of-type {\n",
       "        vertical-align: middle;\n",
       "    }\n",
       "\n",
       "    .dataframe tbody tr th {\n",
       "        vertical-align: top;\n",
       "    }\n",
       "\n",
       "    .dataframe thead th {\n",
       "        text-align: right;\n",
       "    }\n",
       "</style>\n",
       "<table border=\"1\" class=\"dataframe\">\n",
       "  <thead>\n",
       "    <tr style=\"text-align: right;\">\n",
       "      <th></th>\n",
       "      <th>longitude</th>\n",
       "      <th>latitude</th>\n",
       "      <th>housing_median_age</th>\n",
       "      <th>total_rooms</th>\n",
       "      <th>total_bedrooms</th>\n",
       "      <th>population</th>\n",
       "      <th>households</th>\n",
       "      <th>median_income</th>\n",
       "      <th>median_house_value</th>\n",
       "    </tr>\n",
       "  </thead>\n",
       "  <tbody>\n",
       "    <tr>\n",
       "      <th>count</th>\n",
       "      <td>17000.0</td>\n",
       "      <td>17000.0</td>\n",
       "      <td>17000.0</td>\n",
       "      <td>17000.0</td>\n",
       "      <td>17000.0</td>\n",
       "      <td>17000.0</td>\n",
       "      <td>17000.0</td>\n",
       "      <td>17000.0</td>\n",
       "      <td>17000.0</td>\n",
       "    </tr>\n",
       "    <tr>\n",
       "      <th>mean</th>\n",
       "      <td>-119.6</td>\n",
       "      <td>35.6</td>\n",
       "      <td>28.6</td>\n",
       "      <td>2643.7</td>\n",
       "      <td>539.4</td>\n",
       "      <td>1429.6</td>\n",
       "      <td>501.2</td>\n",
       "      <td>3.9</td>\n",
       "      <td>207300.9</td>\n",
       "    </tr>\n",
       "    <tr>\n",
       "      <th>std</th>\n",
       "      <td>2.0</td>\n",
       "      <td>2.1</td>\n",
       "      <td>12.6</td>\n",
       "      <td>2179.9</td>\n",
       "      <td>421.5</td>\n",
       "      <td>1147.9</td>\n",
       "      <td>384.5</td>\n",
       "      <td>1.9</td>\n",
       "      <td>115983.8</td>\n",
       "    </tr>\n",
       "    <tr>\n",
       "      <th>min</th>\n",
       "      <td>-124.3</td>\n",
       "      <td>32.5</td>\n",
       "      <td>1.0</td>\n",
       "      <td>2.0</td>\n",
       "      <td>1.0</td>\n",
       "      <td>3.0</td>\n",
       "      <td>1.0</td>\n",
       "      <td>0.5</td>\n",
       "      <td>14999.0</td>\n",
       "    </tr>\n",
       "    <tr>\n",
       "      <th>25%</th>\n",
       "      <td>-121.8</td>\n",
       "      <td>33.9</td>\n",
       "      <td>18.0</td>\n",
       "      <td>1462.0</td>\n",
       "      <td>297.0</td>\n",
       "      <td>790.0</td>\n",
       "      <td>282.0</td>\n",
       "      <td>2.6</td>\n",
       "      <td>119400.0</td>\n",
       "    </tr>\n",
       "    <tr>\n",
       "      <th>50%</th>\n",
       "      <td>-118.5</td>\n",
       "      <td>34.2</td>\n",
       "      <td>29.0</td>\n",
       "      <td>2127.0</td>\n",
       "      <td>434.0</td>\n",
       "      <td>1167.0</td>\n",
       "      <td>409.0</td>\n",
       "      <td>3.5</td>\n",
       "      <td>180400.0</td>\n",
       "    </tr>\n",
       "    <tr>\n",
       "      <th>75%</th>\n",
       "      <td>-118.0</td>\n",
       "      <td>37.7</td>\n",
       "      <td>37.0</td>\n",
       "      <td>3151.2</td>\n",
       "      <td>648.2</td>\n",
       "      <td>1721.0</td>\n",
       "      <td>605.2</td>\n",
       "      <td>4.8</td>\n",
       "      <td>265000.0</td>\n",
       "    </tr>\n",
       "    <tr>\n",
       "      <th>max</th>\n",
       "      <td>-114.3</td>\n",
       "      <td>42.0</td>\n",
       "      <td>52.0</td>\n",
       "      <td>37937.0</td>\n",
       "      <td>6445.0</td>\n",
       "      <td>35682.0</td>\n",
       "      <td>6082.0</td>\n",
       "      <td>15.0</td>\n",
       "      <td>500001.0</td>\n",
       "    </tr>\n",
       "  </tbody>\n",
       "</table>\n",
       "</div>"
      ],
      "text/plain": [
       "       longitude  latitude  housing_median_age  total_rooms  total_bedrooms  \\\n",
       "count    17000.0   17000.0             17000.0      17000.0         17000.0   \n",
       "mean      -119.6      35.6                28.6       2643.7           539.4   \n",
       "std          2.0       2.1                12.6       2179.9           421.5   \n",
       "min       -124.3      32.5                 1.0          2.0             1.0   \n",
       "25%       -121.8      33.9                18.0       1462.0           297.0   \n",
       "50%       -118.5      34.2                29.0       2127.0           434.0   \n",
       "75%       -118.0      37.7                37.0       3151.2           648.2   \n",
       "max       -114.3      42.0                52.0      37937.0          6445.0   \n",
       "\n",
       "       population  households  median_income  median_house_value  \n",
       "count     17000.0     17000.0        17000.0             17000.0  \n",
       "mean       1429.6       501.2            3.9            207300.9  \n",
       "std        1147.9       384.5            1.9            115983.8  \n",
       "min           3.0         1.0            0.5             14999.0  \n",
       "25%         790.0       282.0            2.6            119400.0  \n",
       "50%        1167.0       409.0            3.5            180400.0  \n",
       "75%        1721.0       605.2            4.8            265000.0  \n",
       "max       35682.0      6082.0           15.0            500001.0  "
      ]
     },
     "execution_count": 2,
     "metadata": {},
     "output_type": "execute_result"
    }
   ],
   "source": [
    "california_housing_dataframe = pd.read_csv(\"https://storage.googleapis.com/mledu-datasets/california_housing_train.csv\", sep=\",\")\n",
    "california_housing_dataframe = california_housing_dataframe.reindex(np.random.permutation(california_housing_dataframe.index))\n",
    "california_housing_dataframe.describe()"
   ]
  },
  {
   "cell_type": "markdown",
   "metadata": {},
   "source": [
    "### Preprocess the Data"
   ]
  },
  {
   "cell_type": "code",
   "execution_count": 3,
   "metadata": {
    "ExecuteTime": {
     "end_time": "2018-04-19T06:23:19.358745Z",
     "start_time": "2018-04-19T06:23:19.351160Z"
    }
   },
   "outputs": [],
   "source": [
    "def preprocess_features(california_housing_dataframe):\n",
    "    selected_features = california_housing_dataframe[\n",
    "        [\"latitude\",\n",
    "         \"longitude\",\n",
    "         \"housing_median_age\",\n",
    "         \"total_rooms\",\n",
    "         \"total_bedrooms\",\n",
    "         \"population\",\n",
    "         \"households\",\n",
    "         \"median_income\"]\n",
    "    ]\n",
    "    preprocessed_features = selected_features.copy()\n",
    "    preprocessed_features[\"rooms_per_person\"] = (california_housing_dataframe[\"total_rooms\"] / \n",
    "                                                 california_housing_dataframe[\"population\"])\n",
    "    return preprocessed_features\n",
    "\n",
    "def preprocess_targets(california_housing_dataframe):\n",
    "    output_targets = pd.DataFrame()\n",
    "    output_targets[\"median_house_value_is_high\"] = (\n",
    "        california_housing_dataframe[\"median_house_value\"] > 265000).astype(float)\n",
    "    return output_targets"
   ]
  },
  {
   "cell_type": "markdown",
   "metadata": {},
   "source": [
    "### Training set and Validation set"
   ]
  },
  {
   "cell_type": "code",
   "execution_count": 4,
   "metadata": {
    "ExecuteTime": {
     "end_time": "2018-04-19T06:23:20.008635Z",
     "start_time": "2018-04-19T06:23:19.361680Z"
    }
   },
   "outputs": [
    {
     "name": "stdout",
     "output_type": "stream",
     "text": [
      "Training Examples Summary: \n"
     ]
    },
    {
     "data": {
      "text/html": [
       "<div>\n",
       "<style scoped>\n",
       "    .dataframe tbody tr th:only-of-type {\n",
       "        vertical-align: middle;\n",
       "    }\n",
       "\n",
       "    .dataframe tbody tr th {\n",
       "        vertical-align: top;\n",
       "    }\n",
       "\n",
       "    .dataframe thead th {\n",
       "        text-align: right;\n",
       "    }\n",
       "</style>\n",
       "<table border=\"1\" class=\"dataframe\">\n",
       "  <thead>\n",
       "    <tr style=\"text-align: right;\">\n",
       "      <th></th>\n",
       "      <th>latitude</th>\n",
       "      <th>longitude</th>\n",
       "      <th>housing_median_age</th>\n",
       "      <th>total_rooms</th>\n",
       "      <th>total_bedrooms</th>\n",
       "      <th>population</th>\n",
       "      <th>households</th>\n",
       "      <th>median_income</th>\n",
       "      <th>rooms_per_person</th>\n",
       "    </tr>\n",
       "  </thead>\n",
       "  <tbody>\n",
       "    <tr>\n",
       "      <th>count</th>\n",
       "      <td>12000.0</td>\n",
       "      <td>12000.0</td>\n",
       "      <td>12000.0</td>\n",
       "      <td>12000.0</td>\n",
       "      <td>12000.0</td>\n",
       "      <td>12000.0</td>\n",
       "      <td>12000.0</td>\n",
       "      <td>12000.0</td>\n",
       "      <td>12000.0</td>\n",
       "    </tr>\n",
       "    <tr>\n",
       "      <th>mean</th>\n",
       "      <td>35.6</td>\n",
       "      <td>-119.6</td>\n",
       "      <td>28.6</td>\n",
       "      <td>2644.3</td>\n",
       "      <td>538.9</td>\n",
       "      <td>1431.6</td>\n",
       "      <td>500.5</td>\n",
       "      <td>3.9</td>\n",
       "      <td>2.0</td>\n",
       "    </tr>\n",
       "    <tr>\n",
       "      <th>std</th>\n",
       "      <td>2.1</td>\n",
       "      <td>2.0</td>\n",
       "      <td>12.6</td>\n",
       "      <td>2172.4</td>\n",
       "      <td>420.0</td>\n",
       "      <td>1161.3</td>\n",
       "      <td>382.4</td>\n",
       "      <td>1.9</td>\n",
       "      <td>1.1</td>\n",
       "    </tr>\n",
       "    <tr>\n",
       "      <th>min</th>\n",
       "      <td>32.5</td>\n",
       "      <td>-124.3</td>\n",
       "      <td>1.0</td>\n",
       "      <td>2.0</td>\n",
       "      <td>2.0</td>\n",
       "      <td>3.0</td>\n",
       "      <td>2.0</td>\n",
       "      <td>0.5</td>\n",
       "      <td>0.0</td>\n",
       "    </tr>\n",
       "    <tr>\n",
       "      <th>25%</th>\n",
       "      <td>33.9</td>\n",
       "      <td>-121.8</td>\n",
       "      <td>18.0</td>\n",
       "      <td>1466.8</td>\n",
       "      <td>296.0</td>\n",
       "      <td>791.0</td>\n",
       "      <td>281.0</td>\n",
       "      <td>2.6</td>\n",
       "      <td>1.5</td>\n",
       "    </tr>\n",
       "    <tr>\n",
       "      <th>50%</th>\n",
       "      <td>34.2</td>\n",
       "      <td>-118.5</td>\n",
       "      <td>29.0</td>\n",
       "      <td>2131.0</td>\n",
       "      <td>435.0</td>\n",
       "      <td>1163.0</td>\n",
       "      <td>410.0</td>\n",
       "      <td>3.5</td>\n",
       "      <td>1.9</td>\n",
       "    </tr>\n",
       "    <tr>\n",
       "      <th>75%</th>\n",
       "      <td>37.7</td>\n",
       "      <td>-118.0</td>\n",
       "      <td>37.0</td>\n",
       "      <td>3141.2</td>\n",
       "      <td>650.0</td>\n",
       "      <td>1722.0</td>\n",
       "      <td>606.0</td>\n",
       "      <td>4.8</td>\n",
       "      <td>2.3</td>\n",
       "    </tr>\n",
       "    <tr>\n",
       "      <th>max</th>\n",
       "      <td>42.0</td>\n",
       "      <td>-114.3</td>\n",
       "      <td>52.0</td>\n",
       "      <td>37937.0</td>\n",
       "      <td>6445.0</td>\n",
       "      <td>35682.0</td>\n",
       "      <td>6082.0</td>\n",
       "      <td>15.0</td>\n",
       "      <td>52.0</td>\n",
       "    </tr>\n",
       "  </tbody>\n",
       "</table>\n",
       "</div>"
      ],
      "text/plain": [
       "       latitude  longitude  housing_median_age  total_rooms  total_bedrooms  \\\n",
       "count   12000.0    12000.0             12000.0      12000.0         12000.0   \n",
       "mean       35.6     -119.6                28.6       2644.3           538.9   \n",
       "std         2.1        2.0                12.6       2172.4           420.0   \n",
       "min        32.5     -124.3                 1.0          2.0             2.0   \n",
       "25%        33.9     -121.8                18.0       1466.8           296.0   \n",
       "50%        34.2     -118.5                29.0       2131.0           435.0   \n",
       "75%        37.7     -118.0                37.0       3141.2           650.0   \n",
       "max        42.0     -114.3                52.0      37937.0          6445.0   \n",
       "\n",
       "       population  households  median_income  rooms_per_person  \n",
       "count     12000.0     12000.0        12000.0           12000.0  \n",
       "mean       1431.6       500.5            3.9               2.0  \n",
       "std        1161.3       382.4            1.9               1.1  \n",
       "min           3.0         2.0            0.5               0.0  \n",
       "25%         791.0       281.0            2.6               1.5  \n",
       "50%        1163.0       410.0            3.5               1.9  \n",
       "75%        1722.0       606.0            4.8               2.3  \n",
       "max       35682.0      6082.0           15.0              52.0  "
      ]
     },
     "metadata": {},
     "output_type": "display_data"
    },
    {
     "name": "stdout",
     "output_type": "stream",
     "text": [
      "Validation Examples Summary: \n"
     ]
    },
    {
     "data": {
      "text/html": [
       "<div>\n",
       "<style scoped>\n",
       "    .dataframe tbody tr th:only-of-type {\n",
       "        vertical-align: middle;\n",
       "    }\n",
       "\n",
       "    .dataframe tbody tr th {\n",
       "        vertical-align: top;\n",
       "    }\n",
       "\n",
       "    .dataframe thead th {\n",
       "        text-align: right;\n",
       "    }\n",
       "</style>\n",
       "<table border=\"1\" class=\"dataframe\">\n",
       "  <thead>\n",
       "    <tr style=\"text-align: right;\">\n",
       "      <th></th>\n",
       "      <th>latitude</th>\n",
       "      <th>longitude</th>\n",
       "      <th>housing_median_age</th>\n",
       "      <th>total_rooms</th>\n",
       "      <th>total_bedrooms</th>\n",
       "      <th>population</th>\n",
       "      <th>households</th>\n",
       "      <th>median_income</th>\n",
       "      <th>rooms_per_person</th>\n",
       "    </tr>\n",
       "  </thead>\n",
       "  <tbody>\n",
       "    <tr>\n",
       "      <th>count</th>\n",
       "      <td>5000.0</td>\n",
       "      <td>5000.0</td>\n",
       "      <td>5000.0</td>\n",
       "      <td>5000.0</td>\n",
       "      <td>5000.0</td>\n",
       "      <td>5000.0</td>\n",
       "      <td>5000.0</td>\n",
       "      <td>5000.0</td>\n",
       "      <td>5000.0</td>\n",
       "    </tr>\n",
       "    <tr>\n",
       "      <th>mean</th>\n",
       "      <td>35.6</td>\n",
       "      <td>-119.6</td>\n",
       "      <td>28.6</td>\n",
       "      <td>2642.2</td>\n",
       "      <td>540.6</td>\n",
       "      <td>1424.8</td>\n",
       "      <td>502.9</td>\n",
       "      <td>3.9</td>\n",
       "      <td>2.0</td>\n",
       "    </tr>\n",
       "    <tr>\n",
       "      <th>std</th>\n",
       "      <td>2.1</td>\n",
       "      <td>2.0</td>\n",
       "      <td>12.7</td>\n",
       "      <td>2198.3</td>\n",
       "      <td>425.0</td>\n",
       "      <td>1115.1</td>\n",
       "      <td>389.6</td>\n",
       "      <td>1.9</td>\n",
       "      <td>1.3</td>\n",
       "    </tr>\n",
       "    <tr>\n",
       "      <th>min</th>\n",
       "      <td>32.5</td>\n",
       "      <td>-124.3</td>\n",
       "      <td>1.0</td>\n",
       "      <td>8.0</td>\n",
       "      <td>1.0</td>\n",
       "      <td>11.0</td>\n",
       "      <td>1.0</td>\n",
       "      <td>0.5</td>\n",
       "      <td>0.1</td>\n",
       "    </tr>\n",
       "    <tr>\n",
       "      <th>25%</th>\n",
       "      <td>33.9</td>\n",
       "      <td>-121.8</td>\n",
       "      <td>18.0</td>\n",
       "      <td>1453.0</td>\n",
       "      <td>298.0</td>\n",
       "      <td>785.0</td>\n",
       "      <td>283.0</td>\n",
       "      <td>2.6</td>\n",
       "      <td>1.5</td>\n",
       "    </tr>\n",
       "    <tr>\n",
       "      <th>50%</th>\n",
       "      <td>34.2</td>\n",
       "      <td>-118.5</td>\n",
       "      <td>29.0</td>\n",
       "      <td>2115.0</td>\n",
       "      <td>432.0</td>\n",
       "      <td>1176.5</td>\n",
       "      <td>407.0</td>\n",
       "      <td>3.5</td>\n",
       "      <td>1.9</td>\n",
       "    </tr>\n",
       "    <tr>\n",
       "      <th>75%</th>\n",
       "      <td>37.7</td>\n",
       "      <td>-118.0</td>\n",
       "      <td>37.0</td>\n",
       "      <td>3167.5</td>\n",
       "      <td>646.0</td>\n",
       "      <td>1715.0</td>\n",
       "      <td>604.2</td>\n",
       "      <td>4.7</td>\n",
       "      <td>2.3</td>\n",
       "    </tr>\n",
       "    <tr>\n",
       "      <th>max</th>\n",
       "      <td>41.8</td>\n",
       "      <td>-114.6</td>\n",
       "      <td>52.0</td>\n",
       "      <td>30405.0</td>\n",
       "      <td>4798.0</td>\n",
       "      <td>15037.0</td>\n",
       "      <td>4490.0</td>\n",
       "      <td>15.0</td>\n",
       "      <td>55.2</td>\n",
       "    </tr>\n",
       "  </tbody>\n",
       "</table>\n",
       "</div>"
      ],
      "text/plain": [
       "       latitude  longitude  housing_median_age  total_rooms  total_bedrooms  \\\n",
       "count    5000.0     5000.0              5000.0       5000.0          5000.0   \n",
       "mean       35.6     -119.6                28.6       2642.2           540.6   \n",
       "std         2.1        2.0                12.7       2198.3           425.0   \n",
       "min        32.5     -124.3                 1.0          8.0             1.0   \n",
       "25%        33.9     -121.8                18.0       1453.0           298.0   \n",
       "50%        34.2     -118.5                29.0       2115.0           432.0   \n",
       "75%        37.7     -118.0                37.0       3167.5           646.0   \n",
       "max        41.8     -114.6                52.0      30405.0          4798.0   \n",
       "\n",
       "       population  households  median_income  rooms_per_person  \n",
       "count      5000.0      5000.0         5000.0            5000.0  \n",
       "mean       1424.8       502.9            3.9               2.0  \n",
       "std        1115.1       389.6            1.9               1.3  \n",
       "min          11.0         1.0            0.5               0.1  \n",
       "25%         785.0       283.0            2.6               1.5  \n",
       "50%        1176.5       407.0            3.5               1.9  \n",
       "75%        1715.0       604.2            4.7               2.3  \n",
       "max       15037.0      4490.0           15.0              55.2  "
      ]
     },
     "metadata": {},
     "output_type": "display_data"
    },
    {
     "name": "stdout",
     "output_type": "stream",
     "text": [
      "Training Targets Summary: \n"
     ]
    },
    {
     "data": {
      "text/html": [
       "<div>\n",
       "<style scoped>\n",
       "    .dataframe tbody tr th:only-of-type {\n",
       "        vertical-align: middle;\n",
       "    }\n",
       "\n",
       "    .dataframe tbody tr th {\n",
       "        vertical-align: top;\n",
       "    }\n",
       "\n",
       "    .dataframe thead th {\n",
       "        text-align: right;\n",
       "    }\n",
       "</style>\n",
       "<table border=\"1\" class=\"dataframe\">\n",
       "  <thead>\n",
       "    <tr style=\"text-align: right;\">\n",
       "      <th></th>\n",
       "      <th>median_house_value_is_high</th>\n",
       "    </tr>\n",
       "  </thead>\n",
       "  <tbody>\n",
       "    <tr>\n",
       "      <th>count</th>\n",
       "      <td>12000.0</td>\n",
       "    </tr>\n",
       "    <tr>\n",
       "      <th>mean</th>\n",
       "      <td>0.2</td>\n",
       "    </tr>\n",
       "    <tr>\n",
       "      <th>std</th>\n",
       "      <td>0.4</td>\n",
       "    </tr>\n",
       "    <tr>\n",
       "      <th>min</th>\n",
       "      <td>0.0</td>\n",
       "    </tr>\n",
       "    <tr>\n",
       "      <th>25%</th>\n",
       "      <td>0.0</td>\n",
       "    </tr>\n",
       "    <tr>\n",
       "      <th>50%</th>\n",
       "      <td>0.0</td>\n",
       "    </tr>\n",
       "    <tr>\n",
       "      <th>75%</th>\n",
       "      <td>0.0</td>\n",
       "    </tr>\n",
       "    <tr>\n",
       "      <th>max</th>\n",
       "      <td>1.0</td>\n",
       "    </tr>\n",
       "  </tbody>\n",
       "</table>\n",
       "</div>"
      ],
      "text/plain": [
       "       median_house_value_is_high\n",
       "count                     12000.0\n",
       "mean                          0.2\n",
       "std                           0.4\n",
       "min                           0.0\n",
       "25%                           0.0\n",
       "50%                           0.0\n",
       "75%                           0.0\n",
       "max                           1.0"
      ]
     },
     "metadata": {},
     "output_type": "display_data"
    },
    {
     "name": "stdout",
     "output_type": "stream",
     "text": [
      "Validation Targets Summary: \n"
     ]
    },
    {
     "data": {
      "text/html": [
       "<div>\n",
       "<style scoped>\n",
       "    .dataframe tbody tr th:only-of-type {\n",
       "        vertical-align: middle;\n",
       "    }\n",
       "\n",
       "    .dataframe tbody tr th {\n",
       "        vertical-align: top;\n",
       "    }\n",
       "\n",
       "    .dataframe thead th {\n",
       "        text-align: right;\n",
       "    }\n",
       "</style>\n",
       "<table border=\"1\" class=\"dataframe\">\n",
       "  <thead>\n",
       "    <tr style=\"text-align: right;\">\n",
       "      <th></th>\n",
       "      <th>median_house_value_is_high</th>\n",
       "    </tr>\n",
       "  </thead>\n",
       "  <tbody>\n",
       "    <tr>\n",
       "      <th>count</th>\n",
       "      <td>5000.0</td>\n",
       "    </tr>\n",
       "    <tr>\n",
       "      <th>mean</th>\n",
       "      <td>0.3</td>\n",
       "    </tr>\n",
       "    <tr>\n",
       "      <th>std</th>\n",
       "      <td>0.4</td>\n",
       "    </tr>\n",
       "    <tr>\n",
       "      <th>min</th>\n",
       "      <td>0.0</td>\n",
       "    </tr>\n",
       "    <tr>\n",
       "      <th>25%</th>\n",
       "      <td>0.0</td>\n",
       "    </tr>\n",
       "    <tr>\n",
       "      <th>50%</th>\n",
       "      <td>0.0</td>\n",
       "    </tr>\n",
       "    <tr>\n",
       "      <th>75%</th>\n",
       "      <td>1.0</td>\n",
       "    </tr>\n",
       "    <tr>\n",
       "      <th>max</th>\n",
       "      <td>1.0</td>\n",
       "    </tr>\n",
       "  </tbody>\n",
       "</table>\n",
       "</div>"
      ],
      "text/plain": [
       "       median_house_value_is_high\n",
       "count                      5000.0\n",
       "mean                          0.3\n",
       "std                           0.4\n",
       "min                           0.0\n",
       "25%                           0.0\n",
       "50%                           0.0\n",
       "75%                           1.0\n",
       "max                           1.0"
      ]
     },
     "metadata": {},
     "output_type": "display_data"
    }
   ],
   "source": [
    "training_examples = preprocess_features(california_housing_dataframe.head(12000))\n",
    "training_targets = preprocess_targets(california_housing_dataframe.head(12000))\n",
    "validation_examples = preprocess_features(california_housing_dataframe.tail(5000))\n",
    "validation_targets = preprocess_targets(california_housing_dataframe.tail(5000))\n",
    "\n",
    "print(\"Training Examples Summary: \")\n",
    "display.display(training_examples.describe())\n",
    "print(\"Validation Examples Summary: \")\n",
    "display.display(validation_examples.describe())\n",
    "print(\"Training Targets Summary: \")\n",
    "display.display(training_targets.describe())\n",
    "print(\"Validation Targets Summary: \")\n",
    "display.display(validation_targets.describe())"
   ]
  },
  {
   "cell_type": "markdown",
   "metadata": {},
   "source": [
    "### Input Function"
   ]
  },
  {
   "cell_type": "code",
   "execution_count": 5,
   "metadata": {
    "ExecuteTime": {
     "end_time": "2018-04-19T06:23:20.023129Z",
     "start_time": "2018-04-19T06:23:20.013607Z"
    }
   },
   "outputs": [],
   "source": [
    "def my_input_fn(features, targets, batch_size=1, shuffle=True, num_epochs=None):\n",
    "    features = {key: np.array(value) for key, value in dict(features).items()}\n",
    "    ds = Dataset.from_tensor_slices((features, targets))\n",
    "    ds = ds.batch(batch_size).repeat(num_epochs)\n",
    "    if shuffle:\n",
    "        ds = ds.shuffle(buffer_size=10000)\n",
    "    features, labels = ds.make_one_shot_iterator().get_next()\n",
    "    return features, labels"
   ]
  },
  {
   "cell_type": "markdown",
   "metadata": {},
   "source": [
    "### Quantile based buckets"
   ]
  },
  {
   "cell_type": "code",
   "execution_count": 6,
   "metadata": {
    "ExecuteTime": {
     "end_time": "2018-04-19T06:23:20.120404Z",
     "start_time": "2018-04-19T06:23:20.031422Z"
    }
   },
   "outputs": [
    {
     "data": {
      "text/plain": [
       "[207.0, 282.0, 343.0, 409.0, 488.0, 605.25, 813.0]"
      ]
     },
     "execution_count": 6,
     "metadata": {},
     "output_type": "execute_result"
    }
   ],
   "source": [
    "def get_quantile_based_boundaries(feature_values, num_buckets):\n",
    "    quantiles = feature_values.quantile(\n",
    "        [(i+1.)/(num_buckets+1.) for i in range(num_buckets)])\n",
    "    return [quantiles[q] for q in quantiles.keys()]\n",
    "get_quantile_based_boundaries(california_housing_dataframe[\"households\"], 7)"
   ]
  },
  {
   "cell_type": "markdown",
   "metadata": {},
   "source": [
    "### Construct Feature Columns"
   ]
  },
  {
   "cell_type": "code",
   "execution_count": 7,
   "metadata": {
    "ExecuteTime": {
     "end_time": "2018-04-19T06:23:20.234305Z",
     "start_time": "2018-04-19T06:23:20.124799Z"
    }
   },
   "outputs": [],
   "source": [
    "def construct_feature_columns():\n",
    "    bucketized_latitude = tf.feature_column.bucketized_column(\n",
    "        tf.feature_column.numeric_column(\"latitude\"),\n",
    "        boundaries=get_quantile_based_boundaries(training_examples[\"latitude\"], 50))\n",
    "    bucketized_longitude = tf.feature_column.bucketized_column(\n",
    "        tf.feature_column.numeric_column(\"longitude\"),\n",
    "        boundaries=get_quantile_based_boundaries(training_examples[\"longitude\"], 50))\n",
    "    bucketized_housing_median_age = tf.feature_column.bucketized_column(\n",
    "        tf.feature_column.numeric_column(\"housing_median_age\"),\n",
    "        boundaries=get_quantile_based_boundaries(training_examples[\"housing_median_age\"], 10))\n",
    "    bucketized_total_rooms = tf.feature_column.bucketized_column(\n",
    "        tf.feature_column.numeric_column(\"total_rooms\"),\n",
    "        boundaries=get_quantile_based_boundaries(training_examples[\"total_rooms\"], 10))\n",
    "    bucketized_total_bedrooms = tf.feature_column.bucketized_column(\n",
    "        tf.feature_column.numeric_column(\"total_bedrooms\"),\n",
    "        boundaries=get_quantile_based_boundaries(training_examples[\"total_bedrooms\"], 10))\n",
    "    bucketized_population = tf.feature_column.bucketized_column(\n",
    "        tf.feature_column.numeric_column(\"population\"),\n",
    "        boundaries=get_quantile_based_boundaries(training_examples[\"population\"], 10))\n",
    "    bucketized_households = tf.feature_column.bucketized_column(\n",
    "        tf.feature_column.numeric_column(\"households\"),\n",
    "        boundaries=get_quantile_based_boundaries(training_examples[\"households\"], 10))\n",
    "    bucketized_median_income = tf.feature_column.bucketized_column(\n",
    "        tf.feature_column.numeric_column(\"median_income\"),\n",
    "        boundaries=get_quantile_based_boundaries(training_examples[\"median_income\"], 10))\n",
    "    bucketized_rooms_per_person = tf.feature_column.bucketized_column(\n",
    "        tf.feature_column.numeric_column(\"rooms_per_person\"),\n",
    "        boundaries=get_quantile_based_boundaries(training_examples[\"rooms_per_person\"], 10))\n",
    "    \n",
    "    long_x_lat = tf.feature_column.crossed_column(\n",
    "        set([bucketized_longitude, bucketized_latitude]), hash_bucket_size=1000)\n",
    "    \n",
    "    feature_columns = set([\n",
    "        long_x_lat,\n",
    "        bucketized_latitude,\n",
    "        bucketized_longitude,\n",
    "        bucketized_housing_median_age,\n",
    "        bucketized_total_rooms,\n",
    "        bucketized_total_bedrooms,\n",
    "        bucketized_population,\n",
    "        bucketized_households,\n",
    "        bucketized_median_income,\n",
    "        bucketized_rooms_per_person\n",
    "    ])\n",
    "    return feature_columns"
   ]
  },
  {
   "cell_type": "markdown",
   "metadata": {},
   "source": [
    "### Calculate Model Size"
   ]
  },
  {
   "cell_type": "code",
   "execution_count": 8,
   "metadata": {
    "ExecuteTime": {
     "end_time": "2018-04-19T06:23:20.345208Z",
     "start_time": "2018-04-19T06:23:20.240342Z"
    }
   },
   "outputs": [],
   "source": [
    "def model_size(estimator):\n",
    "    variables = estimator.get_variable_names()\n",
    "    size = 0\n",
    "    for variable in variables:\n",
    "        if not any(x in variable\n",
    "                   for x in ['global_step',\n",
    "                             'centered_bias_weight',\n",
    "                             'bias_weight',\n",
    "                             'Ftrl']\n",
    "                  ):\n",
    "            size += np.count_nonzero(estimator.get_variable_value(variable))\n",
    "    return size"
   ]
  },
  {
   "cell_type": "markdown",
   "metadata": {},
   "source": [
    "### Train the Model"
   ]
  },
  {
   "cell_type": "markdown",
   "metadata": {},
   "source": [
    "#### L1 Regularization and FTRL Optimizer"
   ]
  },
  {
   "cell_type": "code",
   "execution_count": 9,
   "metadata": {
    "ExecuteTime": {
     "end_time": "2018-04-19T06:23:20.425112Z",
     "start_time": "2018-04-19T06:23:20.350020Z"
    }
   },
   "outputs": [],
   "source": [
    "def train_linear_classifier_model(learning_rate,\n",
    "                                  regularization_strength,\n",
    "                                  steps,\n",
    "                                  batch_size,\n",
    "                                  feature_columns,\n",
    "                                  training_examples,\n",
    "                                  training_targets,\n",
    "                                  validation_examples,\n",
    "                                  validation_targets):\n",
    "    periods = 10\n",
    "    steps_per_period = steps / periods\n",
    "    \n",
    "    # Create linear_classifier object and configure it\n",
    "    # FtrlOptimizer() works better with l1_regularization\n",
    "    my_optimizer = tf.train.FtrlOptimizer(learning_rate=learning_rate,\n",
    "                                          l1_regularization_strength=regularization_strength)\n",
    "    my_optimizer = tf.contrib.estimator.clip_gradients_by_norm(my_optimizer, 5.0)\n",
    "    linear_classifier = tf.estimator.LinearClassifier(\n",
    "        feature_columns = construct_feature_columns(),\n",
    "        optimizer = my_optimizer\n",
    "    )\n",
    "    \n",
    "    # Create input functions\n",
    "    training_input_fn = lambda: my_input_fn(training_examples,\n",
    "                                            training_targets[\"median_house_value_is_high\"],\n",
    "                                            batch_size=batch_size)\n",
    "    predict_training_input_fn = lambda: my_input_fn(training_examples,\n",
    "                                                    training_targets[\"median_house_value_is_high\"],\n",
    "                                                    shuffle=False,\n",
    "                                                    num_epochs=1)\n",
    "    predict_validation_input_fn = lambda: my_input_fn(validation_examples,\n",
    "                                                      validation_targets[\"median_house_value_is_high\"],\n",
    "                                                      shuffle=False,\n",
    "                                                      num_epochs=1)\n",
    "    \n",
    "    # Train linear_classifier in a loop\n",
    "    print(\"Training model...\")\n",
    "    print(\"  LogLoss (on training data & validation data): \")\n",
    "    training_log_losses = []\n",
    "    validation_log_losses = []\n",
    "    for period in range(0, periods):\n",
    "        linear_classifier.train(\n",
    "            input_fn = training_input_fn,\n",
    "            steps = steps_per_period\n",
    "        )\n",
    "        \n",
    "        # Predictions\n",
    "        training_probabilities = linear_classifier.predict(input_fn=predict_training_input_fn)\n",
    "        training_probabilities = np.array([item['probabilities'] for item in training_probabilities])\n",
    "        validation_probabilities = linear_classifier.predict(input_fn=predict_validation_input_fn)\n",
    "        validation_probabilities = np.array([item['probabilities'] for item in validation_probabilities])\n",
    "        \n",
    "        # Compute LogLoss\n",
    "        training_log_loss = metrics.log_loss(training_targets,\n",
    "                                             training_probabilities)\n",
    "        validation_log_loss = metrics.log_loss(validation_targets,\n",
    "                                               validation_probabilities)\n",
    "        print(\"    Period %02d : %0.2f\\t%0.2f\" % (period+1,\n",
    "                                                  training_log_loss,\n",
    "                                                  validation_log_loss))\n",
    "        training_log_losses.append(training_log_loss)\n",
    "        validation_log_losses.append(validation_log_loss)\n",
    "    print(\"Model training finished.\")\n",
    "        \n",
    "    plt.ylabel(\"LogLoss\")\n",
    "    plt.xlabel(\"Periods\")\n",
    "    plt.title(\"LogLoss vs. Periods\")\n",
    "    plt.tight_layout()\n",
    "    plt.plot(training_log_losses, label=\"training\", color=\"magenta\")\n",
    "    plt.plot(validation_log_losses, label=\"validation\", color=\"g\")\n",
    "    plt.legend()\n",
    "    return linear_classifier"
   ]
  },
  {
   "cell_type": "markdown",
   "metadata": {},
   "source": [
    "### Regularization Strength to 0.0"
   ]
  },
  {
   "cell_type": "code",
   "execution_count": 10,
   "metadata": {
    "ExecuteTime": {
     "end_time": "2018-04-19T06:31:02.278972Z",
     "start_time": "2018-04-19T06:23:20.429398Z"
    }
   },
   "outputs": [
    {
     "name": "stdout",
     "output_type": "stream",
     "text": [
      "Training model...\n",
      "  LogLoss (on training data & validation data): \n",
      "    Period 01 : 0.32\t0.35\n",
      "    Period 02 : 0.28\t0.31\n",
      "    Period 03 : 0.26\t0.30\n",
      "    Period 04 : 0.25\t0.29\n",
      "    Period 05 : 0.25\t0.28\n",
      "    Period 06 : 0.24\t0.28\n",
      "    Period 07 : 0.24\t0.27\n",
      "    Period 08 : 0.23\t0.27\n",
      "    Period 09 : 0.23\t0.27\n",
      "    Period 10 : 0.23\t0.27\n",
      "Model training finished.\n",
      "Model size: 793\n"
     ]
    },
    {
     "data": {
      "image/png": "[encoded data removed]",
      "text/plain": [
       "<Figure size 432x288 with 1 Axes>"
      ]
     },
     "metadata": {},
     "output_type": "display_data"
    }
   ],
   "source": [
    "linear_classifier = train_linear_classifier_model(\n",
    "    learning_rate = 0.1,\n",
    "    regularization_strength = 0.0,\n",
    "    steps = 300,\n",
    "    batch_size = 100,\n",
    "    feature_columns = construct_feature_columns(),\n",
    "    training_examples = training_examples,\n",
    "    training_targets = training_targets,\n",
    "    validation_examples = validation_examples,\n",
    "    validation_targets = validation_targets\n",
    ")\n",
    "print(\"Model size: %s\" % model_size(linear_classifier))"
   ]
  },
  {
   "cell_type": "markdown",
   "metadata": {},
   "source": [
    "### Regularization Strength to 0.1"
   ]
  },
  {
   "cell_type": "code",
   "execution_count": 11,
   "metadata": {
    "ExecuteTime": {
     "end_time": "2018-04-19T06:40:39.672418Z",
     "start_time": "2018-04-19T06:31:02.282409Z"
    }
   },
   "outputs": [
    {
     "name": "stdout",
     "output_type": "stream",
     "text": [
      "Training model...\n",
      "  LogLoss (on training data & validation data): \n",
      "    Period 01 : 0.32\t0.35\n",
      "    Period 02 : 0.29\t0.32\n",
      "    Period 03 : 0.27\t0.30\n",
      "    Period 04 : 0.25\t0.29\n",
      "    Period 05 : 0.25\t0.28\n",
      "    Period 06 : 0.24\t0.28\n",
      "    Period 07 : 0.24\t0.27\n",
      "    Period 08 : 0.23\t0.27\n",
      "    Period 09 : 0.23\t0.27\n",
      "    Period 10 : 0.23\t0.27\n",
      "Model training finished.\n",
      "Model size: 751\n"
     ]
    },
    {
     "data": {
      "image/png": "[encoded data removed]",
      "text/plain": [
       "<Figure size 432x288 with 1 Axes>"
      ]
     },
     "metadata": {},
     "output_type": "display_data"
    }
   ],
   "source": [
    "linear_classifier = train_linear_classifier_model(\n",
    "    learning_rate = 0.1,\n",
    "    regularization_strength = 0.1,\n",
    "    steps = 300,\n",
    "    batch_size = 100,\n",
    "    feature_columns = construct_feature_columns(),\n",
    "    training_examples = training_examples,\n",
    "    training_targets = training_targets,\n",
    "    validation_examples = validation_examples,\n",
    "    validation_targets = validation_targets\n",
    ")\n",
    "print(\"Model size: %s\" % model_size(linear_classifier))"
   ]
  },
  {
   "cell_type": "markdown",
   "metadata": {},
   "source": [
    "### Some tracing with Probabilities"
   ]
  },
  {
   "cell_type": "code",
   "execution_count": 12,
   "metadata": {
    "ExecuteTime": {
     "end_time": "2018-04-19T06:40:51.692311Z",
     "start_time": "2018-04-19T06:40:39.676416Z"
    }
   },
   "outputs": [
    {
     "name": "stdout",
     "output_type": "stream",
     "text": [
      "[{'logits': array([2.4377692], dtype=float32), 'logistic': array([0.9196624], dtype=float32), 'probabilities': array([0.08033758, 0.9196624 ], dtype=float32), 'class_ids': array([1]), 'classes': array([b'1'], dtype=object)}\n",
      " {'logits': array([-3.3500986], dtype=float32), 'logistic': array([0.03389193], dtype=float32), 'probabilities': array([0.966108  , 0.03389193], dtype=float32), 'class_ids': array([0]), 'classes': array([b'0'], dtype=object)}\n",
      " {'logits': array([-4.8316145], dtype=float32), 'logistic': array([0.00791056], dtype=float32), 'probabilities': array([0.9920894 , 0.00791056], dtype=float32), 'class_ids': array([0]), 'classes': array([b'0'], dtype=object)}\n",
      " ...\n",
      " {'logits': array([-4.515731], dtype=float32), 'logistic': array([0.01081732], dtype=float32), 'probabilities': array([0.98918265, 0.01081732], dtype=float32), 'class_ids': array([0]), 'classes': array([b'0'], dtype=object)}\n",
      " {'logits': array([-5.1020455], dtype=float32), 'logistic': array([0.00604749], dtype=float32), 'probabilities': array([0.99395245, 0.00604749], dtype=float32), 'class_ids': array([0]), 'classes': array([b'0'], dtype=object)}\n",
      " {'logits': array([-3.4613101], dtype=float32), 'logistic': array([0.03043335], dtype=float32), 'probabilities': array([0.96956664, 0.03043335], dtype=float32), 'class_ids': array([0]), 'classes': array([b'0'], dtype=object)}]\n"
     ]
    }
   ],
   "source": [
    "predict_validation_input_fn = lambda: my_input_fn(validation_examples,\n",
    "                                                  validation_targets[\"median_house_value_is_high\"],\n",
    "                                                  shuffle=False,\n",
    "                                                  num_epochs=1)\n",
    "validation_probabilities = linear_classifier.predict(input_fn=predict_validation_input_fn)\n",
    "validation_probabilities = np.array([item for item in validation_probabilities])\n",
    "print(validation_probabilities)"
   ]
  },
  {
   "cell_type": "code",
   "execution_count": null,
   "metadata": {},
   "outputs": [],
   "source": []
  }
 ],
 "metadata": {
  "kernelspec": {
   "display_name": "Python 3",
   "language": "python",
   "name": "python3"
  },
  "language_info": {
   "codemirror_mode": {
    "name": "ipython",
    "version": 3
   },
   "file_extension": ".py",
   "mimetype": "text/x-python",
   "name": "python",
   "nbconvert_exporter": "python",
   "pygments_lexer": "ipython3",
   "version": "3.6.5"
  },
  "toc": {
   "nav_menu": {},
   "number_sections": true,
   "sideBar": true,
   "skip_h1_title": false,
   "title_cell": "Table of Contents",
   "title_sidebar": "Contents",
   "toc_cell": false,
   "toc_position": {},
   "toc_section_display": true,
   "toc_window_display": false
  }
 },
 "nbformat": 4,
 "nbformat_minor": 2
}
