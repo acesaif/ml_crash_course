{
 "cells": [
  {
   "cell_type": "markdown",
   "metadata": {
    "colab_type": "text",
    "id": "RDgXcL883MFJ"
   },
   "source": [
    "### Mouting Drive"
   ]
  },
  {
   "cell_type": "code",
   "execution_count": 0,
   "metadata": {
    "colab": {
     "autoexec": {
      "startup": false,
      "wait_interval": 0
     }
    },
    "colab_type": "code",
    "id": "oaxcxxR31Tpv"
   },
   "outputs": [],
   "source": [
    "!mkdir -p drive\n",
    "!google-drive-ocamlfuse drive"
   ]
  },
  {
   "cell_type": "markdown",
   "metadata": {
    "colab_type": "text",
    "id": "vHD3_grK3TQD"
   },
   "source": [
    "### Setting up"
   ]
  },
  {
   "cell_type": "code",
   "execution_count": 60,
   "metadata": {
    "colab": {
     "autoexec": {
      "startup": false,
      "wait_interval": 0
     },
     "base_uri": "https://localhost:8080/",
     "height": 34
    },
    "colab_type": "code",
    "executionInfo": {
     "elapsed": 1339,
     "status": "ok",
     "timestamp": 1524576581375,
     "user": {
      "displayName": "Mohammed Saifuddin",
      "photoUrl": "//lh5.googleusercontent.com/-WA85hItRjEY/AAAAAAAAAAI/AAAAAAAAAbE/UJEAr4wXn1Y/s50-c-k-no/photo.jpg",
      "userId": "107128453463956036616"
     },
     "user_tz": -330
    },
    "id": "e6Cplnz71yPr",
    "outputId": "009ab365-b68f-4e5b-e7ad-4eb704791289"
   },
   "outputs": [
    {
     "data": {
      "text/plain": [
       "'/device:GPU:0'"
      ]
     },
     "metadata": {
      "tags": []
     },
     "output_type": "display_data"
    }
   ],
   "source": [
    "import math\n",
    "\n",
    "from IPython import display\n",
    "from matplotlib import cm\n",
    "from matplotlib import gridspec\n",
    "from matplotlib import style\n",
    "from matplotlib import pyplot as plt\n",
    "import numpy as np\n",
    "import pandas as pd\n",
    "import seaborn as sns\n",
    "from sklearn import metrics\n",
    "import tensorflow as tf\n",
    "from tensorflow.python.data import Dataset\n",
    "\n",
    "tf.logging.set_verbosity(tf.logging.ERROR)\n",
    "display.display(tf.test.gpu_device_name())\n",
    "pd.options.display.max_rows = 10\n",
    "pd.set_option('display.float_format', lambda x: \"%.1f\" % x)\n",
    "style.use('ggplot')"
   ]
  },
  {
   "cell_type": "markdown",
   "metadata": {
    "colab_type": "text",
    "id": "3zHKCo_s5tZL"
   },
   "source": [
    "### Load Dataset and Randomization"
   ]
  },
  {
   "cell_type": "code",
   "execution_count": 87,
   "metadata": {
    "colab": {
     "autoexec": {
      "startup": false,
      "wait_interval": 0
     },
     "base_uri": "https://localhost:8080/",
     "height": 359
    },
    "colab_type": "code",
    "executionInfo": {
     "elapsed": 1690,
     "status": "ok",
     "timestamp": 1524578506547,
     "user": {
      "displayName": "Mohammed Saifuddin",
      "photoUrl": "//lh5.googleusercontent.com/-WA85hItRjEY/AAAAAAAAAAI/AAAAAAAAAbE/UJEAr4wXn1Y/s50-c-k-no/photo.jpg",
      "userId": "107128453463956036616"
     },
     "user_tz": -330
    },
    "id": "irYI4OVv5bgX",
    "outputId": "4b7aacc0-b239-424e-f347-6cd0a122b44a"
   },
   "outputs": [
    {
     "data": {
      "text/html": [
       "<div>\n",
       "<style scoped>\n",
       "    .dataframe tbody tr th:only-of-type {\n",
       "        vertical-align: middle;\n",
       "    }\n",
       "\n",
       "    .dataframe tbody tr th {\n",
       "        vertical-align: top;\n",
       "    }\n",
       "\n",
       "    .dataframe thead th {\n",
       "        text-align: right;\n",
       "    }\n",
       "</style>\n",
       "<table border=\"1\" class=\"dataframe\">\n",
       "  <thead>\n",
       "    <tr style=\"text-align: right;\">\n",
       "      <th></th>\n",
       "      <th>sp</th>\n",
       "      <th>sex</th>\n",
       "      <th>index</th>\n",
       "      <th>FL</th>\n",
       "      <th>RW</th>\n",
       "      <th>CL</th>\n",
       "      <th>CW</th>\n",
       "      <th>BD</th>\n",
       "    </tr>\n",
       "  </thead>\n",
       "  <tbody>\n",
       "    <tr>\n",
       "      <th>150</th>\n",
       "      <td>O</td>\n",
       "      <td>F</td>\n",
       "      <td>1</td>\n",
       "      <td>10.7</td>\n",
       "      <td>9.7</td>\n",
       "      <td>21.4</td>\n",
       "      <td>24.0</td>\n",
       "      <td>9.8</td>\n",
       "    </tr>\n",
       "    <tr>\n",
       "      <th>135</th>\n",
       "      <td>O</td>\n",
       "      <td>M</td>\n",
       "      <td>36</td>\n",
       "      <td>18.6</td>\n",
       "      <td>13.5</td>\n",
       "      <td>36.9</td>\n",
       "      <td>40.2</td>\n",
       "      <td>17.0</td>\n",
       "    </tr>\n",
       "    <tr>\n",
       "      <th>92</th>\n",
       "      <td>B</td>\n",
       "      <td>F</td>\n",
       "      <td>43</td>\n",
       "      <td>15.7</td>\n",
       "      <td>13.9</td>\n",
       "      <td>33.6</td>\n",
       "      <td>38.5</td>\n",
       "      <td>14.1</td>\n",
       "    </tr>\n",
       "    <tr>\n",
       "      <th>14</th>\n",
       "      <td>B</td>\n",
       "      <td>M</td>\n",
       "      <td>15</td>\n",
       "      <td>12.8</td>\n",
       "      <td>10.9</td>\n",
       "      <td>27.4</td>\n",
       "      <td>31.5</td>\n",
       "      <td>11.0</td>\n",
       "    </tr>\n",
       "    <tr>\n",
       "      <th>96</th>\n",
       "      <td>B</td>\n",
       "      <td>F</td>\n",
       "      <td>47</td>\n",
       "      <td>16.7</td>\n",
       "      <td>16.1</td>\n",
       "      <td>36.6</td>\n",
       "      <td>41.9</td>\n",
       "      <td>15.4</td>\n",
       "    </tr>\n",
       "    <tr>\n",
       "      <th>90</th>\n",
       "      <td>B</td>\n",
       "      <td>F</td>\n",
       "      <td>41</td>\n",
       "      <td>15.6</td>\n",
       "      <td>13.9</td>\n",
       "      <td>32.8</td>\n",
       "      <td>37.9</td>\n",
       "      <td>13.4</td>\n",
       "    </tr>\n",
       "    <tr>\n",
       "      <th>134</th>\n",
       "      <td>O</td>\n",
       "      <td>M</td>\n",
       "      <td>35</td>\n",
       "      <td>18.6</td>\n",
       "      <td>13.4</td>\n",
       "      <td>37.8</td>\n",
       "      <td>41.9</td>\n",
       "      <td>17.3</td>\n",
       "    </tr>\n",
       "    <tr>\n",
       "      <th>157</th>\n",
       "      <td>O</td>\n",
       "      <td>F</td>\n",
       "      <td>8</td>\n",
       "      <td>14.3</td>\n",
       "      <td>12.2</td>\n",
       "      <td>28.1</td>\n",
       "      <td>31.8</td>\n",
       "      <td>12.5</td>\n",
       "    </tr>\n",
       "    <tr>\n",
       "      <th>156</th>\n",
       "      <td>O</td>\n",
       "      <td>F</td>\n",
       "      <td>7</td>\n",
       "      <td>14.0</td>\n",
       "      <td>12.8</td>\n",
       "      <td>28.8</td>\n",
       "      <td>32.4</td>\n",
       "      <td>12.7</td>\n",
       "    </tr>\n",
       "    <tr>\n",
       "      <th>121</th>\n",
       "      <td>O</td>\n",
       "      <td>M</td>\n",
       "      <td>22</td>\n",
       "      <td>15.4</td>\n",
       "      <td>11.1</td>\n",
       "      <td>30.2</td>\n",
       "      <td>33.6</td>\n",
       "      <td>13.5</td>\n",
       "    </tr>\n",
       "  </tbody>\n",
       "</table>\n",
       "</div>"
      ],
      "text/plain": [
       "    sp sex  index   FL   RW   CL   CW   BD\n",
       "150  O   F      1 10.7  9.7 21.4 24.0  9.8\n",
       "135  O   M     36 18.6 13.5 36.9 40.2 17.0\n",
       "92   B   F     43 15.7 13.9 33.6 38.5 14.1\n",
       "14   B   M     15 12.8 10.9 27.4 31.5 11.0\n",
       "96   B   F     47 16.7 16.1 36.6 41.9 15.4\n",
       "90   B   F     41 15.6 13.9 32.8 37.9 13.4\n",
       "134  O   M     35 18.6 13.4 37.8 41.9 17.3\n",
       "157  O   F      8 14.3 12.2 28.1 31.8 12.5\n",
       "156  O   F      7 14.0 12.8 28.8 32.4 12.7\n",
       "121  O   M     22 15.4 11.1 30.2 33.6 13.5"
      ]
     },
     "execution_count": 87,
     "metadata": {
      "tags": []
     },
     "output_type": "execute_result"
    }
   ],
   "source": [
    "crabs_dataframe = pd.read_csv(\"drive/ml_directory/crabs_model/crabs_dataset.txt\",\n",
    "                              delim_whitespace=True)\n",
    "crabs_dataframe = crabs_dataframe.reindex(\n",
    "    np.random.permutation(crabs_dataframe.index))\n",
    "crabs_dataframe.head(10)"
   ]
  },
  {
   "cell_type": "markdown",
   "metadata": {
    "colab_type": "text",
    "id": "dIoWR1Ue6XRC"
   },
   "source": [
    "### Encoding Dataset for convinience"
   ]
  },
  {
   "cell_type": "code",
   "execution_count": 88,
   "metadata": {
    "colab": {
     "autoexec": {
      "startup": false,
      "wait_interval": 0
     },
     "base_uri": "https://localhost:8080/",
     "height": 359
    },
    "colab_type": "code",
    "executionInfo": {
     "elapsed": 909,
     "status": "ok",
     "timestamp": 1524578509515,
     "user": {
      "displayName": "Mohammed Saifuddin",
      "photoUrl": "//lh5.googleusercontent.com/-WA85hItRjEY/AAAAAAAAAAI/AAAAAAAAAbE/UJEAr4wXn1Y/s50-c-k-no/photo.jpg",
      "userId": "107128453463956036616"
     },
     "user_tz": -330
    },
    "id": "hCyfpFmZ6UN_",
    "outputId": "bf456a5a-5999-484a-e878-edc3ef2d6f26"
   },
   "outputs": [
    {
     "data": {
      "text/html": [
       "<div>\n",
       "<style scoped>\n",
       "    .dataframe tbody tr th:only-of-type {\n",
       "        vertical-align: middle;\n",
       "    }\n",
       "\n",
       "    .dataframe tbody tr th {\n",
       "        vertical-align: top;\n",
       "    }\n",
       "\n",
       "    .dataframe thead th {\n",
       "        text-align: right;\n",
       "    }\n",
       "</style>\n",
       "<table border=\"1\" class=\"dataframe\">\n",
       "  <thead>\n",
       "    <tr style=\"text-align: right;\">\n",
       "      <th></th>\n",
       "      <th>sp</th>\n",
       "      <th>sex</th>\n",
       "      <th>index</th>\n",
       "      <th>FL</th>\n",
       "      <th>RW</th>\n",
       "      <th>CL</th>\n",
       "      <th>CW</th>\n",
       "      <th>BD</th>\n",
       "    </tr>\n",
       "  </thead>\n",
       "  <tbody>\n",
       "    <tr>\n",
       "      <th>150</th>\n",
       "      <td>0</td>\n",
       "      <td>0</td>\n",
       "      <td>1</td>\n",
       "      <td>10.7</td>\n",
       "      <td>9.7</td>\n",
       "      <td>21.4</td>\n",
       "      <td>24.0</td>\n",
       "      <td>9.8</td>\n",
       "    </tr>\n",
       "    <tr>\n",
       "      <th>135</th>\n",
       "      <td>0</td>\n",
       "      <td>1</td>\n",
       "      <td>36</td>\n",
       "      <td>18.6</td>\n",
       "      <td>13.5</td>\n",
       "      <td>36.9</td>\n",
       "      <td>40.2</td>\n",
       "      <td>17.0</td>\n",
       "    </tr>\n",
       "    <tr>\n",
       "      <th>92</th>\n",
       "      <td>1</td>\n",
       "      <td>0</td>\n",
       "      <td>43</td>\n",
       "      <td>15.7</td>\n",
       "      <td>13.9</td>\n",
       "      <td>33.6</td>\n",
       "      <td>38.5</td>\n",
       "      <td>14.1</td>\n",
       "    </tr>\n",
       "    <tr>\n",
       "      <th>14</th>\n",
       "      <td>1</td>\n",
       "      <td>1</td>\n",
       "      <td>15</td>\n",
       "      <td>12.8</td>\n",
       "      <td>10.9</td>\n",
       "      <td>27.4</td>\n",
       "      <td>31.5</td>\n",
       "      <td>11.0</td>\n",
       "    </tr>\n",
       "    <tr>\n",
       "      <th>96</th>\n",
       "      <td>1</td>\n",
       "      <td>0</td>\n",
       "      <td>47</td>\n",
       "      <td>16.7</td>\n",
       "      <td>16.1</td>\n",
       "      <td>36.6</td>\n",
       "      <td>41.9</td>\n",
       "      <td>15.4</td>\n",
       "    </tr>\n",
       "    <tr>\n",
       "      <th>90</th>\n",
       "      <td>1</td>\n",
       "      <td>0</td>\n",
       "      <td>41</td>\n",
       "      <td>15.6</td>\n",
       "      <td>13.9</td>\n",
       "      <td>32.8</td>\n",
       "      <td>37.9</td>\n",
       "      <td>13.4</td>\n",
       "    </tr>\n",
       "    <tr>\n",
       "      <th>134</th>\n",
       "      <td>0</td>\n",
       "      <td>1</td>\n",
       "      <td>35</td>\n",
       "      <td>18.6</td>\n",
       "      <td>13.4</td>\n",
       "      <td>37.8</td>\n",
       "      <td>41.9</td>\n",
       "      <td>17.3</td>\n",
       "    </tr>\n",
       "    <tr>\n",
       "      <th>157</th>\n",
       "      <td>0</td>\n",
       "      <td>0</td>\n",
       "      <td>8</td>\n",
       "      <td>14.3</td>\n",
       "      <td>12.2</td>\n",
       "      <td>28.1</td>\n",
       "      <td>31.8</td>\n",
       "      <td>12.5</td>\n",
       "    </tr>\n",
       "    <tr>\n",
       "      <th>156</th>\n",
       "      <td>0</td>\n",
       "      <td>0</td>\n",
       "      <td>7</td>\n",
       "      <td>14.0</td>\n",
       "      <td>12.8</td>\n",
       "      <td>28.8</td>\n",
       "      <td>32.4</td>\n",
       "      <td>12.7</td>\n",
       "    </tr>\n",
       "    <tr>\n",
       "      <th>121</th>\n",
       "      <td>0</td>\n",
       "      <td>1</td>\n",
       "      <td>22</td>\n",
       "      <td>15.4</td>\n",
       "      <td>11.1</td>\n",
       "      <td>30.2</td>\n",
       "      <td>33.6</td>\n",
       "      <td>13.5</td>\n",
       "    </tr>\n",
       "  </tbody>\n",
       "</table>\n",
       "</div>"
      ],
      "text/plain": [
       "     sp  sex  index   FL   RW   CL   CW   BD\n",
       "150   0    0      1 10.7  9.7 21.4 24.0  9.8\n",
       "135   0    1     36 18.6 13.5 36.9 40.2 17.0\n",
       "92    1    0     43 15.7 13.9 33.6 38.5 14.1\n",
       "14    1    1     15 12.8 10.9 27.4 31.5 11.0\n",
       "96    1    0     47 16.7 16.1 36.6 41.9 15.4\n",
       "90    1    0     41 15.6 13.9 32.8 37.9 13.4\n",
       "134   0    1     35 18.6 13.4 37.8 41.9 17.3\n",
       "157   0    0      8 14.3 12.2 28.1 31.8 12.5\n",
       "156   0    0      7 14.0 12.8 28.8 32.4 12.7\n",
       "121   0    1     22 15.4 11.1 30.2 33.6 13.5"
      ]
     },
     "execution_count": 88,
     "metadata": {
      "tags": []
     },
     "output_type": "execute_result"
    }
   ],
   "source": [
    "crabs_dataframe_encoded = crabs_dataframe\n",
    "crabs_dataframe_encoded['sp'] = crabs_dataframe['sp'].apply(\n",
    "    lambda x: 1 if x == 'B' else 0)\n",
    "crabs_dataframe_encoded['sex'] = crabs_dataframe['sex'].apply(\n",
    "    lambda x: 1 if x == 'M' else 0)\n",
    "crabs_dataframe_encoded.head(10)"
   ]
  },
  {
   "cell_type": "markdown",
   "metadata": {
    "colab_type": "text",
    "id": "9NlWH7pL7diD"
   },
   "source": [
    "### Preprocess Data"
   ]
  },
  {
   "cell_type": "code",
   "execution_count": 0,
   "metadata": {
    "colab": {
     "autoexec": {
      "startup": false,
      "wait_interval": 0
     }
    },
    "colab_type": "code",
    "id": "sG3BWMXx7PWy"
   },
   "outputs": [],
   "source": [
    "def preprocess_features(crabs_dataframe_encoded):\n",
    "    selected_features = crabs_dataframe_encoded[['sex','FL','RW','CL','CW','BD']]\n",
    "    processed_features = selected_features.copy()\n",
    "    return processed_features\n",
    "\n",
    "def preprocess_targets(crabs_dataframe_encoded):\n",
    "    output_targets = pd.DataFrame()\n",
    "    output_targets['sp'] = crabs_dataframe_encoded['sp']\n",
    "    return output_targets"
   ]
  },
  {
   "cell_type": "markdown",
   "metadata": {
    "colab_type": "text",
    "id": "c3dwibPz8lIt"
   },
   "source": [
    "### Training set, Validation set and Test set"
   ]
  },
  {
   "cell_type": "code",
   "execution_count": 90,
   "metadata": {
    "colab": {
     "autoexec": {
      "startup": false,
      "wait_interval": 0
     },
     "base_uri": "https://localhost:8080/",
     "height": 1239
    },
    "colab_type": "code",
    "executionInfo": {
     "elapsed": 856,
     "status": "ok",
     "timestamp": 1524578514760,
     "user": {
      "displayName": "Mohammed Saifuddin",
      "photoUrl": "//lh5.googleusercontent.com/-WA85hItRjEY/AAAAAAAAAAI/AAAAAAAAAbE/UJEAr4wXn1Y/s50-c-k-no/photo.jpg",
      "userId": "107128453463956036616"
     },
     "user_tz": -330
    },
    "id": "KsmuPubT8j1s",
    "outputId": "d3cf505e-5536-4820-8069-79e4f8d79e15"
   },
   "outputs": [
    {
     "name": "stdout",
     "output_type": "stream",
     "text": [
      "Training Examples Summary: \n"
     ]
    },
    {
     "data": {
      "text/html": [
       "<div>\n",
       "<style scoped>\n",
       "    .dataframe tbody tr th:only-of-type {\n",
       "        vertical-align: middle;\n",
       "    }\n",
       "\n",
       "    .dataframe tbody tr th {\n",
       "        vertical-align: top;\n",
       "    }\n",
       "\n",
       "    .dataframe thead th {\n",
       "        text-align: right;\n",
       "    }\n",
       "</style>\n",
       "<table border=\"1\" class=\"dataframe\">\n",
       "  <thead>\n",
       "    <tr style=\"text-align: right;\">\n",
       "      <th></th>\n",
       "      <th>sex</th>\n",
       "      <th>FL</th>\n",
       "      <th>RW</th>\n",
       "      <th>CL</th>\n",
       "      <th>CW</th>\n",
       "      <th>BD</th>\n",
       "    </tr>\n",
       "  </thead>\n",
       "  <tbody>\n",
       "    <tr>\n",
       "      <th>count</th>\n",
       "      <td>100.0</td>\n",
       "      <td>100.0</td>\n",
       "      <td>100.0</td>\n",
       "      <td>100.0</td>\n",
       "      <td>100.0</td>\n",
       "      <td>100.0</td>\n",
       "    </tr>\n",
       "    <tr>\n",
       "      <th>mean</th>\n",
       "      <td>0.4</td>\n",
       "      <td>15.5</td>\n",
       "      <td>12.8</td>\n",
       "      <td>31.8</td>\n",
       "      <td>36.1</td>\n",
       "      <td>13.8</td>\n",
       "    </tr>\n",
       "    <tr>\n",
       "      <th>std</th>\n",
       "      <td>0.5</td>\n",
       "      <td>3.5</td>\n",
       "      <td>2.6</td>\n",
       "      <td>7.0</td>\n",
       "      <td>7.7</td>\n",
       "      <td>3.4</td>\n",
       "    </tr>\n",
       "    <tr>\n",
       "      <th>min</th>\n",
       "      <td>0.0</td>\n",
       "      <td>7.2</td>\n",
       "      <td>6.5</td>\n",
       "      <td>14.7</td>\n",
       "      <td>17.1</td>\n",
       "      <td>6.1</td>\n",
       "    </tr>\n",
       "    <tr>\n",
       "      <th>25%</th>\n",
       "      <td>0.0</td>\n",
       "      <td>12.8</td>\n",
       "      <td>11.1</td>\n",
       "      <td>27.6</td>\n",
       "      <td>31.8</td>\n",
       "      <td>11.3</td>\n",
       "    </tr>\n",
       "    <tr>\n",
       "      <th>50%</th>\n",
       "      <td>0.0</td>\n",
       "      <td>15.4</td>\n",
       "      <td>12.9</td>\n",
       "      <td>31.7</td>\n",
       "      <td>36.0</td>\n",
       "      <td>13.8</td>\n",
       "    </tr>\n",
       "    <tr>\n",
       "      <th>75%</th>\n",
       "      <td>1.0</td>\n",
       "      <td>18.2</td>\n",
       "      <td>14.2</td>\n",
       "      <td>36.8</td>\n",
       "      <td>41.9</td>\n",
       "      <td>16.4</td>\n",
       "    </tr>\n",
       "    <tr>\n",
       "      <th>max</th>\n",
       "      <td>1.0</td>\n",
       "      <td>23.1</td>\n",
       "      <td>20.2</td>\n",
       "      <td>47.2</td>\n",
       "      <td>52.5</td>\n",
       "      <td>21.5</td>\n",
       "    </tr>\n",
       "  </tbody>\n",
       "</table>\n",
       "</div>"
      ],
      "text/plain": [
       "        sex    FL    RW    CL    CW    BD\n",
       "count 100.0 100.0 100.0 100.0 100.0 100.0\n",
       "mean    0.4  15.5  12.8  31.8  36.1  13.8\n",
       "std     0.5   3.5   2.6   7.0   7.7   3.4\n",
       "min     0.0   7.2   6.5  14.7  17.1   6.1\n",
       "25%     0.0  12.8  11.1  27.6  31.8  11.3\n",
       "50%     0.0  15.4  12.9  31.7  36.0  13.8\n",
       "75%     1.0  18.2  14.2  36.8  41.9  16.4\n",
       "max     1.0  23.1  20.2  47.2  52.5  21.5"
      ]
     },
     "metadata": {
      "tags": []
     },
     "output_type": "display_data"
    },
    {
     "name": "stdout",
     "output_type": "stream",
     "text": [
      "Training Targets Summary: \n"
     ]
    },
    {
     "data": {
      "text/html": [
       "<div>\n",
       "<style scoped>\n",
       "    .dataframe tbody tr th:only-of-type {\n",
       "        vertical-align: middle;\n",
       "    }\n",
       "\n",
       "    .dataframe tbody tr th {\n",
       "        vertical-align: top;\n",
       "    }\n",
       "\n",
       "    .dataframe thead th {\n",
       "        text-align: right;\n",
       "    }\n",
       "</style>\n",
       "<table border=\"1\" class=\"dataframe\">\n",
       "  <thead>\n",
       "    <tr style=\"text-align: right;\">\n",
       "      <th></th>\n",
       "      <th>sp</th>\n",
       "    </tr>\n",
       "  </thead>\n",
       "  <tbody>\n",
       "    <tr>\n",
       "      <th>count</th>\n",
       "      <td>100.0</td>\n",
       "    </tr>\n",
       "    <tr>\n",
       "      <th>mean</th>\n",
       "      <td>0.5</td>\n",
       "    </tr>\n",
       "    <tr>\n",
       "      <th>std</th>\n",
       "      <td>0.5</td>\n",
       "    </tr>\n",
       "    <tr>\n",
       "      <th>min</th>\n",
       "      <td>0.0</td>\n",
       "    </tr>\n",
       "    <tr>\n",
       "      <th>25%</th>\n",
       "      <td>0.0</td>\n",
       "    </tr>\n",
       "    <tr>\n",
       "      <th>50%</th>\n",
       "      <td>1.0</td>\n",
       "    </tr>\n",
       "    <tr>\n",
       "      <th>75%</th>\n",
       "      <td>1.0</td>\n",
       "    </tr>\n",
       "    <tr>\n",
       "      <th>max</th>\n",
       "      <td>1.0</td>\n",
       "    </tr>\n",
       "  </tbody>\n",
       "</table>\n",
       "</div>"
      ],
      "text/plain": [
       "         sp\n",
       "count 100.0\n",
       "mean    0.5\n",
       "std     0.5\n",
       "min     0.0\n",
       "25%     0.0\n",
       "50%     1.0\n",
       "75%     1.0\n",
       "max     1.0"
      ]
     },
     "metadata": {
      "tags": []
     },
     "output_type": "display_data"
    },
    {
     "name": "stdout",
     "output_type": "stream",
     "text": [
      "Validation Examples Summary: \n"
     ]
    },
    {
     "data": {
      "text/html": [
       "<div>\n",
       "<style scoped>\n",
       "    .dataframe tbody tr th:only-of-type {\n",
       "        vertical-align: middle;\n",
       "    }\n",
       "\n",
       "    .dataframe tbody tr th {\n",
       "        vertical-align: top;\n",
       "    }\n",
       "\n",
       "    .dataframe thead th {\n",
       "        text-align: right;\n",
       "    }\n",
       "</style>\n",
       "<table border=\"1\" class=\"dataframe\">\n",
       "  <thead>\n",
       "    <tr style=\"text-align: right;\">\n",
       "      <th></th>\n",
       "      <th>sex</th>\n",
       "      <th>FL</th>\n",
       "      <th>RW</th>\n",
       "      <th>CL</th>\n",
       "      <th>CW</th>\n",
       "      <th>BD</th>\n",
       "    </tr>\n",
       "  </thead>\n",
       "  <tbody>\n",
       "    <tr>\n",
       "      <th>count</th>\n",
       "      <td>50.0</td>\n",
       "      <td>50.0</td>\n",
       "      <td>50.0</td>\n",
       "      <td>50.0</td>\n",
       "      <td>50.0</td>\n",
       "      <td>50.0</td>\n",
       "    </tr>\n",
       "    <tr>\n",
       "      <th>mean</th>\n",
       "      <td>0.6</td>\n",
       "      <td>15.7</td>\n",
       "      <td>12.6</td>\n",
       "      <td>32.3</td>\n",
       "      <td>36.5</td>\n",
       "      <td>14.3</td>\n",
       "    </tr>\n",
       "    <tr>\n",
       "      <th>std</th>\n",
       "      <td>0.5</td>\n",
       "      <td>3.6</td>\n",
       "      <td>2.6</td>\n",
       "      <td>7.5</td>\n",
       "      <td>8.2</td>\n",
       "      <td>3.6</td>\n",
       "    </tr>\n",
       "    <tr>\n",
       "      <th>min</th>\n",
       "      <td>0.0</td>\n",
       "      <td>8.1</td>\n",
       "      <td>6.7</td>\n",
       "      <td>16.1</td>\n",
       "      <td>19.0</td>\n",
       "      <td>7.0</td>\n",
       "    </tr>\n",
       "    <tr>\n",
       "      <th>25%</th>\n",
       "      <td>0.0</td>\n",
       "      <td>13.0</td>\n",
       "      <td>10.7</td>\n",
       "      <td>26.9</td>\n",
       "      <td>30.5</td>\n",
       "      <td>11.9</td>\n",
       "    </tr>\n",
       "    <tr>\n",
       "      <th>50%</th>\n",
       "      <td>1.0</td>\n",
       "      <td>16.2</td>\n",
       "      <td>12.8</td>\n",
       "      <td>32.7</td>\n",
       "      <td>37.0</td>\n",
       "      <td>14.6</td>\n",
       "    </tr>\n",
       "    <tr>\n",
       "      <th>75%</th>\n",
       "      <td>1.0</td>\n",
       "      <td>18.3</td>\n",
       "      <td>14.2</td>\n",
       "      <td>38.1</td>\n",
       "      <td>43.2</td>\n",
       "      <td>17.1</td>\n",
       "    </tr>\n",
       "    <tr>\n",
       "      <th>max</th>\n",
       "      <td>1.0</td>\n",
       "      <td>22.5</td>\n",
       "      <td>18.0</td>\n",
       "      <td>45.7</td>\n",
       "      <td>49.7</td>\n",
       "      <td>20.9</td>\n",
       "    </tr>\n",
       "  </tbody>\n",
       "</table>\n",
       "</div>"
      ],
      "text/plain": [
       "       sex   FL   RW   CL   CW   BD\n",
       "count 50.0 50.0 50.0 50.0 50.0 50.0\n",
       "mean   0.6 15.7 12.6 32.3 36.5 14.3\n",
       "std    0.5  3.6  2.6  7.5  8.2  3.6\n",
       "min    0.0  8.1  6.7 16.1 19.0  7.0\n",
       "25%    0.0 13.0 10.7 26.9 30.5 11.9\n",
       "50%    1.0 16.2 12.8 32.7 37.0 14.6\n",
       "75%    1.0 18.3 14.2 38.1 43.2 17.1\n",
       "max    1.0 22.5 18.0 45.7 49.7 20.9"
      ]
     },
     "metadata": {
      "tags": []
     },
     "output_type": "display_data"
    },
    {
     "name": "stdout",
     "output_type": "stream",
     "text": [
      "Validation Targets Summary: \n"
     ]
    },
    {
     "data": {
      "text/html": [
       "<div>\n",
       "<style scoped>\n",
       "    .dataframe tbody tr th:only-of-type {\n",
       "        vertical-align: middle;\n",
       "    }\n",
       "\n",
       "    .dataframe tbody tr th {\n",
       "        vertical-align: top;\n",
       "    }\n",
       "\n",
       "    .dataframe thead th {\n",
       "        text-align: right;\n",
       "    }\n",
       "</style>\n",
       "<table border=\"1\" class=\"dataframe\">\n",
       "  <thead>\n",
       "    <tr style=\"text-align: right;\">\n",
       "      <th></th>\n",
       "      <th>sp</th>\n",
       "    </tr>\n",
       "  </thead>\n",
       "  <tbody>\n",
       "    <tr>\n",
       "      <th>count</th>\n",
       "      <td>50.0</td>\n",
       "    </tr>\n",
       "    <tr>\n",
       "      <th>mean</th>\n",
       "      <td>0.4</td>\n",
       "    </tr>\n",
       "    <tr>\n",
       "      <th>std</th>\n",
       "      <td>0.5</td>\n",
       "    </tr>\n",
       "    <tr>\n",
       "      <th>min</th>\n",
       "      <td>0.0</td>\n",
       "    </tr>\n",
       "    <tr>\n",
       "      <th>25%</th>\n",
       "      <td>0.0</td>\n",
       "    </tr>\n",
       "    <tr>\n",
       "      <th>50%</th>\n",
       "      <td>0.0</td>\n",
       "    </tr>\n",
       "    <tr>\n",
       "      <th>75%</th>\n",
       "      <td>1.0</td>\n",
       "    </tr>\n",
       "    <tr>\n",
       "      <th>max</th>\n",
       "      <td>1.0</td>\n",
       "    </tr>\n",
       "  </tbody>\n",
       "</table>\n",
       "</div>"
      ],
      "text/plain": [
       "        sp\n",
       "count 50.0\n",
       "mean   0.4\n",
       "std    0.5\n",
       "min    0.0\n",
       "25%    0.0\n",
       "50%    0.0\n",
       "75%    1.0\n",
       "max    1.0"
      ]
     },
     "metadata": {
      "tags": []
     },
     "output_type": "display_data"
    },
    {
     "name": "stdout",
     "output_type": "stream",
     "text": [
      "50\n",
      "50\n"
     ]
    }
   ],
   "source": [
    "training_examples = preprocess_features(crabs_dataframe_encoded[:100])\n",
    "training_targets = preprocess_targets(crabs_dataframe_encoded[:100])\n",
    "print(\"Training Examples Summary: \")\n",
    "display.display(training_examples.describe())\n",
    "print(\"Training Targets Summary: \")\n",
    "display.display(training_targets.describe())\n",
    "\n",
    "validation_examples = preprocess_features(crabs_dataframe_encoded[100:150])\n",
    "validation_targets = preprocess_targets(crabs_dataframe_encoded[100:150])\n",
    "print(\"Validation Examples Summary: \")\n",
    "display.display(validation_examples.describe())\n",
    "print(\"Validation Targets Summary: \")\n",
    "display.display(validation_targets.describe())\n",
    "\n",
    "test_examples = preprocess_features(crabs_dataframe_encoded[150:])\n",
    "test_targets = preprocess_targets(crabs_dataframe_encoded[150:])\n",
    "print(len(test_examples))\n",
    "print(len(test_targets))"
   ]
  },
  {
   "cell_type": "markdown",
   "metadata": {
    "colab_type": "text",
    "id": "oLdF7cRN-AmQ"
   },
   "source": [
    "### Construct Feature Columns"
   ]
  },
  {
   "cell_type": "code",
   "execution_count": 0,
   "metadata": {
    "colab": {
     "autoexec": {
      "startup": false,
      "wait_interval": 0
     }
    },
    "colab_type": "code",
    "id": "UuYMNi659xeu"
   },
   "outputs": [],
   "source": [
    "def construct_feature_columns(input_features):\n",
    "    return set([tf.feature_column.numeric_column(my_feature)\n",
    "                for my_feature in input_features])"
   ]
  },
  {
   "cell_type": "markdown",
   "metadata": {
    "colab_type": "text",
    "id": "62pxHRg3-crt"
   },
   "source": [
    "### Input Function"
   ]
  },
  {
   "cell_type": "code",
   "execution_count": 0,
   "metadata": {
    "colab": {
     "autoexec": {
      "startup": false,
      "wait_interval": 0
     }
    },
    "colab_type": "code",
    "id": "oAHEZ-CL-b3p"
   },
   "outputs": [],
   "source": [
    "def my_input_fn(features, targets, batch_size=1, shuffle=True, num_epochs=None):\n",
    "    features = {key: np.array(value) for key, value in dict(features).items()}\n",
    "    ds = Dataset.from_tensor_slices((features, targets))\n",
    "    ds = ds.batch(batch_size).repeat(num_epochs)\n",
    "    if shuffle:\n",
    "        ds = ds.shuffle(buffer_size=10)\n",
    "    features, labels = ds.make_one_shot_iterator().get_next()\n",
    "    return features, labels"
   ]
  },
  {
   "cell_type": "markdown",
   "metadata": {
    "colab_type": "text",
    "id": "FzBQ_unGABar"
   },
   "source": [
    "### Train Neural Network Model"
   ]
  },
  {
   "cell_type": "code",
   "execution_count": 0,
   "metadata": {
    "colab": {
     "autoexec": {
      "startup": false,
      "wait_interval": 0
     }
    },
    "colab_type": "code",
    "id": "n86XRyHGAADL"
   },
   "outputs": [],
   "source": [
    "def train_nn_classification_model(\n",
    "    my_optimizer,\n",
    "    steps,\n",
    "    batch_size,\n",
    "    hidden_units,\n",
    "    training_examples,\n",
    "    training_targets,\n",
    "    validation_examples,\n",
    "    validation_targets):\n",
    "\n",
    "    periods = 10\n",
    "    steps_per_period = steps / periods\n",
    "\n",
    "    # Create and configure dnn_classifier object\n",
    "    my_optimizer = tf.contrib.estimator.clip_gradients_by_norm(my_optimizer, 5.0)\n",
    "    dnn_classifier = tf.estimator.DNNClassifier(\n",
    "        feature_columns = construct_feature_columns(training_examples),\n",
    "        hidden_units = hidden_units,\n",
    "        optimizer = my_optimizer\n",
    "    )\n",
    "\n",
    "    # Create input_fn\n",
    "    training_input_fn = lambda: my_input_fn(\n",
    "        training_examples, training_targets['sp'], batch_size=batch_size)\n",
    "    predict_training_input_fn = lambda: my_input_fn(\n",
    "        training_examples, training_targets['sp'], shuffle=False, num_epochs=1)\n",
    "    predict_validation_input_fn = lambda: my_input_fn(\n",
    "        validation_examples, validation_targets['sp'], shuffle=False, num_epochs=1)\n",
    "\n",
    "    # Train the model in a loop\n",
    "    print(\"Training model...\")\n",
    "    print(\"  LogLoss error (on training data & validation data): \")\n",
    "    training_log_losses = []\n",
    "    validation_log_losses = []\n",
    "    for period in range(0, periods):\n",
    "        dnn_classifier.train(\n",
    "            input_fn = training_input_fn,\n",
    "            steps = steps_per_period\n",
    "        )\n",
    "\n",
    "        # Compute predictions\n",
    "        training_predictions = list(dnn_classifier.predict(\n",
    "            input_fn=predict_training_input_fn))\n",
    "        training_probabilities = np.array(\n",
    "            [item['probabilities'] for item in training_predictions])\n",
    "        training_pred_class_id = np.array(\n",
    "            [item['class_ids'][0] for item in training_predictions])\n",
    "        training_pred_one_hot = tf.keras.utils.to_categorical(\n",
    "            training_pred_class_id, 2)\n",
    "\n",
    "        validation_predictions = list(dnn_classifier.predict(\n",
    "            input_fn=predict_validation_input_fn))\n",
    "        validation_probabilities = np.array(\n",
    "            [item['probabilities'] for item in validation_predictions])\n",
    "        validation_pred_class_id = np.array(\n",
    "            [item['class_ids'][0] for item in validation_predictions])\n",
    "        validation_pred_one_hot = tf.keras.utils.to_categorical(\n",
    "            validation_pred_class_id, 2)\n",
    "\n",
    "        # Compute log_loss\n",
    "        training_log_loss = metrics.log_loss(\n",
    "            training_targets, training_pred_one_hot)\n",
    "        validation_log_loss = metrics.log_loss(\n",
    "            validation_targets, validation_pred_one_hot)\n",
    "        print(\"    Period %02d : %0.2f\\t%0.2f\" % \n",
    "              (period, training_log_loss, validation_log_loss))\n",
    "        training_log_losses.append(training_log_loss)\n",
    "        validation_log_losses.append(validation_log_loss)\n",
    "    print(\"Model training finished.\")\n",
    "    print(\"Final LogLoss (on training data): %0.5f\" % training_log_loss)\n",
    "    print(\"Final LogLoss (on validation data) : %0.5f\" % validation_log_loss)\n",
    "\n",
    "    final_training_predictions = dnn_classifier.predict(\n",
    "        input_fn=predict_training_input_fn)\n",
    "    final_training_predictions = np.array(\n",
    "        [item['class_ids'][0] for item in final_training_predictions])\n",
    "\n",
    "    final_validation_predictions = dnn_classifier.predict(\n",
    "        input_fn=predict_validation_input_fn)\n",
    "    final_validation_predictions = np.array(\n",
    "        [item['class_ids'][0] for item in final_validation_predictions])\n",
    "\n",
    "    # Compute accuracy\n",
    "    training_accuracy = metrics.accuracy_score(\n",
    "        training_targets, final_training_predictions)\n",
    "    validation_accuracy = metrics.accuracy_score(\n",
    "        validation_targets, final_validation_predictions)\n",
    "\n",
    "    print(\"Accuracy (on training data): %0.5f\" % training_accuracy)\n",
    "    print(\"Accuracy (on validation data): %0.5f\" % validation_accuracy)\n",
    "\n",
    "    plt.ylabel(\"LogLoss\")\n",
    "    plt.xlabel(\"Periods\")\n",
    "    plt.title(\"LogLoss vs. Periods\")\n",
    "    plt.tight_layout()\n",
    "    plt.plot(training_log_losses, label=\"training\", color=\"magenta\")\n",
    "    plt.plot(validation_log_losses, label=\"validation\", color=\"g\")\n",
    "    plt.legend()\n",
    "    plt.show()\n",
    "\n",
    "    cm = metrics.confusion_matrix(validation_targets,final_validation_predictions)\n",
    "    cm_normalized = cm.astype(\"float\") / cm.sum(axis=1)[:, np.newaxis]\n",
    "    ax = sns.heatmap(cm_normalized, cmap=\"bone_r\")\n",
    "    ax.set_aspect(1)\n",
    "    plt.title(\"Confusion Matrix (validation)\")\n",
    "    plt.ylabel(\"True label\")\n",
    "    plt.xlabel(\"Prediction label\")\n",
    "    plt.show()\n",
    "    return dnn_classifier"
   ]
  },
  {
   "cell_type": "code",
   "execution_count": 94,
   "metadata": {
    "colab": {
     "autoexec": {
      "startup": false,
      "wait_interval": 0
     },
     "base_uri": "https://localhost:8080/",
     "height": 1057
    },
    "colab_type": "code",
    "executionInfo": {
     "elapsed": 25776,
     "status": "ok",
     "timestamp": 1524578548421,
     "user": {
      "displayName": "Mohammed Saifuddin",
      "photoUrl": "//lh5.googleusercontent.com/-WA85hItRjEY/AAAAAAAAAAI/AAAAAAAAAbE/UJEAr4wXn1Y/s50-c-k-no/photo.jpg",
      "userId": "107128453463956036616"
     },
     "user_tz": -330
    },
    "id": "LEa-xyrxMlaP",
    "outputId": "18020cc0-b51d-4b1f-ba99-fa10753dd273"
   },
   "outputs": [
    {
     "name": "stdout",
     "output_type": "stream",
     "text": [
      "Training model...\n",
      "  LogLoss error (on training data & validation data): \n",
      "    Period 00 : 18.31\t13.82\n",
      "    Period 01 : 18.31\t13.82\n",
      "    Period 02 : 18.31\t13.82\n",
      "    Period 03 : 18.31\t13.82\n",
      "    Period 04 : 18.31\t13.82\n",
      "    Period 05 : 18.31\t13.82\n",
      "    Period 06 : 18.31\t13.82\n",
      "    Period 07 : 18.31\t13.82\n",
      "    Period 08 : 18.31\t13.82\n",
      "    Period 09 : 18.31\t13.82\n",
      "Model training finished.\n",
      "Final LogLoss (on training data): 18.30555\n",
      "Final LogLoss (on validation data) : 13.81551\n",
      "Accuracy (on training data): 0.47000\n",
      "Accuracy (on validation data): 0.60000\n"
     ]
    },
    {
     "data": {
      "image/png": "[encoded data removed]",
      "text/plain": [
       "<matplotlib.figure.Figure at 0x7ff6d2f3f160>"
      ]
     },
     "metadata": {
      "tags": []
     },
     "output_type": "display_data"
    },
    {
     "data": {
      "image/png": "[encoded data removed]",
      "text/plain": [
       "<matplotlib.figure.Figure at 0x7ff6c0357be0>"
      ]
     },
     "metadata": {
      "tags": []
     },
     "output_type": "display_data"
    }
   ],
   "source": [
    "dnn_classifier = train_nn_classification_model(\n",
    "    my_optimizer = tf.train.GradientDescentOptimizer(learning_rate=0.0000021),\n",
    "    steps = 1000,\n",
    "    batch_size = 300,\n",
    "    hidden_units = [5, 4],\n",
    "    training_examples = training_examples,\n",
    "    training_targets = training_targets,\n",
    "    validation_examples = validation_examples,\n",
    "    validation_targets = validation_targets\n",
    ")"
   ]
  },
  {
   "cell_type": "code",
   "execution_count": 98,
   "metadata": {
    "colab": {
     "autoexec": {
      "startup": false,
      "wait_interval": 0
     },
     "base_uri": "https://localhost:8080/",
     "height": 51
    },
    "colab_type": "code",
    "executionInfo": {
     "elapsed": 1524,
     "status": "ok",
     "timestamp": 1524578894121,
     "user": {
      "displayName": "Mohammed Saifuddin",
      "photoUrl": "//lh5.googleusercontent.com/-WA85hItRjEY/AAAAAAAAAAI/AAAAAAAAAbE/UJEAr4wXn1Y/s50-c-k-no/photo.jpg",
      "userId": "107128453463956036616"
     },
     "user_tz": -330
    },
    "id": "1B1WcDEAfQ2C",
    "outputId": "c768db58-d3ed-4cfe-c80e-b43cda8f2e0f"
   },
   "outputs": [
    {
     "name": "stdout",
     "output_type": "stream",
     "text": [
      "LoggLoss (on testing data): 18.65094\n",
      "Accuracy (on test data): 0.46000\n"
     ]
    }
   ],
   "source": [
    "predict_test_input_fn = lambda: my_input_fn(\n",
    "    test_examples, test_targets['sp'], shuffle=False, num_epochs=1)\n",
    "\n",
    "test_predictions = list(dnn_classifier.predict(input_fn=predict_test_input_fn))\n",
    "test_probabilities = np.array(\n",
    "    [item['probabilities'] for item in test_predictions])\n",
    "test_pred_class_id = np.array(\n",
    "    [item['class_ids'][0] for item in test_predictions])\n",
    "test_pred_one_hot = tf.keras.utils.to_categorical(test_pred_class_id, 2)\n",
    "\n",
    "test_log_loss = metrics.log_loss(test_targets, test_pred_one_hot)\n",
    "print(\"LoggLoss (on testing data): %0.5f\" % test_log_loss)\n",
    "\n",
    "final_test_predictions = dnn_classifier.predict(input_fn=predict_test_input_fn)\n",
    "final_test_predictions = np.array(\n",
    "    [item['class_ids'][0] for item in final_test_predictions])\n",
    "\n",
    "test_accuracy = metrics.accuracy_score(test_targets, final_test_predictions)\n",
    "print(\"Accuracy (on test data): %0.5f\" % test_accuracy)"
   ]
  },
  {
   "cell_type": "code",
   "execution_count": 0,
   "metadata": {
    "colab": {
     "autoexec": {
      "startup": false,
      "wait_interval": 0
     }
    },
    "colab_type": "code",
    "id": "w7jy_2ZQ8mtF"
   },
   "outputs": [],
   "source": []
  }
 ],
 "metadata": {
  "accelerator": "GPU",
  "colab": {
   "collapsed_sections": [],
   "default_view": {},
   "name": "ml_crabs_dnn_classification_model.ipynb",
   "provenance": [],
   "version": "0.3.2",
   "views": {}
  },
  "kernelspec": {
   "display_name": "Python 3",
   "language": "python",
   "name": "python3"
  },
  "language_info": {
   "codemirror_mode": {
    "name": "ipython",
    "version": 3
   },
   "file_extension": ".py",
   "mimetype": "text/x-python",
   "name": "python",
   "nbconvert_exporter": "python",
   "pygments_lexer": "ipython3",
   "version": "3.6.5"
  },
  "toc": {
   "nav_menu": {},
   "number_sections": true,
   "sideBar": true,
   "skip_h1_title": false,
   "title_cell": "Table of Contents",
   "title_sidebar": "Contents",
   "toc_cell": false,
   "toc_position": {},
   "toc_section_display": true,
   "toc_window_display": false
  }
 },
 "nbformat": 4,
 "nbformat_minor": 1
}
