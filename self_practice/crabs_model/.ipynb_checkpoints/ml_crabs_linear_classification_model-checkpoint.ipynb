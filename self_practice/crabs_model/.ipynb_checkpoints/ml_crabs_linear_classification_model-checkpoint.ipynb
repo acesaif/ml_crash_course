{
 "cells": [
  {
   "cell_type": "markdown",
   "metadata": {
    "colab_type": "text",
    "id": "nYEqtYdmv2u0"
   },
   "source": [
    "### Making Connections"
   ]
  },
  {
   "cell_type": "code",
   "execution_count": 1,
   "metadata": {
    "colab": {
     "autoexec": {
      "startup": false,
      "wait_interval": 0
     },
     "base_uri": "https://localhost:8080/",
     "height": 105
    },
    "colab_type": "code",
    "executionInfo": {
     "elapsed": 61851,
     "status": "ok",
     "timestamp": 1524545377059,
     "user": {
      "displayName": "Mohammed Saifuddin",
      "photoUrl": "//lh5.googleusercontent.com/-WA85hItRjEY/AAAAAAAAAAI/AAAAAAAAAbE/UJEAr4wXn1Y/s50-c-k-no/photo.jpg",
      "userId": "107128453463956036616"
     },
     "user_tz": -330
    },
    "id": "phit2HxvrCW6",
    "outputId": "d8d1cb7b-5190-498f-c37a-579caae1080f"
   },
   "outputs": [
    {
     "name": "stdout",
     "output_type": "stream",
     "text": [
      "Please, open the following URL in a web browser: https://accounts.google.com/o/oauth2/auth?client_id=32555940559.apps.googleusercontent.com&redirect_uri=urn%3Aietf%3Awg%3Aoauth%3A2.0%3Aoob&scope=https%3A%2F%2Fwww.googleapis.com%2Fauth%2Fdrive&response_type=code&access_type=offline&approval_prompt=force\r\n",
      "··········\n",
      "Please, open the following URL in a web browser: https://accounts.google.com/o/oauth2/auth?client_id=32555940559.apps.googleusercontent.com&redirect_uri=urn%3Aietf%3Awg%3Aoauth%3A2.0%3Aoob&scope=https%3A%2F%2Fwww.googleapis.com%2Fauth%2Fdrive&response_type=code&access_type=offline&approval_prompt=force\n",
      "Please enter the verification code: Access token retrieved correctly.\n"
     ]
    }
   ],
   "source": [
    "!apt-get install -y -qq software-properties-common python-software-properties module-init-tools\n",
    "!add-apt-repository -y ppa:alessandro-strada/ppa 2>&1 > /dev/null\n",
    "!apt-get update -qq 2>&1 > /dev/null\n",
    "!apt-get -y install -qq google-drive-ocamlfuse fuse\n",
    "from google.colab import auth\n",
    "auth.authenticate_user()\n",
    "from oauth2client.client import GoogleCredentials\n",
    "creds = GoogleCredentials.get_application_default()\n",
    "import getpass\n",
    "!google-drive-ocamlfuse -headless -id={creds.client_id} -secret={creds.client_secret} < /dev/null 2>&1 | grep URL\n",
    "vcode = getpass.getpass()\n",
    "!echo {vcode} | google-drive-ocamlfuse -headless -id={creds.client_id} -secret={creds.client_secret}"
   ]
  },
  {
   "cell_type": "markdown",
   "metadata": {
    "colab_type": "text",
    "id": "sf59eIx5xfId"
   },
   "source": [
    "### Mount Drive"
   ]
  },
  {
   "cell_type": "code",
   "execution_count": 0,
   "metadata": {
    "colab": {
     "autoexec": {
      "startup": false,
      "wait_interval": 0
     }
    },
    "colab_type": "code",
    "id": "6AVB4Vx3rKwa"
   },
   "outputs": [],
   "source": [
    "!mkdir -p drive\n",
    "!google-drive-ocamlfuse drive"
   ]
  },
  {
   "cell_type": "markdown",
   "metadata": {
    "colab_type": "text",
    "id": "IUIZWKJaximB"
   },
   "source": [
    "### Setting up"
   ]
  },
  {
   "cell_type": "code",
   "execution_count": 3,
   "metadata": {
    "colab": {
     "autoexec": {
      "startup": false,
      "wait_interval": 0
     },
     "base_uri": "https://localhost:8080/",
     "height": 34
    },
    "colab_type": "code",
    "executionInfo": {
     "elapsed": 6664,
     "status": "ok",
     "timestamp": 1524545391005,
     "user": {
      "displayName": "Mohammed Saifuddin",
      "photoUrl": "//lh5.googleusercontent.com/-WA85hItRjEY/AAAAAAAAAAI/AAAAAAAAAbE/UJEAr4wXn1Y/s50-c-k-no/photo.jpg",
      "userId": "107128453463956036616"
     },
     "user_tz": -330
    },
    "id": "qXdrUwZ2oRE8",
    "outputId": "1ad2caba-0a85-4623-c721-c8a7e4676d93"
   },
   "outputs": [
    {
     "data": {
      "text/plain": [
       "'/device:GPU:0'"
      ]
     },
     "metadata": {
      "tags": []
     },
     "output_type": "display_data"
    }
   ],
   "source": [
    "import math\n",
    "\n",
    "from IPython import display\n",
    "from matplotlib import cm\n",
    "from matplotlib import gridspec\n",
    "from matplotlib import style\n",
    "from matplotlib import pyplot as plt\n",
    "import numpy as np\n",
    "import pandas as pd\n",
    "import tensorflow as tf\n",
    "from sklearn import metrics\n",
    "from tensorflow.python.data import Dataset\n",
    "\n",
    "tf.logging.set_verbosity(tf.logging.ERROR)\n",
    "display.display(tf.test.gpu_device_name())\n",
    "pd.options.display.max_rows = 10\n",
    "pd.set_option('display.float_format', lambda x: '%.1f' % x)\n",
    "style.use('ggplot')"
   ]
  },
  {
   "cell_type": "markdown",
   "metadata": {
    "colab_type": "text",
    "id": "feU_s0RhxpIr"
   },
   "source": [
    "### Loading Dataset and Randomizaion"
   ]
  },
  {
   "cell_type": "code",
   "execution_count": 4,
   "metadata": {
    "colab": {
     "autoexec": {
      "startup": false,
      "wait_interval": 0
     },
     "base_uri": "https://localhost:8080/",
     "height": 359
    },
    "colab_type": "code",
    "executionInfo": {
     "elapsed": 2471,
     "status": "ok",
     "timestamp": 1524545393537,
     "user": {
      "displayName": "Mohammed Saifuddin",
      "photoUrl": "//lh5.googleusercontent.com/-WA85hItRjEY/AAAAAAAAAAI/AAAAAAAAAbE/UJEAr4wXn1Y/s50-c-k-no/photo.jpg",
      "userId": "107128453463956036616"
     },
     "user_tz": -330
    },
    "id": "b-slr_NupXc-",
    "outputId": "3936052b-0595-4095-d588-44037e111735"
   },
   "outputs": [
    {
     "data": {
      "text/html": [
       "<div>\n",
       "<style scoped>\n",
       "    .dataframe tbody tr th:only-of-type {\n",
       "        vertical-align: middle;\n",
       "    }\n",
       "\n",
       "    .dataframe tbody tr th {\n",
       "        vertical-align: top;\n",
       "    }\n",
       "\n",
       "    .dataframe thead th {\n",
       "        text-align: right;\n",
       "    }\n",
       "</style>\n",
       "<table border=\"1\" class=\"dataframe\">\n",
       "  <thead>\n",
       "    <tr style=\"text-align: right;\">\n",
       "      <th></th>\n",
       "      <th>sp</th>\n",
       "      <th>sex</th>\n",
       "      <th>index</th>\n",
       "      <th>FL</th>\n",
       "      <th>RW</th>\n",
       "      <th>CL</th>\n",
       "      <th>CW</th>\n",
       "      <th>BD</th>\n",
       "    </tr>\n",
       "  </thead>\n",
       "  <tbody>\n",
       "    <tr>\n",
       "      <th>97</th>\n",
       "      <td>B</td>\n",
       "      <td>F</td>\n",
       "      <td>48</td>\n",
       "      <td>17.4</td>\n",
       "      <td>16.9</td>\n",
       "      <td>38.2</td>\n",
       "      <td>44.1</td>\n",
       "      <td>16.6</td>\n",
       "    </tr>\n",
       "    <tr>\n",
       "      <th>160</th>\n",
       "      <td>O</td>\n",
       "      <td>F</td>\n",
       "      <td>11</td>\n",
       "      <td>15.0</td>\n",
       "      <td>12.3</td>\n",
       "      <td>30.1</td>\n",
       "      <td>33.3</td>\n",
       "      <td>14.0</td>\n",
       "    </tr>\n",
       "    <tr>\n",
       "      <th>26</th>\n",
       "      <td>B</td>\n",
       "      <td>M</td>\n",
       "      <td>27</td>\n",
       "      <td>15.4</td>\n",
       "      <td>11.8</td>\n",
       "      <td>33.0</td>\n",
       "      <td>37.5</td>\n",
       "      <td>13.6</td>\n",
       "    </tr>\n",
       "    <tr>\n",
       "      <th>170</th>\n",
       "      <td>O</td>\n",
       "      <td>F</td>\n",
       "      <td>21</td>\n",
       "      <td>17.5</td>\n",
       "      <td>14.3</td>\n",
       "      <td>34.5</td>\n",
       "      <td>39.6</td>\n",
       "      <td>15.6</td>\n",
       "    </tr>\n",
       "    <tr>\n",
       "      <th>79</th>\n",
       "      <td>B</td>\n",
       "      <td>F</td>\n",
       "      <td>30</td>\n",
       "      <td>14.7</td>\n",
       "      <td>12.5</td>\n",
       "      <td>30.1</td>\n",
       "      <td>34.7</td>\n",
       "      <td>12.5</td>\n",
       "    </tr>\n",
       "    <tr>\n",
       "      <th>197</th>\n",
       "      <td>O</td>\n",
       "      <td>F</td>\n",
       "      <td>48</td>\n",
       "      <td>21.9</td>\n",
       "      <td>17.2</td>\n",
       "      <td>42.6</td>\n",
       "      <td>47.4</td>\n",
       "      <td>19.5</td>\n",
       "    </tr>\n",
       "    <tr>\n",
       "      <th>57</th>\n",
       "      <td>B</td>\n",
       "      <td>F</td>\n",
       "      <td>8</td>\n",
       "      <td>10.3</td>\n",
       "      <td>9.5</td>\n",
       "      <td>21.3</td>\n",
       "      <td>24.7</td>\n",
       "      <td>8.9</td>\n",
       "    </tr>\n",
       "    <tr>\n",
       "      <th>10</th>\n",
       "      <td>B</td>\n",
       "      <td>M</td>\n",
       "      <td>11</td>\n",
       "      <td>12.2</td>\n",
       "      <td>10.8</td>\n",
       "      <td>27.3</td>\n",
       "      <td>31.6</td>\n",
       "      <td>10.9</td>\n",
       "    </tr>\n",
       "    <tr>\n",
       "      <th>124</th>\n",
       "      <td>O</td>\n",
       "      <td>M</td>\n",
       "      <td>25</td>\n",
       "      <td>16.3</td>\n",
       "      <td>11.6</td>\n",
       "      <td>31.6</td>\n",
       "      <td>34.2</td>\n",
       "      <td>14.5</td>\n",
       "    </tr>\n",
       "    <tr>\n",
       "      <th>78</th>\n",
       "      <td>B</td>\n",
       "      <td>F</td>\n",
       "      <td>29</td>\n",
       "      <td>13.9</td>\n",
       "      <td>13.0</td>\n",
       "      <td>30.0</td>\n",
       "      <td>34.9</td>\n",
       "      <td>13.1</td>\n",
       "    </tr>\n",
       "  </tbody>\n",
       "</table>\n",
       "</div>"
      ],
      "text/plain": [
       "    sp sex  index   FL   RW   CL   CW   BD\n",
       "97   B   F     48 17.4 16.9 38.2 44.1 16.6\n",
       "160  O   F     11 15.0 12.3 30.1 33.3 14.0\n",
       "26   B   M     27 15.4 11.8 33.0 37.5 13.6\n",
       "170  O   F     21 17.5 14.3 34.5 39.6 15.6\n",
       "79   B   F     30 14.7 12.5 30.1 34.7 12.5\n",
       "197  O   F     48 21.9 17.2 42.6 47.4 19.5\n",
       "57   B   F      8 10.3  9.5 21.3 24.7  8.9\n",
       "10   B   M     11 12.2 10.8 27.3 31.6 10.9\n",
       "124  O   M     25 16.3 11.6 31.6 34.2 14.5\n",
       "78   B   F     29 13.9 13.0 30.0 34.9 13.1"
      ]
     },
     "metadata": {
      "tags": []
     },
     "output_type": "display_data"
    }
   ],
   "source": [
    "crabs_dataframe = pd.read_csv('drive/ml_directory/crabs_model/crabs_dataset.txt',\n",
    "                              delim_whitespace=True)\n",
    "crabs_dataframe = crabs_dataframe.reindex(\n",
    "    np.random.permutation(crabs_dataframe.index))\n",
    "display.display(crabs_dataframe.head(10))"
   ]
  },
  {
   "cell_type": "markdown",
   "metadata": {
    "colab_type": "text",
    "id": "jvFuNULKxweN"
   },
   "source": [
    "### Encoding Labels to Boolean"
   ]
  },
  {
   "cell_type": "code",
   "execution_count": 5,
   "metadata": {
    "colab": {
     "autoexec": {
      "startup": false,
      "wait_interval": 0
     },
     "base_uri": "https://localhost:8080/",
     "height": 359
    },
    "colab_type": "code",
    "executionInfo": {
     "elapsed": 2650,
     "status": "ok",
     "timestamp": 1524545396236,
     "user": {
      "displayName": "Mohammed Saifuddin",
      "photoUrl": "//lh5.googleusercontent.com/-WA85hItRjEY/AAAAAAAAAAI/AAAAAAAAAbE/UJEAr4wXn1Y/s50-c-k-no/photo.jpg",
      "userId": "107128453463956036616"
     },
     "user_tz": -330
    },
    "id": "jyemi6TGq5u4",
    "outputId": "9f4ee1c6-1675-4d36-82f8-0e8b7e6788f8"
   },
   "outputs": [
    {
     "data": {
      "text/html": [
       "<div>\n",
       "<style scoped>\n",
       "    .dataframe tbody tr th:only-of-type {\n",
       "        vertical-align: middle;\n",
       "    }\n",
       "\n",
       "    .dataframe tbody tr th {\n",
       "        vertical-align: top;\n",
       "    }\n",
       "\n",
       "    .dataframe thead th {\n",
       "        text-align: right;\n",
       "    }\n",
       "</style>\n",
       "<table border=\"1\" class=\"dataframe\">\n",
       "  <thead>\n",
       "    <tr style=\"text-align: right;\">\n",
       "      <th></th>\n",
       "      <th>sp</th>\n",
       "      <th>sex</th>\n",
       "      <th>index</th>\n",
       "      <th>FL</th>\n",
       "      <th>RW</th>\n",
       "      <th>CL</th>\n",
       "      <th>CW</th>\n",
       "      <th>BD</th>\n",
       "    </tr>\n",
       "  </thead>\n",
       "  <tbody>\n",
       "    <tr>\n",
       "      <th>97</th>\n",
       "      <td>1</td>\n",
       "      <td>0</td>\n",
       "      <td>48</td>\n",
       "      <td>17.4</td>\n",
       "      <td>16.9</td>\n",
       "      <td>38.2</td>\n",
       "      <td>44.1</td>\n",
       "      <td>16.6</td>\n",
       "    </tr>\n",
       "    <tr>\n",
       "      <th>160</th>\n",
       "      <td>0</td>\n",
       "      <td>0</td>\n",
       "      <td>11</td>\n",
       "      <td>15.0</td>\n",
       "      <td>12.3</td>\n",
       "      <td>30.1</td>\n",
       "      <td>33.3</td>\n",
       "      <td>14.0</td>\n",
       "    </tr>\n",
       "    <tr>\n",
       "      <th>26</th>\n",
       "      <td>1</td>\n",
       "      <td>1</td>\n",
       "      <td>27</td>\n",
       "      <td>15.4</td>\n",
       "      <td>11.8</td>\n",
       "      <td>33.0</td>\n",
       "      <td>37.5</td>\n",
       "      <td>13.6</td>\n",
       "    </tr>\n",
       "    <tr>\n",
       "      <th>170</th>\n",
       "      <td>0</td>\n",
       "      <td>0</td>\n",
       "      <td>21</td>\n",
       "      <td>17.5</td>\n",
       "      <td>14.3</td>\n",
       "      <td>34.5</td>\n",
       "      <td>39.6</td>\n",
       "      <td>15.6</td>\n",
       "    </tr>\n",
       "    <tr>\n",
       "      <th>79</th>\n",
       "      <td>1</td>\n",
       "      <td>0</td>\n",
       "      <td>30</td>\n",
       "      <td>14.7</td>\n",
       "      <td>12.5</td>\n",
       "      <td>30.1</td>\n",
       "      <td>34.7</td>\n",
       "      <td>12.5</td>\n",
       "    </tr>\n",
       "    <tr>\n",
       "      <th>197</th>\n",
       "      <td>0</td>\n",
       "      <td>0</td>\n",
       "      <td>48</td>\n",
       "      <td>21.9</td>\n",
       "      <td>17.2</td>\n",
       "      <td>42.6</td>\n",
       "      <td>47.4</td>\n",
       "      <td>19.5</td>\n",
       "    </tr>\n",
       "    <tr>\n",
       "      <th>57</th>\n",
       "      <td>1</td>\n",
       "      <td>0</td>\n",
       "      <td>8</td>\n",
       "      <td>10.3</td>\n",
       "      <td>9.5</td>\n",
       "      <td>21.3</td>\n",
       "      <td>24.7</td>\n",
       "      <td>8.9</td>\n",
       "    </tr>\n",
       "    <tr>\n",
       "      <th>10</th>\n",
       "      <td>1</td>\n",
       "      <td>1</td>\n",
       "      <td>11</td>\n",
       "      <td>12.2</td>\n",
       "      <td>10.8</td>\n",
       "      <td>27.3</td>\n",
       "      <td>31.6</td>\n",
       "      <td>10.9</td>\n",
       "    </tr>\n",
       "    <tr>\n",
       "      <th>124</th>\n",
       "      <td>0</td>\n",
       "      <td>1</td>\n",
       "      <td>25</td>\n",
       "      <td>16.3</td>\n",
       "      <td>11.6</td>\n",
       "      <td>31.6</td>\n",
       "      <td>34.2</td>\n",
       "      <td>14.5</td>\n",
       "    </tr>\n",
       "    <tr>\n",
       "      <th>78</th>\n",
       "      <td>1</td>\n",
       "      <td>0</td>\n",
       "      <td>29</td>\n",
       "      <td>13.9</td>\n",
       "      <td>13.0</td>\n",
       "      <td>30.0</td>\n",
       "      <td>34.9</td>\n",
       "      <td>13.1</td>\n",
       "    </tr>\n",
       "  </tbody>\n",
       "</table>\n",
       "</div>"
      ],
      "text/plain": [
       "     sp  sex  index   FL   RW   CL   CW   BD\n",
       "97    1    0     48 17.4 16.9 38.2 44.1 16.6\n",
       "160   0    0     11 15.0 12.3 30.1 33.3 14.0\n",
       "26    1    1     27 15.4 11.8 33.0 37.5 13.6\n",
       "170   0    0     21 17.5 14.3 34.5 39.6 15.6\n",
       "79    1    0     30 14.7 12.5 30.1 34.7 12.5\n",
       "197   0    0     48 21.9 17.2 42.6 47.4 19.5\n",
       "57    1    0      8 10.3  9.5 21.3 24.7  8.9\n",
       "10    1    1     11 12.2 10.8 27.3 31.6 10.9\n",
       "124   0    1     25 16.3 11.6 31.6 34.2 14.5\n",
       "78    1    0     29 13.9 13.0 30.0 34.9 13.1"
      ]
     },
     "metadata": {
      "tags": []
     },
     "output_type": "display_data"
    }
   ],
   "source": [
    "crabs_dataframe_encoded = crabs_dataframe\n",
    "crabs_dataframe_encoded['sex'] = crabs_dataframe['sex'].apply(\n",
    "    lambda x: 1 if x == 'M' else 0)\n",
    "crabs_dataframe_encoded['sp'] = crabs_dataframe['sp'].apply(\n",
    "    lambda x: 1 if x == 'B' else 0)\n",
    "display.display(crabs_dataframe_encoded.head(10))"
   ]
  },
  {
   "cell_type": "markdown",
   "metadata": {
    "colab_type": "text",
    "id": "-e7v9u61x5Fv"
   },
   "source": [
    "### Preprocess the Data"
   ]
  },
  {
   "cell_type": "code",
   "execution_count": 0,
   "metadata": {
    "colab": {
     "autoexec": {
      "startup": false,
      "wait_interval": 0
     }
    },
    "colab_type": "code",
    "id": "LMOG6REPwEMq"
   },
   "outputs": [],
   "source": [
    "def preprocess_features(crabs_dataframe_encoded):\n",
    "    selected_features = crabs_dataframe_encoded[['sex','FL','RW','CL','CW','BD']]\n",
    "    processed_features = selected_features.copy()\n",
    "    return processed_features\n",
    "\n",
    "def preprocess_targets(crabs_dataframe_encoded):\n",
    "    output_targets = pd.DataFrame()\n",
    "    output_targets['sp'] = crabs_dataframe_encoded['sp']\n",
    "    return output_targets"
   ]
  },
  {
   "cell_type": "markdown",
   "metadata": {
    "colab_type": "text",
    "id": "4aPj8ttaz7vX"
   },
   "source": [
    "### Training set Validation set and Test set"
   ]
  },
  {
   "cell_type": "code",
   "execution_count": 7,
   "metadata": {
    "colab": {
     "autoexec": {
      "startup": false,
      "wait_interval": 0
     },
     "base_uri": "https://localhost:8080/",
     "height": 1239
    },
    "colab_type": "code",
    "executionInfo": {
     "elapsed": 1698,
     "status": "ok",
     "timestamp": 1524545399172,
     "user": {
      "displayName": "Mohammed Saifuddin",
      "photoUrl": "//lh5.googleusercontent.com/-WA85hItRjEY/AAAAAAAAAAI/AAAAAAAAAbE/UJEAr4wXn1Y/s50-c-k-no/photo.jpg",
      "userId": "107128453463956036616"
     },
     "user_tz": -330
    },
    "id": "3NXyk402z4df",
    "outputId": "3a6d0a94-fa33-4428-8355-a47e516f5df6"
   },
   "outputs": [
    {
     "name": "stdout",
     "output_type": "stream",
     "text": [
      "Training Examples Summary: \n"
     ]
    },
    {
     "data": {
      "text/html": [
       "<div>\n",
       "<style scoped>\n",
       "    .dataframe tbody tr th:only-of-type {\n",
       "        vertical-align: middle;\n",
       "    }\n",
       "\n",
       "    .dataframe tbody tr th {\n",
       "        vertical-align: top;\n",
       "    }\n",
       "\n",
       "    .dataframe thead th {\n",
       "        text-align: right;\n",
       "    }\n",
       "</style>\n",
       "<table border=\"1\" class=\"dataframe\">\n",
       "  <thead>\n",
       "    <tr style=\"text-align: right;\">\n",
       "      <th></th>\n",
       "      <th>sex</th>\n",
       "      <th>FL</th>\n",
       "      <th>RW</th>\n",
       "      <th>CL</th>\n",
       "      <th>CW</th>\n",
       "      <th>BD</th>\n",
       "    </tr>\n",
       "  </thead>\n",
       "  <tbody>\n",
       "    <tr>\n",
       "      <th>count</th>\n",
       "      <td>100.0</td>\n",
       "      <td>100.0</td>\n",
       "      <td>100.0</td>\n",
       "      <td>100.0</td>\n",
       "      <td>100.0</td>\n",
       "      <td>100.0</td>\n",
       "    </tr>\n",
       "    <tr>\n",
       "      <th>mean</th>\n",
       "      <td>0.5</td>\n",
       "      <td>15.5</td>\n",
       "      <td>12.8</td>\n",
       "      <td>32.2</td>\n",
       "      <td>36.7</td>\n",
       "      <td>14.0</td>\n",
       "    </tr>\n",
       "    <tr>\n",
       "      <th>std</th>\n",
       "      <td>0.5</td>\n",
       "      <td>3.2</td>\n",
       "      <td>2.4</td>\n",
       "      <td>6.5</td>\n",
       "      <td>7.1</td>\n",
       "      <td>3.2</td>\n",
       "    </tr>\n",
       "    <tr>\n",
       "      <th>min</th>\n",
       "      <td>0.0</td>\n",
       "      <td>8.8</td>\n",
       "      <td>7.7</td>\n",
       "      <td>18.1</td>\n",
       "      <td>20.8</td>\n",
       "      <td>7.4</td>\n",
       "    </tr>\n",
       "    <tr>\n",
       "      <th>25%</th>\n",
       "      <td>0.0</td>\n",
       "      <td>13.2</td>\n",
       "      <td>11.3</td>\n",
       "      <td>27.8</td>\n",
       "      <td>31.9</td>\n",
       "      <td>11.9</td>\n",
       "    </tr>\n",
       "    <tr>\n",
       "      <th>50%</th>\n",
       "      <td>0.0</td>\n",
       "      <td>15.4</td>\n",
       "      <td>12.9</td>\n",
       "      <td>32.3</td>\n",
       "      <td>37.0</td>\n",
       "      <td>13.8</td>\n",
       "    </tr>\n",
       "    <tr>\n",
       "      <th>75%</th>\n",
       "      <td>1.0</td>\n",
       "      <td>17.9</td>\n",
       "      <td>14.1</td>\n",
       "      <td>36.8</td>\n",
       "      <td>41.9</td>\n",
       "      <td>16.1</td>\n",
       "    </tr>\n",
       "    <tr>\n",
       "      <th>max</th>\n",
       "      <td>1.0</td>\n",
       "      <td>22.1</td>\n",
       "      <td>18.4</td>\n",
       "      <td>47.1</td>\n",
       "      <td>54.6</td>\n",
       "      <td>20.5</td>\n",
       "    </tr>\n",
       "  </tbody>\n",
       "</table>\n",
       "</div>"
      ],
      "text/plain": [
       "        sex    FL    RW    CL    CW    BD\n",
       "count 100.0 100.0 100.0 100.0 100.0 100.0\n",
       "mean    0.5  15.5  12.8  32.2  36.7  14.0\n",
       "std     0.5   3.2   2.4   6.5   7.1   3.2\n",
       "min     0.0   8.8   7.7  18.1  20.8   7.4\n",
       "25%     0.0  13.2  11.3  27.8  31.9  11.9\n",
       "50%     0.0  15.4  12.9  32.3  37.0  13.8\n",
       "75%     1.0  17.9  14.1  36.8  41.9  16.1\n",
       "max     1.0  22.1  18.4  47.1  54.6  20.5"
      ]
     },
     "metadata": {
      "tags": []
     },
     "output_type": "display_data"
    },
    {
     "name": "stdout",
     "output_type": "stream",
     "text": [
      "Training Targets Summary: \n"
     ]
    },
    {
     "data": {
      "text/html": [
       "<div>\n",
       "<style scoped>\n",
       "    .dataframe tbody tr th:only-of-type {\n",
       "        vertical-align: middle;\n",
       "    }\n",
       "\n",
       "    .dataframe tbody tr th {\n",
       "        vertical-align: top;\n",
       "    }\n",
       "\n",
       "    .dataframe thead th {\n",
       "        text-align: right;\n",
       "    }\n",
       "</style>\n",
       "<table border=\"1\" class=\"dataframe\">\n",
       "  <thead>\n",
       "    <tr style=\"text-align: right;\">\n",
       "      <th></th>\n",
       "      <th>sp</th>\n",
       "    </tr>\n",
       "  </thead>\n",
       "  <tbody>\n",
       "    <tr>\n",
       "      <th>count</th>\n",
       "      <td>100.0</td>\n",
       "    </tr>\n",
       "    <tr>\n",
       "      <th>mean</th>\n",
       "      <td>0.6</td>\n",
       "    </tr>\n",
       "    <tr>\n",
       "      <th>std</th>\n",
       "      <td>0.5</td>\n",
       "    </tr>\n",
       "    <tr>\n",
       "      <th>min</th>\n",
       "      <td>0.0</td>\n",
       "    </tr>\n",
       "    <tr>\n",
       "      <th>25%</th>\n",
       "      <td>0.0</td>\n",
       "    </tr>\n",
       "    <tr>\n",
       "      <th>50%</th>\n",
       "      <td>1.0</td>\n",
       "    </tr>\n",
       "    <tr>\n",
       "      <th>75%</th>\n",
       "      <td>1.0</td>\n",
       "    </tr>\n",
       "    <tr>\n",
       "      <th>max</th>\n",
       "      <td>1.0</td>\n",
       "    </tr>\n",
       "  </tbody>\n",
       "</table>\n",
       "</div>"
      ],
      "text/plain": [
       "         sp\n",
       "count 100.0\n",
       "mean    0.6\n",
       "std     0.5\n",
       "min     0.0\n",
       "25%     0.0\n",
       "50%     1.0\n",
       "75%     1.0\n",
       "max     1.0"
      ]
     },
     "metadata": {
      "tags": []
     },
     "output_type": "display_data"
    },
    {
     "name": "stdout",
     "output_type": "stream",
     "text": [
      "Validation Examples Summary: \n"
     ]
    },
    {
     "data": {
      "text/html": [
       "<div>\n",
       "<style scoped>\n",
       "    .dataframe tbody tr th:only-of-type {\n",
       "        vertical-align: middle;\n",
       "    }\n",
       "\n",
       "    .dataframe tbody tr th {\n",
       "        vertical-align: top;\n",
       "    }\n",
       "\n",
       "    .dataframe thead th {\n",
       "        text-align: right;\n",
       "    }\n",
       "</style>\n",
       "<table border=\"1\" class=\"dataframe\">\n",
       "  <thead>\n",
       "    <tr style=\"text-align: right;\">\n",
       "      <th></th>\n",
       "      <th>sex</th>\n",
       "      <th>FL</th>\n",
       "      <th>RW</th>\n",
       "      <th>CL</th>\n",
       "      <th>CW</th>\n",
       "      <th>BD</th>\n",
       "    </tr>\n",
       "  </thead>\n",
       "  <tbody>\n",
       "    <tr>\n",
       "      <th>count</th>\n",
       "      <td>50.0</td>\n",
       "      <td>50.0</td>\n",
       "      <td>50.0</td>\n",
       "      <td>50.0</td>\n",
       "      <td>50.0</td>\n",
       "      <td>50.0</td>\n",
       "    </tr>\n",
       "    <tr>\n",
       "      <th>mean</th>\n",
       "      <td>0.6</td>\n",
       "      <td>14.7</td>\n",
       "      <td>12.1</td>\n",
       "      <td>30.4</td>\n",
       "      <td>34.5</td>\n",
       "      <td>13.3</td>\n",
       "    </tr>\n",
       "    <tr>\n",
       "      <th>std</th>\n",
       "      <td>0.5</td>\n",
       "      <td>3.6</td>\n",
       "      <td>2.7</td>\n",
       "      <td>7.8</td>\n",
       "      <td>8.7</td>\n",
       "      <td>3.6</td>\n",
       "    </tr>\n",
       "    <tr>\n",
       "      <th>min</th>\n",
       "      <td>0.0</td>\n",
       "      <td>7.2</td>\n",
       "      <td>6.5</td>\n",
       "      <td>14.7</td>\n",
       "      <td>17.1</td>\n",
       "      <td>6.1</td>\n",
       "    </tr>\n",
       "    <tr>\n",
       "      <th>25%</th>\n",
       "      <td>0.0</td>\n",
       "      <td>11.8</td>\n",
       "      <td>10.6</td>\n",
       "      <td>24.9</td>\n",
       "      <td>28.7</td>\n",
       "      <td>10.5</td>\n",
       "    </tr>\n",
       "    <tr>\n",
       "      <th>50%</th>\n",
       "      <td>1.0</td>\n",
       "      <td>14.7</td>\n",
       "      <td>11.5</td>\n",
       "      <td>29.6</td>\n",
       "      <td>32.5</td>\n",
       "      <td>13.4</td>\n",
       "    </tr>\n",
       "    <tr>\n",
       "      <th>75%</th>\n",
       "      <td>1.0</td>\n",
       "      <td>17.2</td>\n",
       "      <td>14.1</td>\n",
       "      <td>36.0</td>\n",
       "      <td>41.6</td>\n",
       "      <td>15.7</td>\n",
       "    </tr>\n",
       "    <tr>\n",
       "      <th>max</th>\n",
       "      <td>1.0</td>\n",
       "      <td>23.0</td>\n",
       "      <td>16.8</td>\n",
       "      <td>47.2</td>\n",
       "      <td>52.1</td>\n",
       "      <td>21.5</td>\n",
       "    </tr>\n",
       "  </tbody>\n",
       "</table>\n",
       "</div>"
      ],
      "text/plain": [
       "       sex   FL   RW   CL   CW   BD\n",
       "count 50.0 50.0 50.0 50.0 50.0 50.0\n",
       "mean   0.6 14.7 12.1 30.4 34.5 13.3\n",
       "std    0.5  3.6  2.7  7.8  8.7  3.6\n",
       "min    0.0  7.2  6.5 14.7 17.1  6.1\n",
       "25%    0.0 11.8 10.6 24.9 28.7 10.5\n",
       "50%    1.0 14.7 11.5 29.6 32.5 13.4\n",
       "75%    1.0 17.2 14.1 36.0 41.6 15.7\n",
       "max    1.0 23.0 16.8 47.2 52.1 21.5"
      ]
     },
     "metadata": {
      "tags": []
     },
     "output_type": "display_data"
    },
    {
     "name": "stdout",
     "output_type": "stream",
     "text": [
      "Validation Targets Summary: \n"
     ]
    },
    {
     "data": {
      "text/html": [
       "<div>\n",
       "<style scoped>\n",
       "    .dataframe tbody tr th:only-of-type {\n",
       "        vertical-align: middle;\n",
       "    }\n",
       "\n",
       "    .dataframe tbody tr th {\n",
       "        vertical-align: top;\n",
       "    }\n",
       "\n",
       "    .dataframe thead th {\n",
       "        text-align: right;\n",
       "    }\n",
       "</style>\n",
       "<table border=\"1\" class=\"dataframe\">\n",
       "  <thead>\n",
       "    <tr style=\"text-align: right;\">\n",
       "      <th></th>\n",
       "      <th>sp</th>\n",
       "    </tr>\n",
       "  </thead>\n",
       "  <tbody>\n",
       "    <tr>\n",
       "      <th>count</th>\n",
       "      <td>50.0</td>\n",
       "    </tr>\n",
       "    <tr>\n",
       "      <th>mean</th>\n",
       "      <td>0.5</td>\n",
       "    </tr>\n",
       "    <tr>\n",
       "      <th>std</th>\n",
       "      <td>0.5</td>\n",
       "    </tr>\n",
       "    <tr>\n",
       "      <th>min</th>\n",
       "      <td>0.0</td>\n",
       "    </tr>\n",
       "    <tr>\n",
       "      <th>25%</th>\n",
       "      <td>0.0</td>\n",
       "    </tr>\n",
       "    <tr>\n",
       "      <th>50%</th>\n",
       "      <td>1.0</td>\n",
       "    </tr>\n",
       "    <tr>\n",
       "      <th>75%</th>\n",
       "      <td>1.0</td>\n",
       "    </tr>\n",
       "    <tr>\n",
       "      <th>max</th>\n",
       "      <td>1.0</td>\n",
       "    </tr>\n",
       "  </tbody>\n",
       "</table>\n",
       "</div>"
      ],
      "text/plain": [
       "        sp\n",
       "count 50.0\n",
       "mean   0.5\n",
       "std    0.5\n",
       "min    0.0\n",
       "25%    0.0\n",
       "50%    1.0\n",
       "75%    1.0\n",
       "max    1.0"
      ]
     },
     "metadata": {
      "tags": []
     },
     "output_type": "display_data"
    },
    {
     "name": "stdout",
     "output_type": "stream",
     "text": [
      "50\n",
      "50\n"
     ]
    }
   ],
   "source": [
    "training_examples = preprocess_features(crabs_dataframe_encoded[:100])\n",
    "training_targets = preprocess_targets(crabs_dataframe_encoded[:100])\n",
    "# Crosscheck everything is perfect\n",
    "print(\"Training Examples Summary: \")\n",
    "display.display(training_examples.describe())\n",
    "print(\"Training Targets Summary: \")\n",
    "display.display(training_targets.describe())\n",
    "\n",
    "validation_examples = preprocess_features(crabs_dataframe_encoded[100:150])\n",
    "validation_targets = preprocess_targets(crabs_dataframe_encoded[100:150])\n",
    "# Crosscheck everything is perfect\n",
    "print(\"Validation Examples Summary: \")\n",
    "display.display(validation_examples.describe())\n",
    "print(\"Validation Targets Summary: \")\n",
    "display.display(validation_targets.describe())\n",
    "\n",
    "test_examples = preprocess_features(crabs_dataframe_encoded[150:])\n",
    "test_targets = preprocess_targets(crabs_dataframe_encoded[150:])\n",
    "print(len(test_examples))\n",
    "print(len(test_targets))"
   ]
  },
  {
   "cell_type": "markdown",
   "metadata": {
    "colab_type": "text",
    "id": "eeQo9DE78bYS"
   },
   "source": [
    "### Construct Feature Columns"
   ]
  },
  {
   "cell_type": "code",
   "execution_count": 0,
   "metadata": {
    "colab": {
     "autoexec": {
      "startup": false,
      "wait_interval": 0
     }
    },
    "colab_type": "code",
    "id": "AagSCnCj8gbT"
   },
   "outputs": [],
   "source": [
    "def construct_feature_columns(input_features):\n",
    "    return set([tf.feature_column.numeric_column(my_feature)\n",
    "                for my_feature in input_features])"
   ]
  },
  {
   "cell_type": "markdown",
   "metadata": {
    "colab_type": "text",
    "id": "ClXUeVoE2zl5"
   },
   "source": [
    "### Input Function"
   ]
  },
  {
   "cell_type": "code",
   "execution_count": 0,
   "metadata": {
    "colab": {
     "autoexec": {
      "startup": false,
      "wait_interval": 0
     }
    },
    "colab_type": "code",
    "id": "yo1zuneM2dwt"
   },
   "outputs": [],
   "source": [
    "def my_input_fn(features, targets, batch_size=1, shuffle=True, num_epochs=None):\n",
    "    features = {key: np.array(value) for key, value in dict(features).items()}\n",
    "    ds = Dataset.from_tensor_slices((features, targets))\n",
    "    ds = ds.batch(batch_size).repeat(num_epochs)\n",
    "    if shuffle:\n",
    "        ds = ds.shuffle(buffer_size=50)\n",
    "    features, labels = ds.make_one_shot_iterator().get_next()\n",
    "    return features, labels"
   ]
  },
  {
   "cell_type": "markdown",
   "metadata": {
    "colab_type": "text",
    "id": "PHUvZacl7p80"
   },
   "source": [
    "### Train Linear Classifier as of now"
   ]
  },
  {
   "cell_type": "code",
   "execution_count": 0,
   "metadata": {
    "colab": {
     "autoexec": {
      "startup": false,
      "wait_interval": 0
     }
    },
    "colab_type": "code",
    "id": "tCRkzCGZ30PL"
   },
   "outputs": [],
   "source": [
    "def train_linear_classifier_model(\n",
    "    learning_rate,\n",
    "    steps,\n",
    "    batch_size,\n",
    "    training_examples,\n",
    "    training_targets,\n",
    "    validation_examples,\n",
    "    validation_targets):\n",
    "\n",
    "    periods = 10\n",
    "    steps_per_period = steps / periods\n",
    "  \n",
    "    # Configure linear_classifier object.\n",
    "    my_optimizer = tf.train.FtrlOptimizer(learning_rate=learning_rate)\n",
    "    my_optimizer = tf.contrib.estimator.clip_gradients_by_norm(my_optimizer, 5.0)\n",
    "    linear_classifier = tf.estimator.LinearClassifier(\n",
    "        feature_columns = construct_feature_columns(training_examples),\n",
    "        optimizer = my_optimizer\n",
    "    )\n",
    "\n",
    "    # Create input_fn\n",
    "    training_input_fn = lambda: my_input_fn(\n",
    "        training_examples, training_targets['sp'], batch_size=batch_size)\n",
    "    predict_training_input_fn = lambda: my_input_fn(\n",
    "        training_examples, training_targets['sp'], shuffle=False, num_epochs=1)\n",
    "    predict_validation_input_fn = lambda: my_input_fn(\n",
    "        validation_examples, validation_targets['sp'], shuffle=False, num_epochs=1)\n",
    "  \n",
    "    # Train the model in a loop\n",
    "    print(\"Training model...\")\n",
    "    print(\"  LogLoss (on training data & validation data): \")\n",
    "    training_log_losses = []\n",
    "    validation_log_losses = []\n",
    "    for period in range(0, periods):\n",
    "        linear_classifier.train(\n",
    "            input_fn = training_input_fn,\n",
    "            steps = steps_per_period\n",
    "        )\n",
    "        \n",
    "        # Compute predictions\n",
    "        training_probabilities = linear_classifier.predict(\n",
    "            input_fn=predict_training_input_fn)\n",
    "        training_probabilities = np.array([item['probabilities']\n",
    "                                           for item in training_probabilities])\n",
    "        validation_probabilities = linear_classifier.predict(\n",
    "            input_fn=predict_validation_input_fn)\n",
    "        validation_probabilities = np.array([item['probabilities']\n",
    "                                             for item in validation_probabilities])\n",
    "    \n",
    "        # Compute LogLosses on training and validation\n",
    "        training_log_loss = metrics.log_loss(training_targets,\n",
    "                                             training_probabilities)\n",
    "        validation_log_loss = metrics.log_loss(validation_targets,\n",
    "                                               validation_probabilities)\n",
    "        print(\"    Period %02d : %0.2f\\t%0.2f\" % (period,\n",
    "                                                  training_log_loss,\n",
    "                                                  validation_log_loss))\n",
    "        training_log_losses.append(training_log_loss)\n",
    "        validation_log_losses.append(validation_log_loss)\n",
    "    print(\"Model training finished.\")\n",
    "\n",
    "    print(\"Final LogLoss (on training data): %0.5f\" % training_log_loss)\n",
    "    print(\"Final LogLoss (on validation data): %0.5f\\n\" % validation_log_loss)\n",
    "\n",
    "    plt.ylabel(\"LogLoss\")\n",
    "    plt.xlabel(\"Periods\")\n",
    "    plt.title(\"LogLoss vs. Periods\")\n",
    "    plt.tight_layout()\n",
    "    plt.plot(training_log_losses, label=\"training\", color=\"magenta\")\n",
    "    plt.plot(validation_log_losses, label=\"validation\", color=\"g\")\n",
    "    plt.legend()\n",
    "    return linear_classifier"
   ]
  },
  {
   "cell_type": "code",
   "execution_count": 24,
   "metadata": {
    "colab": {
     "autoexec": {
      "startup": false,
      "wait_interval": 0
     },
     "base_uri": "https://localhost:8080/",
     "height": 677
    },
    "colab_type": "code",
    "executionInfo": {
     "elapsed": 22374,
     "status": "ok",
     "timestamp": 1524545898770,
     "user": {
      "displayName": "Mohammed Saifuddin",
      "photoUrl": "//lh5.googleusercontent.com/-WA85hItRjEY/AAAAAAAAAAI/AAAAAAAAAbE/UJEAr4wXn1Y/s50-c-k-no/photo.jpg",
      "userId": "107128453463956036616"
     },
     "user_tz": -330
    },
    "id": "03peHtSMB6jn",
    "outputId": "80afdda8-fc04-46aa-9c38-0bf8829b1ce5"
   },
   "outputs": [
    {
     "name": "stdout",
     "output_type": "stream",
     "text": [
      "Training model...\n",
      "  LogLoss (on training data & validation data): \n",
      "    Period 00 : 0.69\t0.69\n",
      "    Period 01 : 0.69\t0.69\n",
      "    Period 02 : 0.69\t0.69\n",
      "    Period 03 : 0.69\t0.69\n",
      "    Period 04 : 0.69\t0.69\n",
      "    Period 05 : 0.69\t0.69\n",
      "    Period 06 : 0.69\t0.69\n",
      "    Period 07 : 0.69\t0.69\n",
      "    Period 08 : 0.69\t0.69\n",
      "    Period 09 : 0.69\t0.69\n",
      "Model training finished.\n",
      "Final LogLoss (on training data): 0.69254\n",
      "Final LogLoss (on validation data): 0.69287\n",
      "\n"
     ]
    },
    {
     "data": {
      "image/png": "[encoded data removed]",
      "text/plain": [
       "<matplotlib.figure.Figure at 0x7f7781830940>"
      ]
     },
     "metadata": {
      "tags": []
     },
     "output_type": "display_data"
    }
   ],
   "source": [
    "linear_classifier = train_linear_classifier_model(\n",
    "    learning_rate = 0.00007,\n",
    "    steps = 3,\n",
    "    batch_size = 2,\n",
    "    training_examples = training_examples,\n",
    "    training_targets = training_targets,\n",
    "    validation_examples = validation_examples,\n",
    "    validation_targets = validation_targets\n",
    ")"
   ]
  },
  {
   "cell_type": "markdown",
   "metadata": {
    "colab_type": "text",
    "id": "i25sEi4EATas"
   },
   "source": [
    "### Testing"
   ]
  },
  {
   "cell_type": "code",
   "execution_count": 25,
   "metadata": {
    "colab": {
     "autoexec": {
      "startup": false,
      "wait_interval": 0
     },
     "base_uri": "https://localhost:8080/",
     "height": 34
    },
    "colab_type": "code",
    "executionInfo": {
     "elapsed": 961,
     "status": "ok",
     "timestamp": 1524545911095,
     "user": {
      "displayName": "Mohammed Saifuddin",
      "photoUrl": "//lh5.googleusercontent.com/-WA85hItRjEY/AAAAAAAAAAI/AAAAAAAAAbE/UJEAr4wXn1Y/s50-c-k-no/photo.jpg",
      "userId": "107128453463956036616"
     },
     "user_tz": -330
    },
    "id": "zFPZb6bp_1xH",
    "outputId": "dc75bfe1-55e2-4799-d0ee-b047a639c830"
   },
   "outputs": [
    {
     "name": "stdout",
     "output_type": "stream",
     "text": [
      "LogLoss (on testing data): 0.69662\n"
     ]
    }
   ],
   "source": [
    "test_probabilities = linear_classifier.predict(input_fn=predict_test_input_fn)\n",
    "test_probabilities = np.array([item['probabilities'] for item in test_probabilities])\n",
    "\n",
    "test_log_loss = metrics.log_loss(test_targets, test_probabilities)\n",
    "print(\"LogLoss (on testing data): %0.5f\" % test_log_loss)"
   ]
  },
  {
   "cell_type": "markdown",
   "metadata": {
    "colab_type": "text",
    "id": "D1WCYAZ7lWpa"
   },
   "source": [
    "### Let's Normalize Features"
   ]
  },
  {
   "cell_type": "code",
   "execution_count": 0,
   "metadata": {
    "colab": {
     "autoexec": {
      "startup": false,
      "wait_interval": 0
     }
    },
    "colab_type": "code",
    "id": "mcBFEO-Qi7xZ"
   },
   "outputs": [],
   "source": [
    "# Log normalizer\n",
    "def log_norm(series):\n",
    "    return series.apply(lambda x: math.log(x+1.0))\n",
    "\n",
    "def z_score_norm(series):\n",
    "    mean = series.mean()\n",
    "    std_dev = series.std()\n",
    "    return series.apply(lambda x: (x - mean)/std_dev)"
   ]
  },
  {
   "cell_type": "code",
   "execution_count": 0,
   "metadata": {
    "colab": {
     "autoexec": {
      "startup": false,
      "wait_interval": 0
     }
    },
    "colab_type": "code",
    "id": "KIhcvZU4mu81"
   },
   "outputs": [],
   "source": [
    "def logg_normalize(example_dataframe):\n",
    "    processed_features = pd.DataFrame()\n",
    "    processed_features[\"sex\"] = log_norm(example_dataframe[\"sex\"])\n",
    "    processed_features[\"FL\"] = log_norm(example_dataframe[\"FL\"])\n",
    "    processed_features[\"RW\"] = log_norm(example_dataframe[\"RW\"])\n",
    "    processed_features[\"CL\"] = log_norm(example_dataframe[\"CL\"])\n",
    "    processed_features[\"CW\"] = log_norm(example_dataframe[\"CW\"])\n",
    "    processed_features[\"BD\"] = log_norm(example_dataframe[\"BD\"])\n",
    "    return processed_features\n",
    "\n",
    "normalized_dataframe = logg_normalize(preprocess_features(crabs_dataframe_encoded))\n",
    "normalized_training_examples = normalized_dataframe[:100]\n",
    "normalized_validation_examples = normalized_dataframe[100:150]"
   ]
  },
  {
   "cell_type": "code",
   "execution_count": 42,
   "metadata": {
    "colab": {
     "autoexec": {
      "startup": false,
      "wait_interval": 0
     },
     "base_uri": "https://localhost:8080/",
     "height": 677
    },
    "colab_type": "code",
    "executionInfo": {
     "elapsed": 22454,
     "status": "ok",
     "timestamp": 1524546181133,
     "user": {
      "displayName": "Mohammed Saifuddin",
      "photoUrl": "//lh5.googleusercontent.com/-WA85hItRjEY/AAAAAAAAAAI/AAAAAAAAAbE/UJEAr4wXn1Y/s50-c-k-no/photo.jpg",
      "userId": "107128453463956036616"
     },
     "user_tz": -330
    },
    "id": "BdjljfriodMI",
    "outputId": "b15f62e1-bac9-49d0-d722-47bd267161f1"
   },
   "outputs": [
    {
     "name": "stdout",
     "output_type": "stream",
     "text": [
      "Training model...\n",
      "  LogLoss (on training data & validation data): \n",
      "    Period 00 : 0.69\t0.69\n",
      "    Period 01 : 0.69\t0.69\n",
      "    Period 02 : 0.69\t0.69\n",
      "    Period 03 : 0.69\t0.69\n",
      "    Period 04 : 0.69\t0.69\n",
      "    Period 05 : 0.69\t0.69\n",
      "    Period 06 : 0.69\t0.69\n",
      "    Period 07 : 0.69\t0.69\n",
      "    Period 08 : 0.69\t0.69\n",
      "    Period 09 : 0.69\t0.69\n",
      "Model training finished.\n",
      "Final LogLoss (on training data): 0.69282\n",
      "Final LogLoss (on validation data): 0.69299\n",
      "\n"
     ]
    },
    {
     "data": {
      "image/png": "[encoded data removed]",
      "text/plain": [
       "<matplotlib.figure.Figure at 0x7f77830f2cf8>"
      ]
     },
     "metadata": {
      "tags": []
     },
     "output_type": "display_data"
    }
   ],
   "source": [
    "linear_classifier_1 = train_linear_classifier_model(\n",
    "    learning_rate = 0.0001,\n",
    "    steps = 3,\n",
    "    batch_size = 2,\n",
    "    training_examples = normalized_training_examples,\n",
    "    training_targets = training_targets,\n",
    "    validation_examples = normalized_validation_examples,\n",
    "    validation_targets = validation_targets\n",
    ")"
   ]
  },
  {
   "cell_type": "markdown",
   "metadata": {
    "colab_type": "text",
    "id": "k2uxyV10Ajcc"
   },
   "source": [
    "### Testing on log normalized"
   ]
  },
  {
   "cell_type": "code",
   "execution_count": 43,
   "metadata": {
    "colab": {
     "autoexec": {
      "startup": false,
      "wait_interval": 0
     },
     "base_uri": "https://localhost:8080/",
     "height": 34
    },
    "colab_type": "code",
    "executionInfo": {
     "elapsed": 1157,
     "status": "ok",
     "timestamp": 1524546186984,
     "user": {
      "displayName": "Mohammed Saifuddin",
      "photoUrl": "//lh5.googleusercontent.com/-WA85hItRjEY/AAAAAAAAAAI/AAAAAAAAAbE/UJEAr4wXn1Y/s50-c-k-no/photo.jpg",
      "userId": "107128453463956036616"
     },
     "user_tz": -330
    },
    "id": "oo1ab4MW9_gg",
    "outputId": "27a84c09-c462-4ed0-a485-5e350b88dfd1"
   },
   "outputs": [
    {
     "name": "stdout",
     "output_type": "stream",
     "text": [
      "LogLoss (on testing data): 0.70145\n"
     ]
    }
   ],
   "source": [
    "test_probabilities_1 = linear_classifier_1.predict(input_fn=predict_test_input_fn)\n",
    "test_probabilities_1 = np.array([item['probabilities'] for item in test_probabilities_1])\n",
    "\n",
    "test_log_loss = metrics.log_loss(test_targets, test_probabilities_1)\n",
    "print(\"LogLoss (on testing data): %0.5f\" % test_log_loss)"
   ]
  },
  {
   "cell_type": "code",
   "execution_count": 0,
   "metadata": {
    "colab": {
     "autoexec": {
      "startup": false,
      "wait_interval": 0
     }
    },
    "colab_type": "code",
    "id": "QUJh35EdzJty"
   },
   "outputs": [],
   "source": [
    "def zzz_normalize(example_dataframe):\n",
    "    processed_features = pd.DataFrame()\n",
    "    processed_features[\"sex\"] = z_score_norm(example_dataframe[\"sex\"])\n",
    "    processed_features[\"FL\"] = z_score_norm(example_dataframe[\"FL\"])\n",
    "    processed_features[\"RW\"] = z_score_norm(example_dataframe[\"RW\"])\n",
    "    processed_features[\"CL\"] = z_score_norm(example_dataframe[\"CL\"])\n",
    "    processed_features[\"CW\"] = z_score_norm(example_dataframe[\"CW\"])\n",
    "    processed_features[\"BD\"] = z_score_norm(example_dataframe[\"BD\"])\n",
    "    return processed_features\n",
    "\n",
    "normalized_dataframe = zzz_normalize(preprocess_features(crabs_dataframe_encoded))\n",
    "normalized_training_examples = normalized_dataframe[:100]\n",
    "normalized_validation_examples = normalized_dataframe[100:150]"
   ]
  },
  {
   "cell_type": "code",
   "execution_count": 45,
   "metadata": {
    "colab": {
     "autoexec": {
      "startup": false,
      "wait_interval": 0
     },
     "base_uri": "https://localhost:8080/",
     "height": 677
    },
    "colab_type": "code",
    "executionInfo": {
     "elapsed": 22954,
     "status": "ok",
     "timestamp": 1524546215140,
     "user": {
      "displayName": "Mohammed Saifuddin",
      "photoUrl": "//lh5.googleusercontent.com/-WA85hItRjEY/AAAAAAAAAAI/AAAAAAAAAbE/UJEAr4wXn1Y/s50-c-k-no/photo.jpg",
      "userId": "107128453463956036616"
     },
     "user_tz": -330
    },
    "id": "h5QXh3pi3gio",
    "outputId": "4d2cbf1c-4e4d-471a-e9f1-c0b6b558e9b6"
   },
   "outputs": [
    {
     "name": "stdout",
     "output_type": "stream",
     "text": [
      "Training model...\n",
      "  LogLoss (on training data & validation data): \n",
      "    Period 00 : 0.69\t0.69\n",
      "    Period 01 : 0.69\t0.69\n",
      "    Period 02 : 0.69\t0.69\n",
      "    Period 03 : 0.69\t0.69\n",
      "    Period 04 : 0.69\t0.69\n",
      "    Period 05 : 0.69\t0.69\n",
      "    Period 06 : 0.69\t0.69\n",
      "    Period 07 : 0.69\t0.69\n",
      "    Period 08 : 0.69\t0.69\n",
      "    Period 09 : 0.69\t0.69\n",
      "Model training finished.\n",
      "Final LogLoss (on training data): 0.69291\n",
      "Final LogLoss (on validation data): 0.69302\n",
      "\n"
     ]
    },
    {
     "data": {
      "image/png": "[encoded data removed]",
      "text/plain": [
       "<matplotlib.figure.Figure at 0x7f77910df518>"
      ]
     },
     "metadata": {
      "tags": []
     },
     "output_type": "display_data"
    }
   ],
   "source": [
    "linear_classifier_2 = train_linear_classifier_model(\n",
    "    learning_rate = 0.00007,\n",
    "    steps = 3,\n",
    "    batch_size = 2,\n",
    "    training_examples = normalized_training_examples,\n",
    "    training_targets = training_targets,\n",
    "    validation_examples = normalized_validation_examples,\n",
    "    validation_targets = validation_targets\n",
    ")"
   ]
  },
  {
   "cell_type": "markdown",
   "metadata": {
    "colab_type": "text",
    "id": "Gcd5Hsl05hiw"
   },
   "source": [
    "### Testing on Z-normalized"
   ]
  },
  {
   "cell_type": "code",
   "execution_count": 46,
   "metadata": {
    "colab": {
     "autoexec": {
      "startup": false,
      "wait_interval": 0
     },
     "base_uri": "https://localhost:8080/",
     "height": 34
    },
    "colab_type": "code",
    "executionInfo": {
     "elapsed": 1202,
     "status": "ok",
     "timestamp": 1524546221668,
     "user": {
      "displayName": "Mohammed Saifuddin",
      "photoUrl": "//lh5.googleusercontent.com/-WA85hItRjEY/AAAAAAAAAAI/AAAAAAAAAbE/UJEAr4wXn1Y/s50-c-k-no/photo.jpg",
      "userId": "107128453463956036616"
     },
     "user_tz": -330
    },
    "id": "qpV8sdwD4G4P",
    "outputId": "b0e5c1fd-8e5b-4d1d-dc43-dfdc13e8877c"
   },
   "outputs": [
    {
     "name": "stdout",
     "output_type": "stream",
     "text": [
      "LogLoss (on testing data): 0.68709\n"
     ]
    }
   ],
   "source": [
    "predict_test_input_fn = lambda: my_input_fn(\n",
    "    test_examples, test_targets['sp'], shuffle=False, num_epochs=1)\n",
    "\n",
    "test_probabilities_2 = linear_classifier_2.predict(input_fn=predict_test_input_fn)\n",
    "test_probabilities_2 = np.array([item['probabilities'] for item in test_probabilities_2])\n",
    "\n",
    "test_log_loss = metrics.log_loss(test_targets, test_probabilities_2)\n",
    "print(\"LogLoss (on testing data): %0.5f\" % test_log_loss)"
   ]
  },
  {
   "cell_type": "code",
   "execution_count": 0,
   "metadata": {
    "colab": {
     "autoexec": {
      "startup": false,
      "wait_interval": 0
     }
    },
    "colab_type": "code",
    "id": "GE9pV_mcAGvR"
   },
   "outputs": [],
   "source": []
  }
 ],
 "metadata": {
  "accelerator": "GPU",
  "colab": {
   "collapsed_sections": [],
   "default_view": {},
   "name": "ml_crabs_linear_classification_model.ipynb",
   "provenance": [],
   "version": "0.3.2",
   "views": {}
  },
  "kernelspec": {
   "display_name": "Python 3",
   "language": "python",
   "name": "python3"
  },
  "language_info": {
   "codemirror_mode": {
    "name": "ipython",
    "version": 3
   },
   "file_extension": ".py",
   "mimetype": "text/x-python",
   "name": "python",
   "nbconvert_exporter": "python",
   "pygments_lexer": "ipython3",
   "version": "3.6.5"
  },
  "toc": {
   "nav_menu": {},
   "number_sections": true,
   "sideBar": true,
   "skip_h1_title": false,
   "title_cell": "Table of Contents",
   "title_sidebar": "Contents",
   "toc_cell": false,
   "toc_position": {},
   "toc_section_display": true,
   "toc_window_display": false
  }
 },
 "nbformat": 4,
 "nbformat_minor": 1
}
