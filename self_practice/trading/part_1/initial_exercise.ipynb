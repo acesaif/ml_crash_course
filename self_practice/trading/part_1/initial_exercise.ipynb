{
 "cells": [
  {
   "cell_type": "code",
   "execution_count": 0,
   "metadata": {
    "colab": {
     "autoexec": {
      "startup": false,
      "wait_interval": 0
     }
    },
    "colab_type": "code",
    "id": "Tfx_XAvy9-z5"
   },
   "outputs": [],
   "source": [
    "import os\n",
    "import numpy as np\n",
    "import pandas as pd\n",
    "import seaborn as sns\n",
    "from matplotlib import pyplot as plt\n",
    "from IPython import display\n",
    "from matplotlib import style\n",
    "os.chdir('drive/ml_directory/trading/')\n",
    "pd.options.display.float_format = \"{:.2f}\".format\n",
    "style.use('ggplot')"
   ]
  },
  {
   "cell_type": "code",
   "execution_count": 0,
   "metadata": {
    "colab": {
     "autoexec": {
      "startup": false,
      "wait_interval": 0
     }
    },
    "colab_type": "code",
    "id": "6w9CKDyf-X0T"
   },
   "outputs": [],
   "source": [
    "with open('auth.txt') as api:\n",
    "    key = api.read()"
   ]
  },
  {
   "cell_type": "code",
   "execution_count": 0,
   "metadata": {
    "colab": {
     "autoexec": {
      "startup": false,
      "wait_interval": 0
     }
    },
    "colab_type": "code",
    "id": "VPc6toa_-lqm"
   },
   "outputs": [],
   "source": [
    "def data_loader(symbols):\n",
    "    timestamp = pd.date_range('12/1/2017', '5/30/2018')\n",
    "    dataframe = pd.DataFrame(index=timestamp)\n",
    "    for sym in symbols:\n",
    "        link = \"https://www.alphavantage.co/query?function=TIME_SERIES_DAILY_ADJUSTED&symbol=\"+sym+\"&apikey=\"+str(key)+\"&datatype=csv\"\n",
    "        df_tmp = pd.read_csv(link,\n",
    "                         index_col='timestamp',\n",
    "                         parse_dates=True,\n",
    "                         usecols=['timestamp', 'adjusted_close'],\n",
    "                         na_values=['nan'])\n",
    "        df_tmp = df_tmp.rename(columns = {'adjusted_close': sym})\n",
    "        dataframe = dataframe.join(df_tmp).dropna()\n",
    "    return dataframe\n",
    "\n",
    "symbols = ['IBM', 'GOOG', 'MSFT', 'TSLA', 'GLD', 'SPY', 'XOM']"
   ]
  },
  {
   "cell_type": "code",
   "execution_count": 6,
   "metadata": {
    "colab": {
     "autoexec": {
      "startup": false,
      "wait_interval": 0
     },
     "base_uri": "https://localhost:8080/",
     "height": 886
    },
    "colab_type": "code",
    "executionInfo": {
     "elapsed": 2643,
     "status": "ok",
     "timestamp": 1525336199792,
     "user": {
      "displayName": "Mohammed Saifuddin",
      "photoUrl": "//lh5.googleusercontent.com/-WA85hItRjEY/AAAAAAAAAAI/AAAAAAAAAbE/UJEAr4wXn1Y/s50-c-k-no/photo.jpg",
      "userId": "107128453463956036616"
     },
     "user_tz": -330
    },
    "id": "h8BTrmbrBD_S",
    "outputId": "86360474-dfda-4be6-b890-a40033544f3e"
   },
   "outputs": [
    {
     "data": {
      "text/html": [
       "<div>\n",
       "<style scoped>\n",
       "    .dataframe tbody tr th:only-of-type {\n",
       "        vertical-align: middle;\n",
       "    }\n",
       "\n",
       "    .dataframe tbody tr th {\n",
       "        vertical-align: top;\n",
       "    }\n",
       "\n",
       "    .dataframe thead th {\n",
       "        text-align: right;\n",
       "    }\n",
       "</style>\n",
       "<table border=\"1\" class=\"dataframe\">\n",
       "  <thead>\n",
       "    <tr style=\"text-align: right;\">\n",
       "      <th></th>\n",
       "      <th>IBM</th>\n",
       "      <th>GOOG</th>\n",
       "      <th>MSFT</th>\n",
       "      <th>TSLA</th>\n",
       "      <th>GLD</th>\n",
       "      <th>SPY</th>\n",
       "      <th>XOM</th>\n",
       "    </tr>\n",
       "  </thead>\n",
       "  <tbody>\n",
       "    <tr>\n",
       "      <th>2018-04-19</th>\n",
       "      <td>147.70</td>\n",
       "      <td>1087.70</td>\n",
       "      <td>96.11</td>\n",
       "      <td>300.08</td>\n",
       "      <td>127.60</td>\n",
       "      <td>268.89</td>\n",
       "      <td>79.42</td>\n",
       "    </tr>\n",
       "    <tr>\n",
       "      <th>2018-04-20</th>\n",
       "      <td>144.90</td>\n",
       "      <td>1072.96</td>\n",
       "      <td>95.00</td>\n",
       "      <td>290.24</td>\n",
       "      <td>126.63</td>\n",
       "      <td>266.61</td>\n",
       "      <td>79.00</td>\n",
       "    </tr>\n",
       "    <tr>\n",
       "      <th>2018-04-23</th>\n",
       "      <td>145.86</td>\n",
       "      <td>1067.45</td>\n",
       "      <td>95.35</td>\n",
       "      <td>283.37</td>\n",
       "      <td>125.62</td>\n",
       "      <td>266.57</td>\n",
       "      <td>79.57</td>\n",
       "    </tr>\n",
       "    <tr>\n",
       "      <th>2018-04-24</th>\n",
       "      <td>145.56</td>\n",
       "      <td>1019.98</td>\n",
       "      <td>93.12</td>\n",
       "      <td>283.46</td>\n",
       "      <td>126.23</td>\n",
       "      <td>262.98</td>\n",
       "      <td>78.35</td>\n",
       "    </tr>\n",
       "    <tr>\n",
       "      <th>2018-04-25</th>\n",
       "      <td>145.94</td>\n",
       "      <td>1021.18</td>\n",
       "      <td>92.31</td>\n",
       "      <td>280.69</td>\n",
       "      <td>125.41</td>\n",
       "      <td>263.63</td>\n",
       "      <td>79.50</td>\n",
       "    </tr>\n",
       "    <tr>\n",
       "      <th>2018-04-26</th>\n",
       "      <td>146.72</td>\n",
       "      <td>1040.04</td>\n",
       "      <td>94.26</td>\n",
       "      <td>285.48</td>\n",
       "      <td>124.97</td>\n",
       "      <td>266.31</td>\n",
       "      <td>80.86</td>\n",
       "    </tr>\n",
       "    <tr>\n",
       "      <th>2018-04-27</th>\n",
       "      <td>146.48</td>\n",
       "      <td>1030.05</td>\n",
       "      <td>95.82</td>\n",
       "      <td>294.07</td>\n",
       "      <td>125.50</td>\n",
       "      <td>266.56</td>\n",
       "      <td>77.79</td>\n",
       "    </tr>\n",
       "    <tr>\n",
       "      <th>2018-04-30</th>\n",
       "      <td>144.96</td>\n",
       "      <td>1017.33</td>\n",
       "      <td>93.52</td>\n",
       "      <td>293.90</td>\n",
       "      <td>124.59</td>\n",
       "      <td>264.51</td>\n",
       "      <td>77.75</td>\n",
       "    </tr>\n",
       "    <tr>\n",
       "      <th>2018-05-01</th>\n",
       "      <td>145.00</td>\n",
       "      <td>1037.31</td>\n",
       "      <td>95.00</td>\n",
       "      <td>299.92</td>\n",
       "      <td>123.71</td>\n",
       "      <td>264.98</td>\n",
       "      <td>76.95</td>\n",
       "    </tr>\n",
       "    <tr>\n",
       "      <th>2018-05-02</th>\n",
       "      <td>142.45</td>\n",
       "      <td>1024.38</td>\n",
       "      <td>93.51</td>\n",
       "      <td>301.15</td>\n",
       "      <td>123.65</td>\n",
       "      <td>263.20</td>\n",
       "      <td>76.80</td>\n",
       "    </tr>\n",
       "  </tbody>\n",
       "</table>\n",
       "</div>"
      ],
      "text/plain": [
       "              IBM    GOOG  MSFT   TSLA    GLD    SPY   XOM\n",
       "2018-04-19 147.70 1087.70 96.11 300.08 127.60 268.89 79.42\n",
       "2018-04-20 144.90 1072.96 95.00 290.24 126.63 266.61 79.00\n",
       "2018-04-23 145.86 1067.45 95.35 283.37 125.62 266.57 79.57\n",
       "2018-04-24 145.56 1019.98 93.12 283.46 126.23 262.98 78.35\n",
       "2018-04-25 145.94 1021.18 92.31 280.69 125.41 263.63 79.50\n",
       "2018-04-26 146.72 1040.04 94.26 285.48 124.97 266.31 80.86\n",
       "2018-04-27 146.48 1030.05 95.82 294.07 125.50 266.56 77.79\n",
       "2018-04-30 144.96 1017.33 93.52 293.90 124.59 264.51 77.75\n",
       "2018-05-01 145.00 1037.31 95.00 299.92 123.71 264.98 76.95\n",
       "2018-05-02 142.45 1024.38 93.51 301.15 123.65 263.20 76.80"
      ]
     },
     "metadata": {
      "tags": []
     },
     "output_type": "display_data"
    },
    {
     "name": "stdout",
     "output_type": "stream",
     "text": [
      "\n",
      "Global Mean: \n",
      "IBM     155.05\n",
      "GOOG   1079.95\n",
      "MSFT     90.71\n",
      "TSLA    320.40\n",
      "GLD     125.21\n",
      "SPY     269.26\n",
      "XOM      79.52\n",
      "dtype: float64 \n",
      "\n",
      "Gloabl Median: \n",
      "IBM     154.62\n",
      "GOOG   1072.52\n",
      "MSFT     91.48\n",
      "TSLA    326.12\n",
      "GLD     125.71\n",
      "SPY     267.85\n",
      "XOM      78.09\n",
      "dtype: float64 \n",
      "\n",
      "Global Standard Deviation\n",
      "IBM     5.47\n",
      "GOOG   48.61\n",
      "MSFT    3.64\n",
      "TSLA   23.65\n",
      "GLD     2.57\n",
      "SPY     6.41\n",
      "XOM     4.67\n",
      "dtype: float64 \n",
      "\n"
     ]
    }
   ],
   "source": [
    "my_df = data_loader(symbols=symbols)\n",
    "display.display(my_df.tail(10))\n",
    "print()\n",
    "print('Global Mean: ')\n",
    "print(my_df.mean(),'\\n')\n",
    "print('Gloabl Median: ')\n",
    "print(my_df.median(),'\\n')\n",
    "print('Global Standard Deviation')\n",
    "print(my_df.std(),'\\n')"
   ]
  },
  {
   "cell_type": "markdown",
   "metadata": {
    "colab_type": "text",
    "id": "1iAkU9V0JhR_"
   },
   "source": [
    "### Rolling Mean of GOOG"
   ]
  },
  {
   "cell_type": "code",
   "execution_count": 11,
   "metadata": {
    "colab": {
     "autoexec": {
      "startup": false,
      "wait_interval": 0
     },
     "base_uri": "https://localhost:8080/",
     "height": 556
    },
    "colab_type": "code",
    "executionInfo": {
     "elapsed": 3746,
     "status": "ok",
     "timestamp": 1525336245772,
     "user": {
      "displayName": "Mohammed Saifuddin",
      "photoUrl": "//lh5.googleusercontent.com/-WA85hItRjEY/AAAAAAAAAAI/AAAAAAAAAbE/UJEAr4wXn1Y/s50-c-k-no/photo.jpg",
      "userId": "107128453463956036616"
     },
     "user_tz": -330
    },
    "id": "awCQLfK05465",
    "outputId": "97f2c8dd-0cad-400d-9f64-b2b19af2237c"
   },
   "outputs": [
    {
     "name": "stdout",
     "output_type": "stream",
     "text": [
      "\n"
     ]
    },
    {
     "data": {
      "image/png": "[encoded data removed]",
      "text/plain": [
       "<Figure size 1296x648 with 1 Axes>"
      ]
     },
     "metadata": {
      "tags": []
     },
     "output_type": "display_data"
    }
   ],
   "source": [
    "def plotting_roll(sym, win):\n",
    "    print()\n",
    "    sym = sym.upper()\n",
    "  \n",
    "    df = data_loader(symbols)\n",
    "  \n",
    "    plt.figure(figsize=(18, 9))\n",
    "  \n",
    "    ax = df[sym].plot(title=sym+' Stock Analysis',\n",
    "                      label=sym,\n",
    "                      color='k')\n",
    "\n",
    "    rm = df[sym].rolling(window=win).mean()\n",
    "    rm.plot(label='Rolling Mean',\n",
    "            ax=ax,\n",
    "            color='b')\n",
    "  \n",
    "    rstd = df[sym].rolling(window=win).std()\n",
    "    up_band = rm + 2*rstd\n",
    "    lw_band = rm - 2*rstd\n",
    "    up_band.plot(label='Upper Band',\n",
    "                 ax=ax,\n",
    "                 color='g')\n",
    "    lw_band.plot(label='Lower Band',\n",
    "                 ax=ax,\n",
    "                 color='r')\n",
    "  \n",
    "    ax.set_xlabel('Dates')\n",
    "    ax.set_ylabel('Prices')\n",
    "    ax.legend()\n",
    "    plt.show()\n",
    "\n",
    "plotting_roll('goog', 20)"
   ]
  },
  {
   "cell_type": "code",
   "execution_count": 8,
   "metadata": {
    "colab": {
     "autoexec": {
      "startup": false,
      "wait_interval": 0
     },
     "base_uri": "https://localhost:8080/",
     "height": 701
    },
    "colab_type": "code",
    "executionInfo": {
     "elapsed": 910,
     "status": "ok",
     "timestamp": 1525336208325,
     "user": {
      "displayName": "Mohammed Saifuddin",
      "photoUrl": "//lh5.googleusercontent.com/-WA85hItRjEY/AAAAAAAAAAI/AAAAAAAAAbE/UJEAr4wXn1Y/s50-c-k-no/photo.jpg",
      "userId": "107128453463956036616"
     },
     "user_tz": -330
    },
    "id": "2znt5fjcJy1s",
    "outputId": "28be031c-cf5e-4d80-c7cf-17b647f3d494"
   },
   "outputs": [
    {
     "data": {
      "text/html": [
       "<div>\n",
       "<style scoped>\n",
       "    .dataframe tbody tr th:only-of-type {\n",
       "        vertical-align: middle;\n",
       "    }\n",
       "\n",
       "    .dataframe tbody tr th {\n",
       "        vertical-align: top;\n",
       "    }\n",
       "\n",
       "    .dataframe thead th {\n",
       "        text-align: right;\n",
       "    }\n",
       "</style>\n",
       "<table border=\"1\" class=\"dataframe\">\n",
       "  <thead>\n",
       "    <tr style=\"text-align: right;\">\n",
       "      <th></th>\n",
       "      <th>IBM</th>\n",
       "      <th>GOOG</th>\n",
       "      <th>MSFT</th>\n",
       "      <th>TSLA</th>\n",
       "      <th>GLD</th>\n",
       "      <th>SPY</th>\n",
       "      <th>XOM</th>\n",
       "    </tr>\n",
       "  </thead>\n",
       "  <tbody>\n",
       "    <tr>\n",
       "      <th>2017-12-07</th>\n",
       "      <td>152.02</td>\n",
       "      <td>1030.93</td>\n",
       "      <td>82.11</td>\n",
       "      <td>311.24</td>\n",
       "      <td>118.49</td>\n",
       "      <td>261.69</td>\n",
       "      <td>81.72</td>\n",
       "    </tr>\n",
       "    <tr>\n",
       "      <th>2017-12-08</th>\n",
       "      <td>153.25</td>\n",
       "      <td>1037.05</td>\n",
       "      <td>83.77</td>\n",
       "      <td>315.13</td>\n",
       "      <td>118.48</td>\n",
       "      <td>263.12</td>\n",
       "      <td>81.83</td>\n",
       "    </tr>\n",
       "    <tr>\n",
       "      <th>2017-12-11</th>\n",
       "      <td>153.85</td>\n",
       "      <td>1041.10</td>\n",
       "      <td>84.84</td>\n",
       "      <td>328.91</td>\n",
       "      <td>118.01</td>\n",
       "      <td>263.91</td>\n",
       "      <td>82.19</td>\n",
       "    </tr>\n",
       "    <tr>\n",
       "      <th>2017-12-12</th>\n",
       "      <td>155.16</td>\n",
       "      <td>1040.48</td>\n",
       "      <td>85.19</td>\n",
       "      <td>341.03</td>\n",
       "      <td>118.15</td>\n",
       "      <td>264.38</td>\n",
       "      <td>81.93</td>\n",
       "    </tr>\n",
       "    <tr>\n",
       "      <th>2017-12-13</th>\n",
       "      <td>152.36</td>\n",
       "      <td>1040.61</td>\n",
       "      <td>84.96</td>\n",
       "      <td>339.03</td>\n",
       "      <td>119.17</td>\n",
       "      <td>264.35</td>\n",
       "      <td>82.28</td>\n",
       "    </tr>\n",
       "    <tr>\n",
       "      <th>2017-12-14</th>\n",
       "      <td>152.45</td>\n",
       "      <td>1049.15</td>\n",
       "      <td>84.30</td>\n",
       "      <td>337.89</td>\n",
       "      <td>118.93</td>\n",
       "      <td>263.27</td>\n",
       "      <td>82.07</td>\n",
       "    </tr>\n",
       "    <tr>\n",
       "      <th>2017-12-15</th>\n",
       "      <td>150.97</td>\n",
       "      <td>1064.19</td>\n",
       "      <td>86.45</td>\n",
       "      <td>343.45</td>\n",
       "      <td>119.18</td>\n",
       "      <td>265.45</td>\n",
       "      <td>82.19</td>\n",
       "    </tr>\n",
       "    <tr>\n",
       "      <th>2017-12-18</th>\n",
       "      <td>151.79</td>\n",
       "      <td>1077.14</td>\n",
       "      <td>85.98</td>\n",
       "      <td>338.87</td>\n",
       "      <td>119.73</td>\n",
       "      <td>267.13</td>\n",
       "      <td>82.11</td>\n",
       "    </tr>\n",
       "    <tr>\n",
       "      <th>2017-12-19</th>\n",
       "      <td>151.69</td>\n",
       "      <td>1070.68</td>\n",
       "      <td>85.43</td>\n",
       "      <td>331.10</td>\n",
       "      <td>119.82</td>\n",
       "      <td>266.11</td>\n",
       "      <td>81.61</td>\n",
       "    </tr>\n",
       "    <tr>\n",
       "      <th>2017-12-20</th>\n",
       "      <td>151.41</td>\n",
       "      <td>1064.95</td>\n",
       "      <td>85.13</td>\n",
       "      <td>328.98</td>\n",
       "      <td>120.14</td>\n",
       "      <td>265.97</td>\n",
       "      <td>82.04</td>\n",
       "    </tr>\n",
       "  </tbody>\n",
       "</table>\n",
       "</div>"
      ],
      "text/plain": [
       "              IBM    GOOG  MSFT   TSLA    GLD    SPY   XOM\n",
       "2017-12-07 152.02 1030.93 82.11 311.24 118.49 261.69 81.72\n",
       "2017-12-08 153.25 1037.05 83.77 315.13 118.48 263.12 81.83\n",
       "2017-12-11 153.85 1041.10 84.84 328.91 118.01 263.91 82.19\n",
       "2017-12-12 155.16 1040.48 85.19 341.03 118.15 264.38 81.93\n",
       "2017-12-13 152.36 1040.61 84.96 339.03 119.17 264.35 82.28\n",
       "2017-12-14 152.45 1049.15 84.30 337.89 118.93 263.27 82.07\n",
       "2017-12-15 150.97 1064.19 86.45 343.45 119.18 265.45 82.19\n",
       "2017-12-18 151.79 1077.14 85.98 338.87 119.73 267.13 82.11\n",
       "2017-12-19 151.69 1070.68 85.43 331.10 119.82 266.11 81.61\n",
       "2017-12-20 151.41 1064.95 85.13 328.98 120.14 265.97 82.04"
      ]
     },
     "metadata": {
      "tags": []
     },
     "output_type": "display_data"
    },
    {
     "data": {
      "text/html": [
       "<div>\n",
       "<style scoped>\n",
       "    .dataframe tbody tr th:only-of-type {\n",
       "        vertical-align: middle;\n",
       "    }\n",
       "\n",
       "    .dataframe tbody tr th {\n",
       "        vertical-align: top;\n",
       "    }\n",
       "\n",
       "    .dataframe thead th {\n",
       "        text-align: right;\n",
       "    }\n",
       "</style>\n",
       "<table border=\"1\" class=\"dataframe\">\n",
       "  <thead>\n",
       "    <tr style=\"text-align: right;\">\n",
       "      <th></th>\n",
       "      <th>IBM</th>\n",
       "      <th>GOOG</th>\n",
       "      <th>MSFT</th>\n",
       "      <th>TSLA</th>\n",
       "      <th>GLD</th>\n",
       "      <th>SPY</th>\n",
       "      <th>XOM</th>\n",
       "    </tr>\n",
       "  </thead>\n",
       "  <tbody>\n",
       "    <tr>\n",
       "      <th>2017-12-07</th>\n",
       "      <td>0.00</td>\n",
       "      <td>0.00</td>\n",
       "      <td>0.00</td>\n",
       "      <td>0.00</td>\n",
       "      <td>0.00</td>\n",
       "      <td>0.00</td>\n",
       "      <td>0.00</td>\n",
       "    </tr>\n",
       "    <tr>\n",
       "      <th>2017-12-08</th>\n",
       "      <td>0.01</td>\n",
       "      <td>0.01</td>\n",
       "      <td>0.02</td>\n",
       "      <td>0.01</td>\n",
       "      <td>-0.00</td>\n",
       "      <td>0.01</td>\n",
       "      <td>0.00</td>\n",
       "    </tr>\n",
       "    <tr>\n",
       "      <th>2017-12-11</th>\n",
       "      <td>0.00</td>\n",
       "      <td>0.00</td>\n",
       "      <td>0.01</td>\n",
       "      <td>0.04</td>\n",
       "      <td>-0.00</td>\n",
       "      <td>0.00</td>\n",
       "      <td>0.00</td>\n",
       "    </tr>\n",
       "    <tr>\n",
       "      <th>2017-12-12</th>\n",
       "      <td>0.01</td>\n",
       "      <td>-0.00</td>\n",
       "      <td>0.00</td>\n",
       "      <td>0.04</td>\n",
       "      <td>0.00</td>\n",
       "      <td>0.00</td>\n",
       "      <td>-0.00</td>\n",
       "    </tr>\n",
       "    <tr>\n",
       "      <th>2017-12-13</th>\n",
       "      <td>-0.02</td>\n",
       "      <td>0.00</td>\n",
       "      <td>-0.00</td>\n",
       "      <td>-0.01</td>\n",
       "      <td>0.01</td>\n",
       "      <td>-0.00</td>\n",
       "      <td>0.00</td>\n",
       "    </tr>\n",
       "    <tr>\n",
       "      <th>2017-12-14</th>\n",
       "      <td>0.00</td>\n",
       "      <td>0.01</td>\n",
       "      <td>-0.01</td>\n",
       "      <td>-0.00</td>\n",
       "      <td>-0.00</td>\n",
       "      <td>-0.00</td>\n",
       "      <td>-0.00</td>\n",
       "    </tr>\n",
       "    <tr>\n",
       "      <th>2017-12-15</th>\n",
       "      <td>-0.01</td>\n",
       "      <td>0.01</td>\n",
       "      <td>0.03</td>\n",
       "      <td>0.02</td>\n",
       "      <td>0.00</td>\n",
       "      <td>0.01</td>\n",
       "      <td>0.00</td>\n",
       "    </tr>\n",
       "    <tr>\n",
       "      <th>2017-12-18</th>\n",
       "      <td>0.01</td>\n",
       "      <td>0.01</td>\n",
       "      <td>-0.01</td>\n",
       "      <td>-0.01</td>\n",
       "      <td>0.00</td>\n",
       "      <td>0.01</td>\n",
       "      <td>-0.00</td>\n",
       "    </tr>\n",
       "    <tr>\n",
       "      <th>2017-12-19</th>\n",
       "      <td>-0.00</td>\n",
       "      <td>-0.01</td>\n",
       "      <td>-0.01</td>\n",
       "      <td>-0.02</td>\n",
       "      <td>0.00</td>\n",
       "      <td>-0.00</td>\n",
       "      <td>-0.01</td>\n",
       "    </tr>\n",
       "    <tr>\n",
       "      <th>2017-12-20</th>\n",
       "      <td>-0.00</td>\n",
       "      <td>-0.01</td>\n",
       "      <td>-0.00</td>\n",
       "      <td>-0.01</td>\n",
       "      <td>0.00</td>\n",
       "      <td>-0.00</td>\n",
       "      <td>0.01</td>\n",
       "    </tr>\n",
       "  </tbody>\n",
       "</table>\n",
       "</div>"
      ],
      "text/plain": [
       "             IBM  GOOG  MSFT  TSLA   GLD   SPY   XOM\n",
       "2017-12-07  0.00  0.00  0.00  0.00  0.00  0.00  0.00\n",
       "2017-12-08  0.01  0.01  0.02  0.01 -0.00  0.01  0.00\n",
       "2017-12-11  0.00  0.00  0.01  0.04 -0.00  0.00  0.00\n",
       "2017-12-12  0.01 -0.00  0.00  0.04  0.00  0.00 -0.00\n",
       "2017-12-13 -0.02  0.00 -0.00 -0.01  0.01 -0.00  0.00\n",
       "2017-12-14  0.00  0.01 -0.01 -0.00 -0.00 -0.00 -0.00\n",
       "2017-12-15 -0.01  0.01  0.03  0.02  0.00  0.01  0.00\n",
       "2017-12-18  0.01  0.01 -0.01 -0.01  0.00  0.01 -0.00\n",
       "2017-12-19 -0.00 -0.01 -0.01 -0.02  0.00 -0.00 -0.01\n",
       "2017-12-20 -0.00 -0.01 -0.00 -0.01  0.00 -0.00  0.01"
      ]
     },
     "metadata": {
      "tags": []
     },
     "output_type": "display_data"
    }
   ],
   "source": [
    "my_dff = my_df.head(10)\n",
    "display.display(my_dff)\n",
    "my_dff = (my_dff/my_dff.shift(1)) - 1 \n",
    "my_dff.iloc[0, :] = 0\n",
    "display.display(my_dff)"
   ]
  },
  {
   "cell_type": "markdown",
   "metadata": {
    "colab_type": "text",
    "id": "7StP-WP8xzX0"
   },
   "source": [
    "### Daily Returns"
   ]
  },
  {
   "cell_type": "code",
   "execution_count": 12,
   "metadata": {
    "colab": {
     "autoexec": {
      "startup": false,
      "wait_interval": 0
     },
     "base_uri": "https://localhost:8080/",
     "height": 367
    },
    "colab_type": "code",
    "executionInfo": {
     "elapsed": 1297,
     "status": "ok",
     "timestamp": 1525336299733,
     "user": {
      "displayName": "Mohammed Saifuddin",
      "photoUrl": "//lh5.googleusercontent.com/-WA85hItRjEY/AAAAAAAAAAI/AAAAAAAAAbE/UJEAr4wXn1Y/s50-c-k-no/photo.jpg",
      "userId": "107128453463956036616"
     },
     "user_tz": -330
    },
    "id": "FT1SgFsweAkg",
    "outputId": "f5c87657-08f4-486b-b2de-50543062f68e"
   },
   "outputs": [
    {
     "data": {
      "image/png": "[encoded data removed]",
      "text/plain": [
       "<Figure size 576x396 with 1 Axes>"
      ]
     },
     "metadata": {
      "tags": []
     },
     "output_type": "display_data"
    }
   ],
   "source": [
    "def daily_return_plotter(df):\n",
    "  df = (df / df.shift(1)) - 1\n",
    "  df.iloc[0, :] = 0\n",
    "  # plt.figure(figsize=(20, 10))\n",
    "  ax = df.plot(label=symbols)\n",
    "  ax.set_title('Daily Returns')\n",
    "  ax.set_xlabel('Dates')\n",
    "  ax.set_ylabel('Prices')\n",
    "  plt.show()\n",
    "\n",
    "sym = ['GOOG']\n",
    "daily_return_plotter(data_loader(symbols=sym))"
   ]
  },
  {
   "cell_type": "markdown",
   "metadata": {
    "colab_type": "text",
    "id": "ioKROkXDx24X"
   },
   "source": [
    "### Cumulative Returns"
   ]
  },
  {
   "cell_type": "code",
   "execution_count": 15,
   "metadata": {
    "colab": {
     "autoexec": {
      "startup": false,
      "wait_interval": 0
     },
     "base_uri": "https://localhost:8080/",
     "height": 351
    },
    "colab_type": "code",
    "executionInfo": {
     "elapsed": 2234,
     "status": "ok",
     "timestamp": 1525334215273,
     "user": {
      "displayName": "Mohammed Saifuddin",
      "photoUrl": "//lh5.googleusercontent.com/-WA85hItRjEY/AAAAAAAAAAI/AAAAAAAAAbE/UJEAr4wXn1Y/s50-c-k-no/photo.jpg",
      "userId": "107128453463956036616"
     },
     "user_tz": -330
    },
    "id": "4Tozy_vUiFXz",
    "outputId": "e943bf74-4083-4ca5-ee4d-8c9077a89126"
   },
   "outputs": [
    {
     "data": {
      "image/png": "[encoded data removed]",
      "text/plain": [
       "<matplotlib.figure.Figure at 0x7fa21caf2a90>"
      ]
     },
     "metadata": {
      "tags": []
     },
     "output_type": "display_data"
    }
   ],
   "source": [
    "def cumulative_return_plotter(df):\n",
    "  df = (df / df.iloc[0, :]) - 1\n",
    "  df.plot(title='Cumlative Returns')\n",
    "  plt.show()\n",
    "\n",
    "sym = ['GOOG']\n",
    "cumulative_return_plotter(data_loader(symbols=sym))"
   ]
  },
  {
   "cell_type": "markdown",
   "metadata": {
    "colab_type": "text",
    "id": "W9JZa4przHpl"
   },
   "source": [
    "### Histograms and Scatterplot"
   ]
  },
  {
   "cell_type": "code",
   "execution_count": 16,
   "metadata": {
    "cellView": "both",
    "colab": {
     "autoexec": {
      "startup": false,
      "wait_interval": 0
     },
     "base_uri": "https://localhost:8080/",
     "height": 359
    },
    "colab_type": "code",
    "executionInfo": {
     "elapsed": 2594,
     "status": "ok",
     "timestamp": 1525334219532,
     "user": {
      "displayName": "Mohammed Saifuddin",
      "photoUrl": "//lh5.googleusercontent.com/-WA85hItRjEY/AAAAAAAAAAI/AAAAAAAAAbE/UJEAr4wXn1Y/s50-c-k-no/photo.jpg",
      "userId": "107128453463956036616"
     },
     "user_tz": -330
    },
    "id": "lgBA3wQwDstV",
    "outputId": "41ef0d85-fc00-4fd0-8072-3fae8e8c61f5"
   },
   "outputs": [
    {
     "data": {
      "text/html": [
       "<div>\n",
       "<style scoped>\n",
       "    .dataframe tbody tr th:only-of-type {\n",
       "        vertical-align: middle;\n",
       "    }\n",
       "\n",
       "    .dataframe tbody tr th {\n",
       "        vertical-align: top;\n",
       "    }\n",
       "\n",
       "    .dataframe thead th {\n",
       "        text-align: right;\n",
       "    }\n",
       "</style>\n",
       "<table border=\"1\" class=\"dataframe\">\n",
       "  <thead>\n",
       "    <tr style=\"text-align: right;\">\n",
       "      <th></th>\n",
       "      <th>IBM</th>\n",
       "      <th>GOOG</th>\n",
       "      <th>MSFT</th>\n",
       "      <th>TSLA</th>\n",
       "      <th>GLD</th>\n",
       "      <th>SPY</th>\n",
       "      <th>XOM</th>\n",
       "    </tr>\n",
       "  </thead>\n",
       "  <tbody>\n",
       "    <tr>\n",
       "      <th>2018-04-19</th>\n",
       "      <td>147.70</td>\n",
       "      <td>1087.70</td>\n",
       "      <td>96.11</td>\n",
       "      <td>300.08</td>\n",
       "      <td>127.60</td>\n",
       "      <td>268.89</td>\n",
       "      <td>79.42</td>\n",
       "    </tr>\n",
       "    <tr>\n",
       "      <th>2018-04-20</th>\n",
       "      <td>144.90</td>\n",
       "      <td>1072.96</td>\n",
       "      <td>95.00</td>\n",
       "      <td>290.24</td>\n",
       "      <td>126.63</td>\n",
       "      <td>266.61</td>\n",
       "      <td>79.00</td>\n",
       "    </tr>\n",
       "    <tr>\n",
       "      <th>2018-04-23</th>\n",
       "      <td>145.86</td>\n",
       "      <td>1067.45</td>\n",
       "      <td>95.35</td>\n",
       "      <td>283.37</td>\n",
       "      <td>125.62</td>\n",
       "      <td>266.57</td>\n",
       "      <td>79.57</td>\n",
       "    </tr>\n",
       "    <tr>\n",
       "      <th>2018-04-24</th>\n",
       "      <td>145.56</td>\n",
       "      <td>1019.98</td>\n",
       "      <td>93.12</td>\n",
       "      <td>283.46</td>\n",
       "      <td>126.23</td>\n",
       "      <td>262.98</td>\n",
       "      <td>78.35</td>\n",
       "    </tr>\n",
       "    <tr>\n",
       "      <th>2018-04-25</th>\n",
       "      <td>145.94</td>\n",
       "      <td>1021.18</td>\n",
       "      <td>92.31</td>\n",
       "      <td>280.69</td>\n",
       "      <td>125.41</td>\n",
       "      <td>263.63</td>\n",
       "      <td>79.50</td>\n",
       "    </tr>\n",
       "    <tr>\n",
       "      <th>2018-04-26</th>\n",
       "      <td>146.72</td>\n",
       "      <td>1040.04</td>\n",
       "      <td>94.26</td>\n",
       "      <td>285.48</td>\n",
       "      <td>124.97</td>\n",
       "      <td>266.31</td>\n",
       "      <td>80.86</td>\n",
       "    </tr>\n",
       "    <tr>\n",
       "      <th>2018-04-27</th>\n",
       "      <td>146.48</td>\n",
       "      <td>1030.05</td>\n",
       "      <td>95.82</td>\n",
       "      <td>294.07</td>\n",
       "      <td>125.50</td>\n",
       "      <td>266.56</td>\n",
       "      <td>77.79</td>\n",
       "    </tr>\n",
       "    <tr>\n",
       "      <th>2018-04-30</th>\n",
       "      <td>144.96</td>\n",
       "      <td>1017.33</td>\n",
       "      <td>93.52</td>\n",
       "      <td>293.90</td>\n",
       "      <td>124.59</td>\n",
       "      <td>264.51</td>\n",
       "      <td>77.75</td>\n",
       "    </tr>\n",
       "    <tr>\n",
       "      <th>2018-05-01</th>\n",
       "      <td>145.00</td>\n",
       "      <td>1037.31</td>\n",
       "      <td>95.00</td>\n",
       "      <td>299.92</td>\n",
       "      <td>123.71</td>\n",
       "      <td>264.98</td>\n",
       "      <td>76.95</td>\n",
       "    </tr>\n",
       "    <tr>\n",
       "      <th>2018-05-02</th>\n",
       "      <td>142.45</td>\n",
       "      <td>1024.38</td>\n",
       "      <td>93.51</td>\n",
       "      <td>301.15</td>\n",
       "      <td>123.65</td>\n",
       "      <td>263.20</td>\n",
       "      <td>76.80</td>\n",
       "    </tr>\n",
       "  </tbody>\n",
       "</table>\n",
       "</div>"
      ],
      "text/plain": [
       "              IBM    GOOG  MSFT   TSLA    GLD    SPY   XOM\n",
       "2018-04-19 147.70 1087.70 96.11 300.08 127.60 268.89 79.42\n",
       "2018-04-20 144.90 1072.96 95.00 290.24 126.63 266.61 79.00\n",
       "2018-04-23 145.86 1067.45 95.35 283.37 125.62 266.57 79.57\n",
       "2018-04-24 145.56 1019.98 93.12 283.46 126.23 262.98 78.35\n",
       "2018-04-25 145.94 1021.18 92.31 280.69 125.41 263.63 79.50\n",
       "2018-04-26 146.72 1040.04 94.26 285.48 124.97 266.31 80.86\n",
       "2018-04-27 146.48 1030.05 95.82 294.07 125.50 266.56 77.79\n",
       "2018-04-30 144.96 1017.33 93.52 293.90 124.59 264.51 77.75\n",
       "2018-05-01 145.00 1037.31 95.00 299.92 123.71 264.98 76.95\n",
       "2018-05-02 142.45 1024.38 93.51 301.15 123.65 263.20 76.80"
      ]
     },
     "metadata": {
      "tags": []
     },
     "output_type": "display_data"
    }
   ],
   "source": [
    "df_29 = data_loader(symbols=symbols)\n",
    "display.display(df_29.tail(10))"
   ]
  },
  {
   "cell_type": "code",
   "execution_count": 17,
   "metadata": {
    "colab": {
     "autoexec": {
      "startup": false,
      "wait_interval": 0
     },
     "base_uri": "https://localhost:8080/",
     "height": 359
    },
    "colab_type": "code",
    "executionInfo": {
     "elapsed": 829,
     "status": "ok",
     "timestamp": 1525334221133,
     "user": {
      "displayName": "Mohammed Saifuddin",
      "photoUrl": "//lh5.googleusercontent.com/-WA85hItRjEY/AAAAAAAAAAI/AAAAAAAAAbE/UJEAr4wXn1Y/s50-c-k-no/photo.jpg",
      "userId": "107128453463956036616"
     },
     "user_tz": -330
    },
    "id": "2-xQMafgzFB6",
    "outputId": "c11878be-d2a0-4547-c1b9-c18ac12c3ef9"
   },
   "outputs": [
    {
     "data": {
      "text/html": [
       "<div>\n",
       "<style scoped>\n",
       "    .dataframe tbody tr th:only-of-type {\n",
       "        vertical-align: middle;\n",
       "    }\n",
       "\n",
       "    .dataframe tbody tr th {\n",
       "        vertical-align: top;\n",
       "    }\n",
       "\n",
       "    .dataframe thead th {\n",
       "        text-align: right;\n",
       "    }\n",
       "</style>\n",
       "<table border=\"1\" class=\"dataframe\">\n",
       "  <thead>\n",
       "    <tr style=\"text-align: right;\">\n",
       "      <th></th>\n",
       "      <th>IBM</th>\n",
       "      <th>GOOG</th>\n",
       "      <th>MSFT</th>\n",
       "      <th>TSLA</th>\n",
       "      <th>GLD</th>\n",
       "      <th>SPY</th>\n",
       "      <th>XOM</th>\n",
       "    </tr>\n",
       "  </thead>\n",
       "  <tbody>\n",
       "    <tr>\n",
       "      <th>2017-12-07</th>\n",
       "      <td>0.00</td>\n",
       "      <td>0.00</td>\n",
       "      <td>0.00</td>\n",
       "      <td>0.00</td>\n",
       "      <td>0.00</td>\n",
       "      <td>0.00</td>\n",
       "      <td>0.00</td>\n",
       "    </tr>\n",
       "    <tr>\n",
       "      <th>2017-12-08</th>\n",
       "      <td>0.01</td>\n",
       "      <td>0.01</td>\n",
       "      <td>0.02</td>\n",
       "      <td>0.01</td>\n",
       "      <td>-0.00</td>\n",
       "      <td>0.01</td>\n",
       "      <td>0.00</td>\n",
       "    </tr>\n",
       "    <tr>\n",
       "      <th>2017-12-11</th>\n",
       "      <td>0.00</td>\n",
       "      <td>0.00</td>\n",
       "      <td>0.01</td>\n",
       "      <td>0.04</td>\n",
       "      <td>-0.00</td>\n",
       "      <td>0.00</td>\n",
       "      <td>0.00</td>\n",
       "    </tr>\n",
       "    <tr>\n",
       "      <th>2017-12-12</th>\n",
       "      <td>0.01</td>\n",
       "      <td>-0.00</td>\n",
       "      <td>0.00</td>\n",
       "      <td>0.04</td>\n",
       "      <td>0.00</td>\n",
       "      <td>0.00</td>\n",
       "      <td>-0.00</td>\n",
       "    </tr>\n",
       "    <tr>\n",
       "      <th>2017-12-13</th>\n",
       "      <td>-0.02</td>\n",
       "      <td>0.00</td>\n",
       "      <td>-0.00</td>\n",
       "      <td>-0.01</td>\n",
       "      <td>0.01</td>\n",
       "      <td>-0.00</td>\n",
       "      <td>0.00</td>\n",
       "    </tr>\n",
       "    <tr>\n",
       "      <th>2017-12-14</th>\n",
       "      <td>0.00</td>\n",
       "      <td>0.01</td>\n",
       "      <td>-0.01</td>\n",
       "      <td>-0.00</td>\n",
       "      <td>-0.00</td>\n",
       "      <td>-0.00</td>\n",
       "      <td>-0.00</td>\n",
       "    </tr>\n",
       "    <tr>\n",
       "      <th>2017-12-15</th>\n",
       "      <td>-0.01</td>\n",
       "      <td>0.01</td>\n",
       "      <td>0.03</td>\n",
       "      <td>0.02</td>\n",
       "      <td>0.00</td>\n",
       "      <td>0.01</td>\n",
       "      <td>0.00</td>\n",
       "    </tr>\n",
       "    <tr>\n",
       "      <th>2017-12-18</th>\n",
       "      <td>0.01</td>\n",
       "      <td>0.01</td>\n",
       "      <td>-0.01</td>\n",
       "      <td>-0.01</td>\n",
       "      <td>0.00</td>\n",
       "      <td>0.01</td>\n",
       "      <td>-0.00</td>\n",
       "    </tr>\n",
       "    <tr>\n",
       "      <th>2017-12-19</th>\n",
       "      <td>-0.00</td>\n",
       "      <td>-0.01</td>\n",
       "      <td>-0.01</td>\n",
       "      <td>-0.02</td>\n",
       "      <td>0.00</td>\n",
       "      <td>-0.00</td>\n",
       "      <td>-0.01</td>\n",
       "    </tr>\n",
       "    <tr>\n",
       "      <th>2017-12-20</th>\n",
       "      <td>-0.00</td>\n",
       "      <td>-0.01</td>\n",
       "      <td>-0.00</td>\n",
       "      <td>-0.01</td>\n",
       "      <td>0.00</td>\n",
       "      <td>-0.00</td>\n",
       "      <td>0.01</td>\n",
       "    </tr>\n",
       "  </tbody>\n",
       "</table>\n",
       "</div>"
      ],
      "text/plain": [
       "             IBM  GOOG  MSFT  TSLA   GLD   SPY   XOM\n",
       "2017-12-07  0.00  0.00  0.00  0.00  0.00  0.00  0.00\n",
       "2017-12-08  0.01  0.01  0.02  0.01 -0.00  0.01  0.00\n",
       "2017-12-11  0.00  0.00  0.01  0.04 -0.00  0.00  0.00\n",
       "2017-12-12  0.01 -0.00  0.00  0.04  0.00  0.00 -0.00\n",
       "2017-12-13 -0.02  0.00 -0.00 -0.01  0.01 -0.00  0.00\n",
       "2017-12-14  0.00  0.01 -0.01 -0.00 -0.00 -0.00 -0.00\n",
       "2017-12-15 -0.01  0.01  0.03  0.02  0.00  0.01  0.00\n",
       "2017-12-18  0.01  0.01 -0.01 -0.01  0.00  0.01 -0.00\n",
       "2017-12-19 -0.00 -0.01 -0.01 -0.02  0.00 -0.00 -0.01\n",
       "2017-12-20 -0.00 -0.01 -0.00 -0.01  0.00 -0.00  0.01"
      ]
     },
     "metadata": {
      "tags": []
     },
     "output_type": "display_data"
    }
   ],
   "source": [
    "df_29 = (df_29 / df_29.shift(1)) - 1\n",
    "df_29.iloc[0, :] = 0\n",
    "display.display(df_29.head(10)) # Normalized for Daily Returns"
   ]
  },
  {
   "cell_type": "code",
   "execution_count": 18,
   "metadata": {
    "colab": {
     "autoexec": {
      "startup": false,
      "wait_interval": 0
     },
     "base_uri": "https://localhost:8080/",
     "height": 417
    },
    "colab_type": "code",
    "executionInfo": {
     "elapsed": 858,
     "status": "ok",
     "timestamp": 1525334223416,
     "user": {
      "displayName": "Mohammed Saifuddin",
      "photoUrl": "//lh5.googleusercontent.com/-WA85hItRjEY/AAAAAAAAAAI/AAAAAAAAAbE/UJEAr4wXn1Y/s50-c-k-no/photo.jpg",
      "userId": "107128453463956036616"
     },
     "user_tz": -330
    },
    "id": "Sx8dICWPzlIi",
    "outputId": "4a9e26ba-8a8b-4cd3-c714-5a726cf3fb92"
   },
   "outputs": [
    {
     "name": "stdout",
     "output_type": "stream",
     "text": [
      "Mean: 0.00011858636310055348\n",
      "Std: 0.011066600491385192\n",
      "Kurtosis: 2.5800140736647514\n",
      "\n"
     ]
    },
    {
     "data": {
      "image/png": "[encoded data removed]",
      "text/plain": [
       "<matplotlib.figure.Figure at 0x7fa21b1ac8d0>"
      ]
     },
     "metadata": {
      "tags": []
     },
     "output_type": "display_data"
    }
   ],
   "source": [
    "# Histogram with mean and standard_deviation\n",
    "mean_spy = df_29['SPY'].mean()\n",
    "print('Mean: {}'.format(mean_spy))\n",
    "std_spy = df_29['SPY'].std()\n",
    "print('Std: {}'.format(std_spy))\n",
    "kurt_spy = df_29['SPY'].kurtosis()\n",
    "print('Kurtosis: {}\\n'.format(kurt_spy))\n",
    "\n",
    "df_29['SPY'].hist(bins=20, color='g')\n",
    "plt.axvline(mean_spy, color='w', linestyle='dashed', linewidth=2)\n",
    "plt.axvline(std_spy, color='b', linestyle='dashed', linewidth=2)\n",
    "plt.axvline(-std_spy, color='b', linestyle='dashed', linewidth=2)\n",
    "plt.show()"
   ]
  },
  {
   "cell_type": "code",
   "execution_count": 19,
   "metadata": {
    "colab": {
     "autoexec": {
      "startup": false,
      "wait_interval": 0
     },
     "base_uri": "https://localhost:8080/",
     "height": 359
    },
    "colab_type": "code",
    "executionInfo": {
     "elapsed": 846,
     "status": "ok",
     "timestamp": 1525334225919,
     "user": {
      "displayName": "Mohammed Saifuddin",
      "photoUrl": "//lh5.googleusercontent.com/-WA85hItRjEY/AAAAAAAAAAI/AAAAAAAAAbE/UJEAr4wXn1Y/s50-c-k-no/photo.jpg",
      "userId": "107128453463956036616"
     },
     "user_tz": -330
    },
    "id": "gWq__YCHz9AG",
    "outputId": "c0c71029-2b63-4e78-97ac-46eae8e200a6"
   },
   "outputs": [
    {
     "data": {
      "text/html": [
       "<div>\n",
       "<style scoped>\n",
       "    .dataframe tbody tr th:only-of-type {\n",
       "        vertical-align: middle;\n",
       "    }\n",
       "\n",
       "    .dataframe tbody tr th {\n",
       "        vertical-align: top;\n",
       "    }\n",
       "\n",
       "    .dataframe thead th {\n",
       "        text-align: right;\n",
       "    }\n",
       "</style>\n",
       "<table border=\"1\" class=\"dataframe\">\n",
       "  <thead>\n",
       "    <tr style=\"text-align: right;\">\n",
       "      <th></th>\n",
       "      <th>IBM</th>\n",
       "      <th>GOOG</th>\n",
       "      <th>MSFT</th>\n",
       "      <th>TSLA</th>\n",
       "      <th>GLD</th>\n",
       "      <th>SPY</th>\n",
       "      <th>XOM</th>\n",
       "    </tr>\n",
       "  </thead>\n",
       "  <tbody>\n",
       "    <tr>\n",
       "      <th>2017-12-07</th>\n",
       "      <td>0.00</td>\n",
       "      <td>0.00</td>\n",
       "      <td>0.00</td>\n",
       "      <td>0.00</td>\n",
       "      <td>0.00</td>\n",
       "      <td>0.00</td>\n",
       "      <td>0.00</td>\n",
       "    </tr>\n",
       "    <tr>\n",
       "      <th>2017-12-08</th>\n",
       "      <td>0.01</td>\n",
       "      <td>0.01</td>\n",
       "      <td>0.02</td>\n",
       "      <td>0.01</td>\n",
       "      <td>-0.00</td>\n",
       "      <td>0.01</td>\n",
       "      <td>0.00</td>\n",
       "    </tr>\n",
       "    <tr>\n",
       "      <th>2017-12-11</th>\n",
       "      <td>0.00</td>\n",
       "      <td>0.00</td>\n",
       "      <td>0.01</td>\n",
       "      <td>0.04</td>\n",
       "      <td>-0.00</td>\n",
       "      <td>0.00</td>\n",
       "      <td>0.00</td>\n",
       "    </tr>\n",
       "    <tr>\n",
       "      <th>2017-12-12</th>\n",
       "      <td>0.01</td>\n",
       "      <td>-0.00</td>\n",
       "      <td>0.00</td>\n",
       "      <td>0.04</td>\n",
       "      <td>0.00</td>\n",
       "      <td>0.00</td>\n",
       "      <td>-0.00</td>\n",
       "    </tr>\n",
       "    <tr>\n",
       "      <th>2017-12-13</th>\n",
       "      <td>-0.02</td>\n",
       "      <td>0.00</td>\n",
       "      <td>-0.00</td>\n",
       "      <td>-0.01</td>\n",
       "      <td>0.01</td>\n",
       "      <td>-0.00</td>\n",
       "      <td>0.00</td>\n",
       "    </tr>\n",
       "    <tr>\n",
       "      <th>2017-12-14</th>\n",
       "      <td>0.00</td>\n",
       "      <td>0.01</td>\n",
       "      <td>-0.01</td>\n",
       "      <td>-0.00</td>\n",
       "      <td>-0.00</td>\n",
       "      <td>-0.00</td>\n",
       "      <td>-0.00</td>\n",
       "    </tr>\n",
       "    <tr>\n",
       "      <th>2017-12-15</th>\n",
       "      <td>-0.01</td>\n",
       "      <td>0.01</td>\n",
       "      <td>0.03</td>\n",
       "      <td>0.02</td>\n",
       "      <td>0.00</td>\n",
       "      <td>0.01</td>\n",
       "      <td>0.00</td>\n",
       "    </tr>\n",
       "    <tr>\n",
       "      <th>2017-12-18</th>\n",
       "      <td>0.01</td>\n",
       "      <td>0.01</td>\n",
       "      <td>-0.01</td>\n",
       "      <td>-0.01</td>\n",
       "      <td>0.00</td>\n",
       "      <td>0.01</td>\n",
       "      <td>-0.00</td>\n",
       "    </tr>\n",
       "    <tr>\n",
       "      <th>2017-12-19</th>\n",
       "      <td>-0.00</td>\n",
       "      <td>-0.01</td>\n",
       "      <td>-0.01</td>\n",
       "      <td>-0.02</td>\n",
       "      <td>0.00</td>\n",
       "      <td>-0.00</td>\n",
       "      <td>-0.01</td>\n",
       "    </tr>\n",
       "    <tr>\n",
       "      <th>2017-12-20</th>\n",
       "      <td>-0.00</td>\n",
       "      <td>-0.01</td>\n",
       "      <td>-0.00</td>\n",
       "      <td>-0.01</td>\n",
       "      <td>0.00</td>\n",
       "      <td>-0.00</td>\n",
       "      <td>0.01</td>\n",
       "    </tr>\n",
       "  </tbody>\n",
       "</table>\n",
       "</div>"
      ],
      "text/plain": [
       "             IBM  GOOG  MSFT  TSLA   GLD   SPY   XOM\n",
       "2017-12-07  0.00  0.00  0.00  0.00  0.00  0.00  0.00\n",
       "2017-12-08  0.01  0.01  0.02  0.01 -0.00  0.01  0.00\n",
       "2017-12-11  0.00  0.00  0.01  0.04 -0.00  0.00  0.00\n",
       "2017-12-12  0.01 -0.00  0.00  0.04  0.00  0.00 -0.00\n",
       "2017-12-13 -0.02  0.00 -0.00 -0.01  0.01 -0.00  0.00\n",
       "2017-12-14  0.00  0.01 -0.01 -0.00 -0.00 -0.00 -0.00\n",
       "2017-12-15 -0.01  0.01  0.03  0.02  0.00  0.01  0.00\n",
       "2017-12-18  0.01  0.01 -0.01 -0.01  0.00  0.01 -0.00\n",
       "2017-12-19 -0.00 -0.01 -0.01 -0.02  0.00 -0.00 -0.01\n",
       "2017-12-20 -0.00 -0.01 -0.00 -0.01  0.00 -0.00  0.01"
      ]
     },
     "metadata": {
      "tags": []
     },
     "output_type": "display_data"
    }
   ],
   "source": [
    "display.display(df_29.head(10))"
   ]
  },
  {
   "cell_type": "code",
   "execution_count": 20,
   "metadata": {
    "colab": {
     "autoexec": {
      "startup": false,
      "wait_interval": 0
     },
     "base_uri": "https://localhost:8080/",
     "height": 713
    },
    "colab_type": "code",
    "executionInfo": {
     "elapsed": 1040,
     "status": "ok",
     "timestamp": 1525334228009,
     "user": {
      "displayName": "Mohammed Saifuddin",
      "photoUrl": "//lh5.googleusercontent.com/-WA85hItRjEY/AAAAAAAAAAI/AAAAAAAAAbE/UJEAr4wXn1Y/s50-c-k-no/photo.jpg",
      "userId": "107128453463956036616"
     },
     "user_tz": -330
    },
    "id": "YR9R78pH24gS",
    "outputId": "f0bd56a9-f786-4d0a-86ef-7529b0d10f22"
   },
   "outputs": [
    {
     "data": {
      "image/png": "[encoded data removed]",
      "text/plain": [
       "<matplotlib.figure.Figure at 0x7fa21b11cfd0>"
      ]
     },
     "metadata": {
      "tags": []
     },
     "output_type": "display_data"
    },
    {
     "name": "stdout",
     "output_type": "stream",
     "text": [
      "\n"
     ]
    },
    {
     "data": {
      "image/png": "[encoded data removed]",
      "text/plain": [
       "<matplotlib.figure.Figure at 0x7fa21b1b66d8>"
      ]
     },
     "metadata": {
      "tags": []
     },
     "output_type": "display_data"
    }
   ],
   "source": [
    "# Multiple Histograms\n",
    "df_29[['SPY', 'XOM']].hist(bins=20)\n",
    "plt.show()\n",
    "print()\n",
    "df_29['SPY'].hist(bins=20, label='SPY')\n",
    "df_29['XOM'].hist(bins=20, label='XOM')\n",
    "plt.legend()\n",
    "plt.show()"
   ]
  },
  {
   "cell_type": "code",
   "execution_count": 21,
   "metadata": {
    "colab": {
     "autoexec": {
      "startup": false,
      "wait_interval": 0
     },
     "base_uri": "https://localhost:8080/",
     "height": 359
    },
    "colab_type": "code",
    "executionInfo": {
     "elapsed": 878,
     "status": "ok",
     "timestamp": 1525334230060,
     "user": {
      "displayName": "Mohammed Saifuddin",
      "photoUrl": "//lh5.googleusercontent.com/-WA85hItRjEY/AAAAAAAAAAI/AAAAAAAAAbE/UJEAr4wXn1Y/s50-c-k-no/photo.jpg",
      "userId": "107128453463956036616"
     },
     "user_tz": -330
    },
    "id": "0brf1LVF3Nlo",
    "outputId": "6c06ba05-4a31-4c61-f0fa-15327d9a2372"
   },
   "outputs": [
    {
     "data": {
      "text/html": [
       "<div>\n",
       "<style scoped>\n",
       "    .dataframe tbody tr th:only-of-type {\n",
       "        vertical-align: middle;\n",
       "    }\n",
       "\n",
       "    .dataframe tbody tr th {\n",
       "        vertical-align: top;\n",
       "    }\n",
       "\n",
       "    .dataframe thead th {\n",
       "        text-align: right;\n",
       "    }\n",
       "</style>\n",
       "<table border=\"1\" class=\"dataframe\">\n",
       "  <thead>\n",
       "    <tr style=\"text-align: right;\">\n",
       "      <th></th>\n",
       "      <th>IBM</th>\n",
       "      <th>GOOG</th>\n",
       "      <th>MSFT</th>\n",
       "      <th>TSLA</th>\n",
       "      <th>GLD</th>\n",
       "      <th>SPY</th>\n",
       "      <th>XOM</th>\n",
       "    </tr>\n",
       "  </thead>\n",
       "  <tbody>\n",
       "    <tr>\n",
       "      <th>2017-12-07</th>\n",
       "      <td>0.00</td>\n",
       "      <td>0.00</td>\n",
       "      <td>0.00</td>\n",
       "      <td>0.00</td>\n",
       "      <td>0.00</td>\n",
       "      <td>0.00</td>\n",
       "      <td>0.00</td>\n",
       "    </tr>\n",
       "    <tr>\n",
       "      <th>2017-12-08</th>\n",
       "      <td>0.01</td>\n",
       "      <td>0.01</td>\n",
       "      <td>0.02</td>\n",
       "      <td>0.01</td>\n",
       "      <td>-0.00</td>\n",
       "      <td>0.01</td>\n",
       "      <td>0.00</td>\n",
       "    </tr>\n",
       "    <tr>\n",
       "      <th>2017-12-11</th>\n",
       "      <td>0.00</td>\n",
       "      <td>0.00</td>\n",
       "      <td>0.01</td>\n",
       "      <td>0.04</td>\n",
       "      <td>-0.00</td>\n",
       "      <td>0.00</td>\n",
       "      <td>0.00</td>\n",
       "    </tr>\n",
       "    <tr>\n",
       "      <th>2017-12-12</th>\n",
       "      <td>0.01</td>\n",
       "      <td>-0.00</td>\n",
       "      <td>0.00</td>\n",
       "      <td>0.04</td>\n",
       "      <td>0.00</td>\n",
       "      <td>0.00</td>\n",
       "      <td>-0.00</td>\n",
       "    </tr>\n",
       "    <tr>\n",
       "      <th>2017-12-13</th>\n",
       "      <td>-0.02</td>\n",
       "      <td>0.00</td>\n",
       "      <td>-0.00</td>\n",
       "      <td>-0.01</td>\n",
       "      <td>0.01</td>\n",
       "      <td>-0.00</td>\n",
       "      <td>0.00</td>\n",
       "    </tr>\n",
       "    <tr>\n",
       "      <th>2017-12-14</th>\n",
       "      <td>0.00</td>\n",
       "      <td>0.01</td>\n",
       "      <td>-0.01</td>\n",
       "      <td>-0.00</td>\n",
       "      <td>-0.00</td>\n",
       "      <td>-0.00</td>\n",
       "      <td>-0.00</td>\n",
       "    </tr>\n",
       "    <tr>\n",
       "      <th>2017-12-15</th>\n",
       "      <td>-0.01</td>\n",
       "      <td>0.01</td>\n",
       "      <td>0.03</td>\n",
       "      <td>0.02</td>\n",
       "      <td>0.00</td>\n",
       "      <td>0.01</td>\n",
       "      <td>0.00</td>\n",
       "    </tr>\n",
       "    <tr>\n",
       "      <th>2017-12-18</th>\n",
       "      <td>0.01</td>\n",
       "      <td>0.01</td>\n",
       "      <td>-0.01</td>\n",
       "      <td>-0.01</td>\n",
       "      <td>0.00</td>\n",
       "      <td>0.01</td>\n",
       "      <td>-0.00</td>\n",
       "    </tr>\n",
       "    <tr>\n",
       "      <th>2017-12-19</th>\n",
       "      <td>-0.00</td>\n",
       "      <td>-0.01</td>\n",
       "      <td>-0.01</td>\n",
       "      <td>-0.02</td>\n",
       "      <td>0.00</td>\n",
       "      <td>-0.00</td>\n",
       "      <td>-0.01</td>\n",
       "    </tr>\n",
       "    <tr>\n",
       "      <th>2017-12-20</th>\n",
       "      <td>-0.00</td>\n",
       "      <td>-0.01</td>\n",
       "      <td>-0.00</td>\n",
       "      <td>-0.01</td>\n",
       "      <td>0.00</td>\n",
       "      <td>-0.00</td>\n",
       "      <td>0.01</td>\n",
       "    </tr>\n",
       "  </tbody>\n",
       "</table>\n",
       "</div>"
      ],
      "text/plain": [
       "             IBM  GOOG  MSFT  TSLA   GLD   SPY   XOM\n",
       "2017-12-07  0.00  0.00  0.00  0.00  0.00  0.00  0.00\n",
       "2017-12-08  0.01  0.01  0.02  0.01 -0.00  0.01  0.00\n",
       "2017-12-11  0.00  0.00  0.01  0.04 -0.00  0.00  0.00\n",
       "2017-12-12  0.01 -0.00  0.00  0.04  0.00  0.00 -0.00\n",
       "2017-12-13 -0.02  0.00 -0.00 -0.01  0.01 -0.00  0.00\n",
       "2017-12-14  0.00  0.01 -0.01 -0.00 -0.00 -0.00 -0.00\n",
       "2017-12-15 -0.01  0.01  0.03  0.02  0.00  0.01  0.00\n",
       "2017-12-18  0.01  0.01 -0.01 -0.01  0.00  0.01 -0.00\n",
       "2017-12-19 -0.00 -0.01 -0.01 -0.02  0.00 -0.00 -0.01\n",
       "2017-12-20 -0.00 -0.01 -0.00 -0.01  0.00 -0.00  0.01"
      ]
     },
     "metadata": {
      "tags": []
     },
     "output_type": "display_data"
    }
   ],
   "source": [
    "# Scatterplot between SPY and XOM\n",
    "display.display(df_29.head(10))"
   ]
  },
  {
   "cell_type": "code",
   "execution_count": 22,
   "metadata": {
    "colab": {
     "autoexec": {
      "startup": false,
      "wait_interval": 0
     },
     "base_uri": "https://localhost:8080/",
     "height": 964
    },
    "colab_type": "code",
    "executionInfo": {
     "elapsed": 1279,
     "status": "ok",
     "timestamp": 1525334233749,
     "user": {
      "displayName": "Mohammed Saifuddin",
      "photoUrl": "//lh5.googleusercontent.com/-WA85hItRjEY/AAAAAAAAAAI/AAAAAAAAAbE/UJEAr4wXn1Y/s50-c-k-no/photo.jpg",
      "userId": "107128453463956036616"
     },
     "user_tz": -330
    },
    "id": "tu4IE7fS5hNG",
    "outputId": "99b18dcc-00fa-463e-bccc-2bd1af140f70"
   },
   "outputs": [
    {
     "name": "stdout",
     "output_type": "stream",
     "text": [
      "Slope (on SPY & XOM): 0.8348567763122544\n",
      "Intercept (on SPY & XOM): -0.0006219893993275708\n",
      "Correlation (on SPY & XOM)\n",
      "     SPY  XOM\n",
      "SPY 1.00 0.66\n",
      "XOM 0.66 1.00\n",
      "\n"
     ]
    },
    {
     "data": {
      "image/png": "[encoded data removed]",
      "text/plain": [
       "<matplotlib.figure.Figure at 0x7fa21b1206a0>"
      ]
     },
     "metadata": {
      "tags": []
     },
     "output_type": "display_data"
    },
    {
     "name": "stdout",
     "output_type": "stream",
     "text": [
      "\n",
      "Slope (on GOOG & MSFT): 0.8584498830224673\n",
      "Intercept (on GOOG & MSFT): 0.0013839524399924224\n",
      "Correlation (on GOOG & MSFT)\n",
      "      GOOG  MSFT\n",
      "GOOG  1.00  0.84\n",
      "MSFT  0.84  1.00\n",
      "\n"
     ]
    },
    {
     "data": {
      "image/png": "[encoded data removed]",
      "text/plain": [
       "<matplotlib.figure.Figure at 0x7fa21b023630>"
      ]
     },
     "metadata": {
      "tags": []
     },
     "output_type": "display_data"
    }
   ],
   "source": [
    "df_29.plot(kind='scatter', x='SPY', y='XOM')\n",
    "beta_xom, alpha_xom = np.polyfit(df_29['SPY'], df_29['XOM'], 1)\n",
    "print('Slope (on SPY & XOM): {}'.format(beta_xom))\n",
    "print('Intercept (on SPY & XOM): {}'.format(alpha_xom))\n",
    "corr_spy_xom = df_29[['SPY', 'XOM']].corr(method='pearson')\n",
    "print('Correlation (on SPY & XOM)')\n",
    "print('{}\\n'.format(corr_spy_xom))\n",
    "plt.plot(df_29['SPY'], ((beta_xom*df_29['SPY']) + alpha_xom), color='r')\n",
    "plt.show()\n",
    "print()\n",
    "df_29.plot(kind='scatter', x='GOOG', y='MSFT')\n",
    "beta_msft, alpha_msft = np.polyfit(df_29['GOOG'], df_29['MSFT'], 1)\n",
    "print('Slope (on GOOG & MSFT): {}'.format(beta_msft))\n",
    "print('Intercept (on GOOG & MSFT): {}'.format(alpha_msft))\n",
    "corr_goog_msft = df_29[['GOOG', 'MSFT']].corr(method='pearson')\n",
    "print('Correlation (on GOOG & MSFT)')\n",
    "print('{}\\n'.format(corr_goog_msft))\n",
    "plt.plot(df_29['GOOG'], ((beta_msft*df_29['GOOG']) + alpha_msft), color='r')\n",
    "plt.show()"
   ]
  },
  {
   "cell_type": "code",
   "execution_count": 23,
   "metadata": {
    "colab": {
     "autoexec": {
      "startup": false,
      "wait_interval": 0
     },
     "base_uri": "https://localhost:8080/",
     "height": 744
    },
    "colab_type": "code",
    "executionInfo": {
     "elapsed": 1054,
     "status": "ok",
     "timestamp": 1525334235947,
     "user": {
      "displayName": "Mohammed Saifuddin",
      "photoUrl": "//lh5.googleusercontent.com/-WA85hItRjEY/AAAAAAAAAAI/AAAAAAAAAbE/UJEAr4wXn1Y/s50-c-k-no/photo.jpg",
      "userId": "107128453463956036616"
     },
     "user_tz": -330
    },
    "id": "5SEPiGEw6Frc",
    "outputId": "6c695595-f3c6-40b9-80f3-ce0bf618b369"
   },
   "outputs": [
    {
     "name": "stdout",
     "output_type": "stream",
     "text": [
      "Overall Correlation\n",
      "       IBM  GOOG  MSFT  TSLA   GLD  SPY  XOM\n",
      "IBM   1.00  0.60  0.62  0.26 -0.02 0.67 0.39\n",
      "GOOG  0.60  1.00  0.84  0.42  0.03 0.87 0.57\n",
      "MSFT  0.62  0.84  1.00  0.48 -0.00 0.89 0.48\n",
      "TSLA  0.26  0.42  0.48  1.00  0.07 0.51 0.37\n",
      "GLD  -0.02  0.03 -0.00  0.07  1.00 0.05 0.19\n",
      "SPY   0.67  0.87  0.89  0.51  0.05 1.00 0.66\n",
      "XOM   0.39  0.57  0.48  0.37  0.19 0.66 1.00\n",
      "\n"
     ]
    },
    {
     "data": {
      "image/png": "[encoded data removed]",
      "text/plain": [
       "<matplotlib.figure.Figure at 0x7fa21b196ef0>"
      ]
     },
     "metadata": {
      "tags": []
     },
     "output_type": "display_data"
    }
   ],
   "source": [
    "over_all_corr = df_29.corr(method='pearson')\n",
    "print('Overall Correlation')\n",
    "print('{}\\n'.format(over_all_corr))\n",
    "\n",
    "plt.figure(figsize=(10, 10))\n",
    "sns.heatmap(over_all_corr,\n",
    "            cbar=True,\n",
    "            square=True,\n",
    "            annot=True,\n",
    "            annot_kws={'size': 10},\n",
    "            xticklabels=symbols,\n",
    "            yticklabels=symbols,\n",
    "            cmap='coolwarm')\n",
    "plt.show()"
   ]
  },
  {
   "cell_type": "code",
   "execution_count": 24,
   "metadata": {
    "colab": {
     "autoexec": {
      "startup": false,
      "wait_interval": 0
     },
     "base_uri": "https://localhost:8080/",
     "height": 235
    },
    "colab_type": "code",
    "executionInfo": {
     "elapsed": 1761,
     "status": "ok",
     "timestamp": 1525334260030,
     "user": {
      "displayName": "Mohammed Saifuddin",
      "photoUrl": "//lh5.googleusercontent.com/-WA85hItRjEY/AAAAAAAAAAI/AAAAAAAAAbE/UJEAr4wXn1Y/s50-c-k-no/photo.jpg",
      "userId": "107128453463956036616"
     },
     "user_tz": -330
    },
    "id": "k4nP0mpOO9v_",
    "outputId": "20ffb714-e784-426b-c810-f5b7b0bbfed1"
   },
   "outputs": [
    {
     "data": {
      "text/html": [
       "<div>\n",
       "<style scoped>\n",
       "    .dataframe tbody tr th:only-of-type {\n",
       "        vertical-align: middle;\n",
       "    }\n",
       "\n",
       "    .dataframe tbody tr th {\n",
       "        vertical-align: top;\n",
       "    }\n",
       "\n",
       "    .dataframe thead th {\n",
       "        text-align: right;\n",
       "    }\n",
       "</style>\n",
       "<table border=\"1\" class=\"dataframe\">\n",
       "  <thead>\n",
       "    <tr style=\"text-align: right;\">\n",
       "      <th></th>\n",
       "      <th></th>\n",
       "      <th>Close</th>\n",
       "      <th>High</th>\n",
       "      <th>Low</th>\n",
       "      <th>Open</th>\n",
       "      <th>Volume</th>\n",
       "    </tr>\n",
       "    <tr>\n",
       "      <th>Symbol</th>\n",
       "      <th>Date</th>\n",
       "      <th></th>\n",
       "      <th></th>\n",
       "      <th></th>\n",
       "      <th></th>\n",
       "      <th></th>\n",
       "    </tr>\n",
       "  </thead>\n",
       "  <tbody>\n",
       "    <tr>\n",
       "      <th rowspan=\"5\" valign=\"top\">GOOG</th>\n",
       "      <th>2018-04-18</th>\n",
       "      <td>1072.08</td>\n",
       "      <td>1077.43</td>\n",
       "      <td>1066.22</td>\n",
       "      <td>1077.43</td>\n",
       "      <td>1344138</td>\n",
       "    </tr>\n",
       "    <tr>\n",
       "      <th>2018-04-19</th>\n",
       "      <td>1087.70</td>\n",
       "      <td>1094.16</td>\n",
       "      <td>1068.18</td>\n",
       "      <td>1069.40</td>\n",
       "      <td>1747671</td>\n",
       "    </tr>\n",
       "    <tr>\n",
       "      <th>2018-04-20</th>\n",
       "      <td>1072.96</td>\n",
       "      <td>1092.35</td>\n",
       "      <td>1069.57</td>\n",
       "      <td>1082.00</td>\n",
       "      <td>1889686</td>\n",
       "    </tr>\n",
       "    <tr>\n",
       "      <th>2018-04-23</th>\n",
       "      <td>1067.45</td>\n",
       "      <td>1082.72</td>\n",
       "      <td>1060.70</td>\n",
       "      <td>1077.86</td>\n",
       "      <td>2341258</td>\n",
       "    </tr>\n",
       "    <tr>\n",
       "      <th>2018-04-24</th>\n",
       "      <td>1019.98</td>\n",
       "      <td>1057.00</td>\n",
       "      <td>1010.59</td>\n",
       "      <td>1052.00</td>\n",
       "      <td>4760260</td>\n",
       "    </tr>\n",
       "  </tbody>\n",
       "</table>\n",
       "</div>"
      ],
      "text/plain": [
       "                    Close    High     Low    Open   Volume\n",
       "Symbol Date                                               \n",
       "GOOG   2018-04-18 1072.08 1077.43 1066.22 1077.43  1344138\n",
       "       2018-04-19 1087.70 1094.16 1068.18 1069.40  1747671\n",
       "       2018-04-20 1072.96 1092.35 1069.57 1082.00  1889686\n",
       "       2018-04-23 1067.45 1082.72 1060.70 1077.86  2341258\n",
       "       2018-04-24 1019.98 1057.00 1010.59 1052.00  4760260"
      ]
     },
     "execution_count": 24,
     "metadata": {
      "tags": []
     },
     "output_type": "execute_result"
    }
   ],
   "source": [
    "import pandas_datareader.data as web\n",
    "from datetime import datetime\n",
    "\n",
    "start = datetime(2010, 2, 9)\n",
    "end = datetime(2018, 4, 24)\n",
    "\n",
    "f = web.DataReader('GOOG', 'morningstar', start, end)\n",
    "f.tail()"
   ]
  },
  {
   "cell_type": "code",
   "execution_count": 27,
   "metadata": {
    "colab": {
     "autoexec": {
      "startup": false,
      "wait_interval": 0
     },
     "base_uri": "https://localhost:8080/",
     "height": 252
    },
    "colab_type": "code",
    "executionInfo": {
     "elapsed": 1165,
     "status": "ok",
     "timestamp": 1525334304747,
     "user": {
      "displayName": "Mohammed Saifuddin",
      "photoUrl": "//lh5.googleusercontent.com/-WA85hItRjEY/AAAAAAAAAAI/AAAAAAAAAbE/UJEAr4wXn1Y/s50-c-k-no/photo.jpg",
      "userId": "107128453463956036616"
     },
     "user_tz": -330
    },
    "id": "IXHiiWL7SdG7",
    "outputId": "55682ff8-fcfb-4bde-fec6-c2422bb873e7"
   },
   "outputs": [
    {
     "data": {
      "text/html": [
       "<div>\n",
       "<style scoped>\n",
       "    .dataframe tbody tr th:only-of-type {\n",
       "        vertical-align: middle;\n",
       "    }\n",
       "\n",
       "    .dataframe tbody tr th {\n",
       "        vertical-align: top;\n",
       "    }\n",
       "\n",
       "    .dataframe thead th {\n",
       "        text-align: right;\n",
       "    }\n",
       "</style>\n",
       "<table border=\"1\" class=\"dataframe\">\n",
       "  <thead>\n",
       "    <tr style=\"text-align: right;\">\n",
       "      <th></th>\n",
       "      <th>Open</th>\n",
       "      <th>High</th>\n",
       "      <th>Low</th>\n",
       "      <th>Close</th>\n",
       "      <th>Volume</th>\n",
       "      <th>ExDividend</th>\n",
       "      <th>SplitRatio</th>\n",
       "      <th>AdjOpen</th>\n",
       "      <th>AdjHigh</th>\n",
       "      <th>AdjLow</th>\n",
       "      <th>AdjClose</th>\n",
       "      <th>AdjVolume</th>\n",
       "    </tr>\n",
       "    <tr>\n",
       "      <th>Date</th>\n",
       "      <th></th>\n",
       "      <th></th>\n",
       "      <th></th>\n",
       "      <th></th>\n",
       "      <th></th>\n",
       "      <th></th>\n",
       "      <th></th>\n",
       "      <th></th>\n",
       "      <th></th>\n",
       "      <th></th>\n",
       "      <th></th>\n",
       "      <th></th>\n",
       "    </tr>\n",
       "  </thead>\n",
       "  <tbody>\n",
       "    <tr>\n",
       "      <th>2018-03-27</th>\n",
       "      <td>153.95</td>\n",
       "      <td>154.87</td>\n",
       "      <td>151.16</td>\n",
       "      <td>151.91</td>\n",
       "      <td>3810994.00</td>\n",
       "      <td>0.00</td>\n",
       "      <td>1.00</td>\n",
       "      <td>153.95</td>\n",
       "      <td>154.87</td>\n",
       "      <td>151.16</td>\n",
       "      <td>151.91</td>\n",
       "      <td>3810994.00</td>\n",
       "    </tr>\n",
       "    <tr>\n",
       "      <th>2018-03-26</th>\n",
       "      <td>151.21</td>\n",
       "      <td>153.66</td>\n",
       "      <td>150.28</td>\n",
       "      <td>153.37</td>\n",
       "      <td>4038586.00</td>\n",
       "      <td>0.00</td>\n",
       "      <td>1.00</td>\n",
       "      <td>151.21</td>\n",
       "      <td>153.66</td>\n",
       "      <td>150.28</td>\n",
       "      <td>153.37</td>\n",
       "      <td>4038586.00</td>\n",
       "    </tr>\n",
       "    <tr>\n",
       "      <th>2018-03-23</th>\n",
       "      <td>152.25</td>\n",
       "      <td>152.58</td>\n",
       "      <td>148.54</td>\n",
       "      <td>148.89</td>\n",
       "      <td>4389015.00</td>\n",
       "      <td>0.00</td>\n",
       "      <td>1.00</td>\n",
       "      <td>152.25</td>\n",
       "      <td>152.58</td>\n",
       "      <td>148.54</td>\n",
       "      <td>148.89</td>\n",
       "      <td>4389015.00</td>\n",
       "    </tr>\n",
       "    <tr>\n",
       "      <th>2018-03-22</th>\n",
       "      <td>155.00</td>\n",
       "      <td>155.25</td>\n",
       "      <td>152.00</td>\n",
       "      <td>152.09</td>\n",
       "      <td>4617371.00</td>\n",
       "      <td>0.00</td>\n",
       "      <td>1.00</td>\n",
       "      <td>155.00</td>\n",
       "      <td>155.25</td>\n",
       "      <td>152.00</td>\n",
       "      <td>152.09</td>\n",
       "      <td>4617371.00</td>\n",
       "    </tr>\n",
       "    <tr>\n",
       "      <th>2018-03-21</th>\n",
       "      <td>156.57</td>\n",
       "      <td>158.20</td>\n",
       "      <td>155.92</td>\n",
       "      <td>156.69</td>\n",
       "      <td>3240695.00</td>\n",
       "      <td>0.00</td>\n",
       "      <td>1.00</td>\n",
       "      <td>156.57</td>\n",
       "      <td>158.20</td>\n",
       "      <td>155.92</td>\n",
       "      <td>156.69</td>\n",
       "      <td>3240695.00</td>\n",
       "    </tr>\n",
       "  </tbody>\n",
       "</table>\n",
       "</div>"
      ],
      "text/plain": [
       "             Open   High    Low  Close     Volume  ExDividend  SplitRatio  \\\n",
       "Date                                                                        \n",
       "2018-03-27 153.95 154.87 151.16 151.91 3810994.00        0.00        1.00   \n",
       "2018-03-26 151.21 153.66 150.28 153.37 4038586.00        0.00        1.00   \n",
       "2018-03-23 152.25 152.58 148.54 148.89 4389015.00        0.00        1.00   \n",
       "2018-03-22 155.00 155.25 152.00 152.09 4617371.00        0.00        1.00   \n",
       "2018-03-21 156.57 158.20 155.92 156.69 3240695.00        0.00        1.00   \n",
       "\n",
       "            AdjOpen  AdjHigh  AdjLow  AdjClose  AdjVolume  \n",
       "Date                                                       \n",
       "2018-03-27   153.95   154.87  151.16    151.91 3810994.00  \n",
       "2018-03-26   151.21   153.66  150.28    153.37 4038586.00  \n",
       "2018-03-23   152.25   152.58  148.54    148.89 4389015.00  \n",
       "2018-03-22   155.00   155.25  152.00    152.09 4617371.00  \n",
       "2018-03-21   156.57   158.20  155.92    156.69 3240695.00  "
      ]
     },
     "metadata": {
      "tags": []
     },
     "output_type": "display_data"
    },
    {
     "data": {
      "text/plain": [
       "1065"
      ]
     },
     "execution_count": 27,
     "metadata": {
      "tags": []
     },
     "output_type": "execute_result"
    }
   ],
   "source": [
    "import pandas_datareader.data as web\n",
    "\n",
    "symbol = 'IBM'  # or 'AAPL.US'\n",
    "\n",
    "df = web.DataReader(symbol, 'quandl', '2014-01-01', '2018-04-30')\n",
    "display.display(df.head())\n",
    "len(df)"
   ]
  },
  {
   "cell_type": "code",
   "execution_count": 0,
   "metadata": {
    "colab": {
     "autoexec": {
      "startup": false,
      "wait_interval": 0
     }
    },
    "colab_type": "code",
    "id": "gnaV0VRN-5fi"
   },
   "outputs": [],
   "source": []
  }
 ],
 "metadata": {
  "colab": {
   "collapsed_sections": [],
   "default_view": {},
   "name": "initial_exercise.ipynb",
   "provenance": [],
   "version": "0.3.2",
   "views": {}
  },
  "kernelspec": {
   "display_name": "Python 3",
   "language": "python",
   "name": "python3"
  },
  "language_info": {
   "codemirror_mode": {
    "name": "ipython",
    "version": 3
   },
   "file_extension": ".py",
   "mimetype": "text/x-python",
   "name": "python",
   "nbconvert_exporter": "python",
   "pygments_lexer": "ipython3",
   "version": "3.6.5"
  }
 },
 "nbformat": 4,
 "nbformat_minor": 1
}
