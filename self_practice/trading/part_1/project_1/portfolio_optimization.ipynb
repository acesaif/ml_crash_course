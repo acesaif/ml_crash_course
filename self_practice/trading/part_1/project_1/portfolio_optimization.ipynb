{
 "cells": [
  {
   "cell_type": "markdown",
   "metadata": {},
   "source": [
    "### Import Dependencies"
   ]
  },
  {
   "cell_type": "code",
   "execution_count": 48,
   "metadata": {},
   "outputs": [],
   "source": [
    "import quandl\n",
    "\n",
    "import numpy as np\n",
    "import pandas as pd\n",
    "import seaborn as sns\n",
    "\n",
    "from IPython import display\n",
    "from matplotlib import style\n",
    "from matplotlib import pyplot as plt\n",
    "from scipy import optimize as opt\n",
    "\n",
    "pd.options.display.max_rows = 10\n",
    "pd.options.display.float_format = \"{:.2f}\".format\n",
    "style.use('fivethirtyeight')\n",
    "np.random.seed(42)\n",
    "\n",
    "%matplotlib inline\n",
    "%config InlineBackend.figure_format = 'retina'"
   ]
  },
  {
   "cell_type": "code",
   "execution_count": 53,
   "metadata": {},
   "outputs": [],
   "source": [
    "with open('../../auth.txt') as my_api:\n",
    "    key = my_api.read()\n",
    "\n",
    "key = key.split('\\n')\n",
    "key = key[0]\n",
    "\n",
    "quandl.ApiConfig.api_key = key"
   ]
  },
  {
   "cell_type": "code",
   "execution_count": 52,
   "metadata": {
    "scrolled": false
   },
   "outputs": [],
   "source": [
    "selected = ['TSLA', 'IBM', 'AAPL', 'GOOG']\n",
    "data = quandl.get_table(\n",
    "    'WIKI/PRICES',\n",
    "    ticker = selected,\n",
    "    qopts = {'columns': ['date', 'ticker', 'adj_close']},\n",
    "    date = {'gte': '2015-1-1', 'lte': '2017-12-31'},\n",
    "    paginate=True)\n",
    "data = data.set_index('date')\n",
    "data = data.pivot(columns='ticker')\n",
    "data = pd.DataFrame(data.head())"
   ]
  },
  {
   "cell_type": "code",
   "execution_count": null,
   "metadata": {},
   "outputs": [],
   "source": []
  }
 ],
 "metadata": {
  "kernelspec": {
   "display_name": "Python 3",
   "language": "python",
   "name": "python3"
  },
  "language_info": {
   "codemirror_mode": {
    "name": "ipython",
    "version": 3
   },
   "file_extension": ".py",
   "mimetype": "text/x-python",
   "name": "python",
   "nbconvert_exporter": "python",
   "pygments_lexer": "ipython3",
   "version": "3.6.5"
  }
 },
 "nbformat": 4,
 "nbformat_minor": 2
}
